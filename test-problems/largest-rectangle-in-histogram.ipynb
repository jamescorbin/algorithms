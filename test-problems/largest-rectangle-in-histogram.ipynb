{
 "cells": [
  {
   "cell_type": "code",
   "execution_count": null,
   "id": "6c74f4af-5aac-4601-a292-a03045f92722",
   "metadata": {},
   "outputs": [],
   "source": [
    "# DP\n",
    "def main(x):\n",
    "    # one level due to memory\n",
    "    memory = [y for y in x]\n",
    "    max_heights = [max(memory)]\n",
    "    for i in range(2, len(x)+1):\n",
    "        memory_ = []\n",
    "        for j in range(len(x)+1-i):\n",
    "            memory_.append(min(memory[j], memory[j+1]))\n",
    "        memory = memory_\n",
    "        max_heights.append(max(memory))\n",
    "    volumes = [(i+1)*y for i, y in enumerate(max_heights)]\n",
    "    return volumes"
   ]
  },
  {
   "cell_type": "code",
   "execution_count": null,
   "id": "fa172d05-4f93-42ad-9990-4df68ee73408",
   "metadata": {},
   "outputs": [],
   "source": [
    "from typing import List"
   ]
  },
  {
   "cell_type": "code",
   "execution_count": null,
   "id": "55899fca-a212-4f98-9164-62e21604ec39",
   "metadata": {},
   "outputs": [],
   "source": [
    "class Solution:\n",
    "    def largestRectangleArea(self, heights: List[int]) -> int:\n",
    "        n = len(heights)\n",
    "        \"\"\"\n",
    "        prev_memoh = [x for x in heights]\n",
    "        prev_memoa = [x for x in heights]\n",
    "        for w in range(2, n + 1):\n",
    "            memoh = [0 for x in range(n + 1 - w)]\n",
    "            memoa = [0 for x in range(n + 1 - w)]\n",
    "            for lp in range(n + 1 - w):                \n",
    "                h1, a1 = prev_memoh[lp], prev_memoa[lp]\n",
    "                h2, a2 = prev_memoh[lp+1], prev_memoa[lp+1]\n",
    "                h = h1 if h1 < h2 else h2\n",
    "                na = h * w   \n",
    "                mx = na if na > a1 else a1\n",
    "                mx = mx if mx > a2 else a2\n",
    "                memoh[lp] = h\n",
    "                memoa[lp] = mx\n",
    "            prev_memoh = memoh\n",
    "            prev_memoa = memoa\n",
    "        return prev_memoa[0]\n",
    "        \"\"\"\n",
    "\n",
    "        left_width = [0]\n",
    "        stack = [heights[0]]\n",
    "        for h in heights[1:]:\n",
    "            if (len(stack) > 0) and (h > stack[-1]):\n",
    "                stack = [h]\n",
    "            elif h <= stack[-1]:\n",
    "                stack.append(h)\n",
    "            left_width.append(len(stack) - 1)\n",
    "        right_width = [0]\n",
    "        stack = [heights[-1]]\n",
    "        for h in reversed(heights[:-1]):\n",
    "            if (len(stack) > 0) and (h > stack[-1]):\n",
    "                stack = [h]\n",
    "            elif h <= stack[-1]:\n",
    "                stack.append(h)\n",
    "            right_width.append(len(stack) - 1)\n",
    "        area = [heights[i] * (\n",
    "            left_width[i] + right_width[n-1-i] + 1)\n",
    "                for i in range(n)]\n",
    "        print(area)\n",
    "        return max(area)"
   ]
  },
  {
   "cell_type": "code",
   "execution_count": null,
   "id": "46c8f8a6-74bb-4c9d-84ab-4a525c726982",
   "metadata": {},
   "outputs": [],
   "source": [
    "x = [4,2,0,3,2,4,3,4]\n",
    "Solution().largestRectangleArea(x)"
   ]
  }
 ],
 "metadata": {
  "kernelspec": {
   "display_name": "Python 3",
   "language": "python",
   "name": "python3"
  },
  "language_info": {
   "codemirror_mode": {
    "name": "ipython",
    "version": 3
   },
   "file_extension": ".py",
   "mimetype": "text/x-python",
   "name": "python",
   "nbconvert_exporter": "python",
   "pygments_lexer": "ipython3",
   "version": "3.8.10"
  }
 },
 "nbformat": 4,
 "nbformat_minor": 5
}
