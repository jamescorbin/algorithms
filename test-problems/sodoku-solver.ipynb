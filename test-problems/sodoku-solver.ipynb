{
 "cells": [
  {
   "cell_type": "code",
   "execution_count": null,
   "metadata": {},
   "outputs": [],
   "source": [
    "from typing import List\n",
    "\n",
    "class Solution:\n",
    "    def minimumMountainRemovals(self, nums: List[int]) -> int:\n",
    "        n = len(nums)\n",
    "        right_decr = [0 for i in range(n)]\n",
    "        left_incr = [0 for i in range(n)]\n",
    "        p = n - 1\n",
    "        while p > -1:\n",
    "            val = nums[p]\n",
    "            p2 = p + 1\n",
    "            mx = 0\n",
    "            while (p2 < n):\n",
    "                if (val > nums[p2]) and (right_decr[p2] >= mx):\n",
    "                    mx = right_decr[p2] + 1\n",
    "                p2 += 1\n",
    "            right_decr[p] = mx\n",
    "            p -= 1\n",
    "        p = 0\n",
    "        while p < n:\n",
    "            val = nums[p]\n",
    "            p2 = p - 1\n",
    "            mx = 0\n",
    "            while (p2 > -1):\n",
    "                if (val > nums[p2]) and (left_incr[p2] >= mx):\n",
    "                    mx = left_incr[p2] + 1\n",
    "                p2 -= 1\n",
    "            left_incr[p] = mx\n",
    "            p += 1\n",
    "                    \n",
    "        print(right_decr, left_incr)\n",
    "        mx = 0\n",
    "        for i in range(1, n-1):\n",
    "            a = right_decr[i]\n",
    "            b = left_incr[i]\n",
    "            if (a > 0) and (b > 0) and (a + b > mx):\n",
    "                mx = a + b\n",
    "        return n - (mx + 1)"
   ]
  },
  {
   "cell_type": "code",
   "execution_count": null,
   "metadata": {},
   "outputs": [],
   "source": [
    "arr = [1, 3, 1]\n",
    "Solution().minimumMountainRemovals(arr)"
   ]
  }
 ],
 "metadata": {
  "kernelspec": {
   "display_name": "Python 3",
   "language": "python",
   "name": "python3"
  },
  "language_info": {
   "codemirror_mode": {
    "name": "ipython",
    "version": 3
   },
   "file_extension": ".py",
   "mimetype": "text/x-python",
   "name": "python",
   "nbconvert_exporter": "python",
   "pygments_lexer": "ipython3",
   "version": "3.8.10"
  }
 },
 "nbformat": 4,
 "nbformat_minor": 4
}
