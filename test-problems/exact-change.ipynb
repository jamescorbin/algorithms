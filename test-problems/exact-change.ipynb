{
 "cells": [
  {
   "cell_type": "code",
   "execution_count": 5,
   "id": "f1db01f0-9ea5-47e7-a7ad-ad3f623d13cb",
   "metadata": {},
   "outputs": [
    {
     "name": "stdout",
     "output_type": "stream",
     "text": [
      "75 [4, 17, 29]\n",
      "75 [4, 17, 29]\n",
      "75 [4, 17, 29]\n",
      "75 [4, 17, 29]\n",
      "71 [4, 17, 29]\n",
      "67 [4, 17, 29]\n",
      "63 [4, 17, 29]\n",
      "59 [4, 17, 29]\n",
      "55 [4, 17, 29]\n",
      "51 [4, 17, 29]\n",
      "47 [4, 17, 29]\n",
      "43 [4, 17, 29]\n",
      "39 [4, 17, 29]\n",
      "35 [4, 17, 29]\n",
      "31 [4, 17, 29]\n",
      "27 [4, 17, 29]\n",
      "23 [4, 17, 29]\n",
      "19 [4, 17, 29]\n",
      "15 [4, 17, 29]\n",
      "11 [4, 17, 29]\n",
      "7 [4, 17, 29]\n",
      "3 [4, 17, 29]\n",
      "58 [4, 17, 29]\n",
      "58 [4, 17, 29]\n",
      "54 [4, 17, 29]\n",
      "50 [4, 17, 29]\n",
      "46 [4, 17, 29]\n",
      "42 [4, 17, 29]\n",
      "38 [4, 17, 29]\n",
      "34 [4, 17, 29]\n",
      "30 [4, 17, 29]\n",
      "26 [4, 17, 29]\n",
      "22 [4, 17, 29]\n",
      "18 [4, 17, 29]\n",
      "14 [4, 17, 29]\n",
      "10 [4, 17, 29]\n",
      "6 [4, 17, 29]\n",
      "2 [4, 17, 29]\n",
      "41 [4, 17, 29]\n",
      "41 [4, 17, 29]\n",
      "37 [4, 17, 29]\n",
      "33 [4, 17, 29]\n",
      "29 [4, 17, 29]\n",
      "25 [4, 17, 29]\n",
      "21 [4, 17, 29]\n",
      "17 [4, 17, 29]\n",
      "13 [4, 17, 29]\n",
      "9 [4, 17, 29]\n",
      "5 [4, 17, 29]\n",
      "1 [4, 17, 29]\n",
      "24 [4, 17, 29]\n",
      "24 [4, 17, 29]\n",
      "20 [4, 17, 29]\n",
      "16 [4, 17, 29]\n",
      "12 [4, 17, 29]\n",
      "8 [4, 17, 29]\n",
      "4 [4, 17, 29]\n",
      "0 [4, 17, 29]\n"
     ]
    },
    {
     "data": {
      "text/plain": [
       "True"
      ]
     },
     "execution_count": 5,
     "metadata": {},
     "output_type": "execute_result"
    }
   ],
   "source": [
    "def _f(targetMoney, denominations, p):\n",
    "  # Write your code here\n",
    "    ret = False\n",
    "    print(targetMoney, denominations)\n",
    "    if targetMoney == 0:\n",
    "        ret = True\n",
    "    elif p >= 0:\n",
    "        denom = denominations[p]\n",
    "        p -=1\n",
    "        j = targetMoney // denom\n",
    "        for i in range(j+1):\n",
    "            residual = targetMoney - i * denom\n",
    "            v = _f(\n",
    "                residual,\n",
    "                denominations, p)\n",
    "            ret = ret | v\n",
    "            if ret:\n",
    "                break\n",
    "    return ret\n",
    "def canGetExactChange(targetMoney, denominations):\n",
    "    return _f(targetMoney, denominations,\n",
    "              len(denominations) - 1)\n",
    "\n",
    "target = 75\n",
    "denominations = [4, 17, 29]\n",
    "canGetExactChange(target, denominations)"
   ]
  }
 ],
 "metadata": {
  "kernelspec": {
   "display_name": "Python 3",
   "language": "python",
   "name": "python3"
  },
  "language_info": {
   "codemirror_mode": {
    "name": "ipython",
    "version": 3
   },
   "file_extension": ".py",
   "mimetype": "text/x-python",
   "name": "python",
   "nbconvert_exporter": "python",
   "pygments_lexer": "ipython3",
   "version": "3.8.10"
  }
 },
 "nbformat": 4,
 "nbformat_minor": 5
}
