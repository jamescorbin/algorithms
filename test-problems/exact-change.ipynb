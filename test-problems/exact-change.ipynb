{
 "cells": [
  {
   "cell_type": "code",
   "execution_count": null,
   "id": "f1db01f0-9ea5-47e7-a7ad-ad3f623d13cb",
   "metadata": {},
   "outputs": [],
   "source": [
    "def _f(targetMoney, denominations, p):\n",
    "  # Write your code here\n",
    "    ret = False\n",
    "    print(targetMoney, denominations)\n",
    "    if targetMoney == 0:\n",
    "        ret = True\n",
    "    elif p >= 0:\n",
    "        denom = denominations[p]\n",
    "        p -=1\n",
    "        j = targetMoney // denom\n",
    "        for i in range(j+1):\n",
    "            residual = targetMoney - i * denom\n",
    "            v = _f(\n",
    "                residual,\n",
    "                denominations, p)\n",
    "            ret = ret | v\n",
    "            if ret:\n",
    "                break\n",
    "    return ret\n",
    "def canGetExactChange(targetMoney, denominations):\n",
    "    return _f(targetMoney, denominations,\n",
    "              len(denominations) - 1)\n",
    "\n",
    "target = 75\n",
    "denominations = [4, 17, 29]\n",
    "canGetExactChange(target, denominations)"
   ]
  }
 ],
 "metadata": {
  "kernelspec": {
   "display_name": "Python 3",
   "language": "python",
   "name": "python3"
  },
  "language_info": {
   "codemirror_mode": {
    "name": "ipython",
    "version": 3
   },
   "file_extension": ".py",
   "mimetype": "text/x-python",
   "name": "python",
   "nbconvert_exporter": "python",
   "pygments_lexer": "ipython3",
   "version": "3.8.10"
  }
 },
 "nbformat": 4,
 "nbformat_minor": 5
}
