{
 "cells": [
  {
   "cell_type": "code",
   "execution_count": null,
   "id": "be0a4b8b-4aab-412b-9fb2-d0e1931924f1",
   "metadata": {},
   "outputs": [],
   "source": [
    "def left_max(x):\n",
    "    mx = 0\n",
    "    lm = [mx]\n",
    "    for i, j in enumerate(x[:-1]):\n",
    "        mx = max([j, mx])\n",
    "        lm.append(mx)\n",
    "    return lm\n",
    "\n",
    "def right_max(x):\n",
    "    return list(reversed(left_max(list(reversed(x)))))\n",
    "\n",
    "def height(x):\n",
    "    lm = left_max(x)\n",
    "    rm = right_max(x)\n",
    "    h = [0 for _ in x]\n",
    "    for i in range(len(x)):\n",
    "        h[i] = min(lm[i], rm[i])\n",
    "    return h\n",
    "\n",
    "def volume(x, h):\n",
    "    return [max(h[i] - x[i], 0) for i in range(len(x))] "
   ]
  },
  {
   "cell_type": "code",
   "execution_count": null,
   "id": "695dcc76-0d32-4b9d-a6cf-9ecba8229241",
   "metadata": {},
   "outputs": [],
   "source": [
    "import numpy as np\n",
    "x = np.random.randint(0, 100, 10)"
   ]
  },
  {
   "cell_type": "code",
   "execution_count": null,
   "id": "64170918-084f-46c5-8e9c-b2a1e79636cd",
   "metadata": {},
   "outputs": [],
   "source": [
    "volume(x, height(x))"
   ]
  }
 ],
 "metadata": {
  "kernelspec": {
   "display_name": "Python 3",
   "language": "python",
   "name": "python3"
  },
  "language_info": {
   "codemirror_mode": {
    "name": "ipython",
    "version": 3
   },
   "file_extension": ".py",
   "mimetype": "text/x-python",
   "name": "python",
   "nbconvert_exporter": "python",
   "pygments_lexer": "ipython3",
   "version": "3.8.10"
  }
 },
 "nbformat": 4,
 "nbformat_minor": 5
}
