{
 "cells": [
  {
   "cell_type": "raw",
   "id": "4ab83efb-af3c-48f4-bf6c-7ad6d0eff288",
   "metadata": {},
   "source": [
    "from typing import List\n",
    "\n",
    "def _rec(arr, position):\n",
    "    n = len(arr)\n",
    "    if position == n - 1:\n",
    "        ret = arr\n",
    "    else:\n",
    "        if position < n - 2:\n",
    "            is_descending = True\n",
    "            p0 = position + 1\n",
    "            prev = arr[p0]\n",
    "            while (p0 < n) and is_descending:\n",
    "                if arr[p0] > prev:\n",
    "                    is_descending = False\n",
    "                p0 += 1\n",
    "            if not is_descending:\n",
    "                ret = _rec(arr, position + 1)\n",
    "            else:\n",
    "                x = arr[position]                \n",
    "                tmp = sorted([x for x in arr[position:]])\n",
    "                idx = tmp.index(x)\n",
    "                arr[position:] = [tmp[idx + 1]] + tmp[:idx + 1] + tmp[idx + 2:]\n",
    "                ret = arr\n",
    "        else:\n",
    "            if arr[position] < arr[position + 1]:\n",
    "                arr[position], arr[position + 1] = arr[position + 1], arr[position]\n",
    "            ret = arr\n",
    "    return ret\n",
    "        \n",
    "class Solution:\n",
    "    def nextPermutation(self, nums: List[int]) -> None:\n",
    "        \"\"\"\n",
    "        Do not return anything, modify nums in-place instead.\n",
    "        \"\"\"\n",
    "        n = len(nums)\n",
    "        arr = sorted(zip(nums, range(n))) \n",
    "        # new array of nums replacing value with order in sorted\n",
    "        idxs = [0 for i in range(n)]\n",
    "        for i, (x, idx) in enumerate(arr):\n",
    "            idxs[idx] = i\n",
    "        if idxs == list(reversed(range(0, n))):\n",
    "            for i in range(n//2):\n",
    "                nums[i], nums[n-1-i] = nums[n-1-i], nums[i]\n",
    "        else:\n",
    "            print(idxs)\n",
    "            idxs = _rec(idxs, 0)\n",
    "            print(idxs)\n",
    "            for i, idx in enumerate(idxs):\n",
    "                nums[i] = arr[idx][0]\n",
    "        return nums\n",
    "    \n",
    "#arr = [1, 3, 2]\n",
    "#arr = [1]\n",
    "#arr = [1, 2]\n",
    "#arr = [4, 3, 2, 1]\n",
    "#arr = [5, 2, 4, 1, 3]\n",
    "#arr = [4, 3, 2, 1]\n",
    "#arr = [3, 2, 1]\n",
    "arr = [1, 5, 1]\n",
    "Solution().nextPermutation(arr)"
   ]
  },
  {
   "cell_type": "code",
   "execution_count": 60,
   "id": "03b1e7a4-006a-46a2-9116-24f4c07b36bb",
   "metadata": {},
   "outputs": [
    {
     "data": {
      "text/plain": [
       "[1, 3, 2]"
      ]
     },
     "execution_count": 60,
     "metadata": {},
     "output_type": "execute_result"
    }
   ],
   "source": [
    "def _rec(arr, position):\n",
    "    n = len(arr)\n",
    "    if position == n - 1:\n",
    "        ret = arr\n",
    "    else:\n",
    "        if position == 0:\n",
    "            is_descending = True\n",
    "            prev = arr[position]\n",
    "            p0 = position + 1\n",
    "            prev = arr[p0]\n",
    "            while (p0 < n) and is_descending:\n",
    "                if arr[p0] > prev:\n",
    "                    is_descending = False\n",
    "                p0 += 1\n",
    "            if is_descending:\n",
    "                x = arr[position]                \n",
    "                tmp = sorted([x for x in arr[position:]])\n",
    "                for i in range(n):\n",
    "                    arr[i] = tmp[i]\n",
    "        if position < n - 2:\n",
    "            is_descending = True\n",
    "            p0 = position + 1\n",
    "            prev = arr[p0]\n",
    "            while (p0 < n) and is_descending:\n",
    "                if arr[p0] > prev:\n",
    "                    is_descending = False\n",
    "                p0 += 1\n",
    "            if not is_descending:\n",
    "                ret = _rec(arr, position + 1)\n",
    "            else:\n",
    "                x = arr[position]                \n",
    "                tmp = sorted([x for x in arr[position:]])\n",
    "                idx = tmp.index(x)\n",
    "                nxtidx = idx + 1\n",
    "                while (nxtidx < len(tmp)) and (tmp[nxtidx] == x):\n",
    "                    nxtidx += 1\n",
    "                arr[position:] = [tmp[nxtidx]] + tmp[:nxtidx] + tmp[nxtidx+1:]\n",
    "                ret = arr\n",
    "        else:\n",
    "            if arr[position] < arr[position + 1]:\n",
    "                arr[position], arr[position + 1] = arr[position + 1], arr[position]\n",
    "            ret = arr\n",
    "    return ret\n",
    "        \n",
    "class Solution:\n",
    "    def nextPermutation(self, nums: List[int]) -> None:\n",
    "        \"\"\"\n",
    "        Do not return anything, modify nums in-place instead.\n",
    "        \"\"\"\n",
    "        n = len(nums)\n",
    "        _rec(nums, 0)\n",
    "        return nums\n",
    "    \n",
    "arr = [1, 3, 2]\n",
    "#arr = [1]\n",
    "#arr = [1, 2]\n",
    "#arr = [4, 3, 2, 1]\n",
    "#arr = [5, 2, 4, 1, 3]\n",
    "#arr = [4, 3, 2, 1]\n",
    "#arr = [3, 2, 1]\n",
    "#arr = [1, 5, 1]\n",
    "Solution().nextPermutation(arr)"
   ]
  },
  {
   "cell_type": "code",
   "execution_count": 78,
   "id": "9d9906d2-b5ec-4b32-86d2-24689162d9d9",
   "metadata": {},
   "outputs": [
    {
     "name": "stdout",
     "output_type": "stream",
     "text": [
      "2\n",
      "3\n"
     ]
    },
    {
     "data": {
      "text/plain": [
       "[3, 1, 2]"
      ]
     },
     "execution_count": 78,
     "metadata": {},
     "output_type": "execute_result"
    }
   ],
   "source": [
    "        \n",
    "class Solution:\n",
    "    def nextPermutation(self, nums: List[int]) -> None:\n",
    "        \"\"\"\n",
    "        Do not return anything, modify nums in-place instead.\n",
    "        \"\"\"\n",
    "        # identify longest descending subsequence from the end\n",
    "        n = len(nums)\n",
    "        if n > 0:\n",
    "            is_desc = [False for _ in range(n)]\n",
    "            is_desc[-1] = True\n",
    "            p0 = n - 2\n",
    "            prev = nums[n-1]\n",
    "            while (p0 >= 0) and (nums[p0] >= prev):\n",
    "                is_desc[p0] = True\n",
    "                prev = nums[p0]\n",
    "                p0 -= 1\n",
    "            if is_desc[0]:\n",
    "                for i in range(n//2):\n",
    "                    nums[i], nums[n-1-i] = nums[n-1-i], nums[i]\n",
    "            else:\n",
    "                x = nums[p0]\n",
    "                # find next biggest element\n",
    "                arr = sorted(nums[p0:])\n",
    "                xidx = arr.index(x)\n",
    "                while (arr[xidx] == x):\n",
    "                    xidx += 1\n",
    "                print(arr[xidx])\n",
    "                nums[p0:] = [arr[xidx]] + arr[:xidx] + arr[xidx+1:]\n",
    "        else:\n",
    "            pass\n",
    "        return nums\n",
    "    \n",
    "#arr = [1, 3, 2]\n",
    "#arr = [1]\n",
    "#arr = [1, 2]\n",
    "#arr = [4, 3, 2, 1]\n",
    "#arr = [5, 2, 4, 1, 3]\n",
    "#arr = [4, 3, 2, 1]\n",
    "#arr = [3, 2, 1]\n",
    "arr = [2, 3, 1]\n",
    "#arr = [1, 5, 1]\n",
    "Solution().nextPermutation(arr)"
   ]
  },
  {
   "cell_type": "code",
   "execution_count": 81,
   "id": "b02eb97b-9240-42ff-a438-7dcba7871550",
   "metadata": {},
   "outputs": [
    {
     "data": {
      "text/plain": [
       "[0]"
      ]
     },
     "execution_count": 81,
     "metadata": {},
     "output_type": "execute_result"
    }
   ],
   "source": [
    "list(range(-0, 0+1, 2))"
   ]
  },
  {
   "cell_type": "code",
   "execution_count": null,
   "id": "30305130-4c5c-4282-baa6-73aaca50ad5c",
   "metadata": {},
   "outputs": [],
   "source": []
  }
 ],
 "metadata": {
  "kernelspec": {
   "display_name": "Python 3",
   "language": "python",
   "name": "python3"
  },
  "language_info": {
   "codemirror_mode": {
    "name": "ipython",
    "version": 3
   },
   "file_extension": ".py",
   "mimetype": "text/x-python",
   "name": "python",
   "nbconvert_exporter": "python",
   "pygments_lexer": "ipython3",
   "version": "3.8.10"
  }
 },
 "nbformat": 4,
 "nbformat_minor": 5
}
