{
 "cells": [
  {
   "cell_type": "code",
   "execution_count": 8,
   "id": "c048ae68-f167-4ccf-990c-8c1303141a71",
   "metadata": {},
   "outputs": [],
   "source": [
    "import heapq\n",
    "\n",
    "def findMedian(arr):\n",
    "    lower = []\n",
    "    middle = []\n",
    "    upper = []\n",
    "    results = []    \n",
    "    for i in range(len(arr)):\n",
    "        x = arr[i]\n",
    "        if i == 0:\n",
    "            middle.append(x)\n",
    "            results.append(x)\n",
    "        elif i == 1:\n",
    "            x2 = middle.pop()\n",
    "            results.append((x+x2)//2)\n",
    "            xl = x if x < x2 else x2\n",
    "            xr = x if x >= x2 else x3\n",
    "            lower.append(-xl)\n",
    "            upper.append(xr)\n",
    "        else:\n",
    "            xl = -lower[0]\n",
    "            xu = upper[0]\n",
    "            if x < xl:\n",
    "                t = -heapq.heappushpop(lower, -x)\n",
    "            elif x > xu:\n",
    "                t = heapq.heappushpop(upper, x)\n",
    "            else:\n",
    "                t = x\n",
    "            if len(middle) == 0:\n",
    "                middle.append(t)\n",
    "                results.append(t)\n",
    "            else:\n",
    "                x1 = middle.pop()\n",
    "                x2 = t\n",
    "                results.append((x1+x2)//2)\n",
    "                if x2 < x1:\n",
    "                    tmp = x1\n",
    "                    x1 = x2\n",
    "                    x2 = tmp\n",
    "                heapq.heappush(upper, x2)\n",
    "                heapq.heappush(lower, -x1)        \n",
    "    return results"
   ]
  },
  {
   "cell_type": "code",
   "execution_count": 17,
   "id": "140f75d8-43d7-4aa7-9e2c-d01b886e00e4",
   "metadata": {},
   "outputs": [
    {
     "data": {
      "text/plain": [
       "[1,\n",
       " 1,\n",
       " 2,\n",
       " 2,\n",
       " 3,\n",
       " 3,\n",
       " 3,\n",
       " 3,\n",
       " 4,\n",
       " 3,\n",
       " 4,\n",
       " 3,\n",
       " 3,\n",
       " 3,\n",
       " 3,\n",
       " 2,\n",
       " 2,\n",
       " 2,\n",
       " 2,\n",
       " 1,\n",
       " 0,\n",
       " -1,\n",
       " -1,\n",
       " -1,\n",
       " -1,\n",
       " -3,\n",
       " -5,\n",
       " -8,\n",
       " -10,\n",
       " -11,\n",
       " -11,\n",
       " -11,\n",
       " -11,\n",
       " -56.0,\n",
       " -100.0,\n",
       " -5050.0,\n",
       " -10000.0,\n",
       " -10000.0]"
      ]
     },
     "execution_count": 17,
     "metadata": {},
     "output_type": "execute_result"
    }
   ],
   "source": [
    "arr = [1,2, 3, 4, 560, 3, 5, 6, 79, 2, 43, -11, -1, -5, 0, -10, -11, -1e8, -1e9, -1e2, -1e4, -1e4, -1e5, -1e5, -1e5, -1e5, -1e5, -1e5, -1e5, -1e5, -1e5, -1e5, -1e5, -1e5, -1e5, -1e5, -1e5, -1e5]\n",
    "findMedian(arr)"
   ]
  },
  {
   "cell_type": "code",
   "execution_count": null,
   "id": "1af4ad9c-077e-42ed-a400-939652e7f7d8",
   "metadata": {},
   "outputs": [],
   "source": []
  }
 ],
 "metadata": {
  "kernelspec": {
   "display_name": "Python 3",
   "language": "python",
   "name": "python3"
  },
  "language_info": {
   "codemirror_mode": {
    "name": "ipython",
    "version": 3
   },
   "file_extension": ".py",
   "mimetype": "text/x-python",
   "name": "python",
   "nbconvert_exporter": "python",
   "pygments_lexer": "ipython3",
   "version": "3.8.10"
  }
 },
 "nbformat": 4,
 "nbformat_minor": 5
}
