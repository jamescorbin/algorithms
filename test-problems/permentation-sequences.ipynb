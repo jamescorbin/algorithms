{
 "cells": [
  {
   "cell_type": "code",
   "execution_count": 1,
   "id": "79c22a1b-09c2-474b-9b43-5aa31843da3c",
   "metadata": {},
   "outputs": [],
   "source": [
    "import math\n",
    "\n",
    "def main(n, k):\n",
    "    k -= 1\n",
    "    x = list(range(1, n+1))\n",
    "    return _step(x, k)\n",
    "    \n",
    "def _step(x, k):\n",
    "    ret = \"\"\n",
    "    if len(x) == 0:\n",
    "        ret += \"\"\n",
    "    elif len(x) == 1:\n",
    "        v = x.pop()\n",
    "        ret += str(v)\n",
    "    elif k == 0:\n",
    "        s = \"\".join(str(w) for w in x)\n",
    "        x = []\n",
    "        ret += s\n",
    "    else:\n",
    "        y = math.factorial(len(x) - 1)\n",
    "        n = k // y\n",
    "        newk = k - y * n\n",
    "        v = x.pop(n)\n",
    "        print(f\"k {k} y {y} n {n} v {v}\")\n",
    "        ret = ret + str(v) + _step(x, newk)\n",
    "    return ret"
   ]
  },
  {
   "cell_type": "code",
   "execution_count": 3,
   "id": "089f24f4-0d45-4a52-bb2b-38202a48030a",
   "metadata": {},
   "outputs": [
    {
     "name": "stdout",
     "output_type": "stream",
     "text": [
      "k 8 y 6 n 1 v 2\n",
      "k 2 y 2 n 1 v 3\n"
     ]
    },
    {
     "data": {
      "text/plain": [
       "'2314'"
      ]
     },
     "execution_count": 3,
     "metadata": {},
     "output_type": "execute_result"
    }
   ],
   "source": [
    "main(4, 9)"
   ]
  }
 ],
 "metadata": {
  "kernelspec": {
   "display_name": "Python 3",
   "language": "python",
   "name": "python3"
  },
  "language_info": {
   "codemirror_mode": {
    "name": "ipython",
    "version": 3
   },
   "file_extension": ".py",
   "mimetype": "text/x-python",
   "name": "python",
   "nbconvert_exporter": "python",
   "pygments_lexer": "ipython3",
   "version": "3.8.10"
  }
 },
 "nbformat": 4,
 "nbformat_minor": 5
}
