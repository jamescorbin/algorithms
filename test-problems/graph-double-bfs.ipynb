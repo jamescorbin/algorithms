{
 "cells": [
  {
   "cell_type": "code",
   "execution_count": null,
   "id": "3b48e329-c176-4587-917f-f029214bb21b",
   "metadata": {},
   "outputs": [],
   "source": [
    "def _d1_perm(tup):\n",
    "    ret = []\n",
    "    n = len(tup)\n",
    "    for i in range(2, n+1):\n",
    "        for j in range(n + 1 - i):\n",
    "            a = tup[:j]\n",
    "            #b = reversed(tup[j:j+i])\n",
    "            b = tuple(reversed(tup[j:j+i]))\n",
    "            c = tup[j+i:]\n",
    "            print(i, j, a, b, c)\n",
    "            ntup = (a \n",
    "              + b\n",
    "              + c)\n",
    "            ret.append(tuple(ntup))\n",
    "    return ret\n",
    "  \n",
    "def _twosided_bfs(arr, target):\n",
    "    cond = True\n",
    "    tape1 = [arr]\n",
    "    tape2 = [target]\n",
    "    set1 = set([arr])\n",
    "    set2 = set([target])\n",
    "    dist = 0\n",
    "    while cond:\n",
    "        ntape1 = []\n",
    "        for tup in tape1:\n",
    "            ntape1.extend(_d1_perm(tup))\n",
    "        ntape1 = set(ntape1) - set1\n",
    "        set1 = set1 | ntape1\n",
    "        tape1 = list(ntape1)\n",
    "        dist += 1\n",
    "        if len(set1 & set2) > 0:\n",
    "            break\n",
    "        ntape2 = []\n",
    "        for tup in tape2:\n",
    "            ntape2.extend(_d1_perm(tup))\n",
    "        ntape2 = set(ntape2) - set2\n",
    "        set2 = set2 | ntape2\n",
    "        tape2 = list(ntape2)\n",
    "        dist += 1\n",
    "        if len(set1 & set2) > 0:\n",
    "            break\n",
    "        if len(tape1) == 0:\n",
    "            cond = False\n",
    "    return dist\n",
    "      \n",
    "def minOperations(arr):\n",
    "    n = len(arr)\n",
    "    target = tuple(range(1, 1+n))\n",
    "    return _twosided_bfs(tuple(arr), target)\n",
    "  # Write your code here"
   ]
  }
 ],
 "metadata": {
  "kernelspec": {
   "display_name": "Python 3",
   "language": "python",
   "name": "python3"
  },
  "language_info": {
   "codemirror_mode": {
    "name": "ipython",
    "version": 3
   },
   "file_extension": ".py",
   "mimetype": "text/x-python",
   "name": "python",
   "nbconvert_exporter": "python",
   "pygments_lexer": "ipython3",
   "version": "3.8.10"
  }
 },
 "nbformat": 4,
 "nbformat_minor": 5
}
