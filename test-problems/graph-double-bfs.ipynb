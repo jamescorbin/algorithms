{
 "cells": [
  {
   "cell_type": "code",
   "execution_count": 40,
   "id": "3b48e329-c176-4587-917f-f029214bb21b",
   "metadata": {},
   "outputs": [],
   "source": [
    "def _d1_perm(tup):\n",
    "    ret = []\n",
    "    n = len(tup)\n",
    "    for i in range(2, n+1):\n",
    "        for j in range(n + 1 - i):\n",
    "            a = tup[:j]\n",
    "            #b = reversed(tup[j:j+i])\n",
    "            b = tuple(reversed(tup[j:j+i]))\n",
    "            c = tup[j+i:]\n",
    "            print(i, j, a, b, c)\n",
    "            ntup = (a \n",
    "              + b\n",
    "              + c)\n",
    "            ret.append(tuple(ntup))\n",
    "    return ret\n",
    "  \n",
    "def _twosided_bfs(arr, target):\n",
    "    cond = True\n",
    "    tape1 = [arr]\n",
    "    tape2 = [target]\n",
    "    set1 = set([arr])\n",
    "    set2 = set([target])\n",
    "    dist = 0\n",
    "    while cond:\n",
    "        ntape1 = []\n",
    "        for tup in tape1:\n",
    "            ntape1.extend(_d1_perm(tup))\n",
    "        ntape1 = set(ntape1) - set1\n",
    "        set1 = set1 | ntape1\n",
    "        tape1 = list(ntape1)\n",
    "        dist += 1\n",
    "        if len(set1 & set2) > 0:\n",
    "            break\n",
    "        ntape2 = []\n",
    "        for tup in tape2:\n",
    "            ntape2.extend(_d1_perm(tup))\n",
    "        ntape2 = set(ntape2) - set2\n",
    "        set2 = set2 | ntape2\n",
    "        tape2 = list(ntape2)\n",
    "        dist += 1\n",
    "        if len(set1 & set2) > 0:\n",
    "            break\n",
    "        if len(tape1) == 0:\n",
    "            cond = False\n",
    "    return dist\n",
    "      \n",
    "def minOperations(arr):\n",
    "    n = len(arr)\n",
    "    target = tuple(range(1, 1+n))\n",
    "    return _twosided_bfs(tuple(arr), target)\n",
    "  # Write your code here"
   ]
  },
  {
   "cell_type": "code",
   "execution_count": 41,
   "id": "a516fbb6-0482-442c-8140-05ab2dc89996",
   "metadata": {},
   "outputs": [
    {
     "name": "stdout",
     "output_type": "stream",
     "text": [
      "2 0 () () (3, 4, 5)\n",
      "2 1 (1,) (3, 2) (4, 5)\n",
      "2 2 (1, 2) (4, 3) (5,)\n",
      "2 3 (1, 2, 3) (5, 4) ()\n",
      "3 0 () () (4, 5)\n",
      "3 1 (1,) (4, 3, 2) (5,)\n",
      "3 2 (1, 2) (5, 4, 3) ()\n",
      "4 0 () () (5,)\n",
      "4 1 (1,) (5, 4, 3, 2) ()\n",
      "5 0 () () ()\n"
     ]
    },
    {
     "data": {
      "text/plain": [
       "[(3, 4, 5),\n",
       " (1, 3, 2, 4, 5),\n",
       " (1, 2, 4, 3, 5),\n",
       " (1, 2, 3, 5, 4),\n",
       " (4, 5),\n",
       " (1, 4, 3, 2, 5),\n",
       " (1, 2, 5, 4, 3),\n",
       " (5,),\n",
       " (1, 5, 4, 3, 2),\n",
       " ()]"
      ]
     },
     "execution_count": 41,
     "metadata": {},
     "output_type": "execute_result"
    }
   ],
   "source": [
    "_d1_perm((1, 2, 3, 4, 5))"
   ]
  },
  {
   "cell_type": "code",
   "execution_count": 14,
   "id": "aab275ec-99c8-4c52-8156-64e212e13e17",
   "metadata": {},
   "outputs": [
    {
     "data": {
      "text/plain": [
       "[4, 3]"
      ]
     },
     "execution_count": 14,
     "metadata": {},
     "output_type": "execute_result"
    }
   ],
   "source": [
    "ar = [1, 2, 3, 4, 5]\n",
    "ar[3:1:-1]"
   ]
  }
 ],
 "metadata": {
  "kernelspec": {
   "display_name": "Python 3",
   "language": "python",
   "name": "python3"
  },
  "language_info": {
   "codemirror_mode": {
    "name": "ipython",
    "version": 3
   },
   "file_extension": ".py",
   "mimetype": "text/x-python",
   "name": "python",
   "nbconvert_exporter": "python",
   "pygments_lexer": "ipython3",
   "version": "3.8.10"
  }
 },
 "nbformat": 4,
 "nbformat_minor": 5
}
