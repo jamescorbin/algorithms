{
 "cells": [
  {
   "cell_type": "code",
   "execution_count": 3,
   "id": "95ace32a-d308-4b09-8d2a-fdf3decc1ce1",
   "metadata": {},
   "outputs": [],
   "source": [
    "class Solution:\n",
    "    def longestWPI(self, hours: List[int]) -> int:\n",
    "        max_wpi, sm, first_preimage = 0, 0, {}\n",
    "        for day_idx, hrs_today in enumerate(hours):\n",
    "            sm += 1 if hrs_today > 8 else -1\n",
    "            if sm > 0: \n",
    "                max_wpi = day_idx + 1\n",
    "            if not sm in first_preimage: \n",
    "                first_preimage[sm] = day_idx\n",
    "            if sm - 1 in first_preimage:\n",
    "                max_wpi = max(max_wpi, day_idx - first_preimage[sm - 1])    \n",
    "        return max_wpi"
   ]
  },
  {
   "cell_type": "code",
   "execution_count": 4,
   "id": "c790458c-d351-4627-ae62-1c4ddd3b8e24",
   "metadata": {},
   "outputs": [
    {
     "name": "stdout",
     "output_type": "stream",
     "text": [
      "4 4\n",
      "4 4\n",
      "4 4\n"
     ]
    },
    {
     "data": {
      "text/plain": [
       "4"
      ]
     },
     "execution_count": 4,
     "metadata": {},
     "output_type": "execute_result"
    }
   ],
   "source": [
    "arr = [9,6,1,6,2]\n",
    "Solution().movesToMakeZigzag(arr)"
   ]
  },
  {
   "cell_type": "code",
   "execution_count": 5,
   "id": "33655f3d-af16-43aa-9351-c3089429e497",
   "metadata": {},
   "outputs": [],
   "source": [
    "from typing import List"
   ]
  },
  {
   "cell_type": "code",
   "execution_count": 6,
   "id": "e6fa173c-9af8-4e1e-9a25-a1c12cc03a91",
   "metadata": {},
   "outputs": [],
   "source": [
    "import collections\n",
    "class Solution:\n",
    "    def rearrangeBarcodes(self, barcodes: List[int]) -> List[int]:\n",
    "        n = len(barcodes)\n",
    "        cnt = collections.Counter(barcodes)\n",
    "        ret = [0 for i in range(n)]\n",
    "        if n % 2 == 0:\n",
    "            fillorder = ([2 * i for i in range(n//2)] \n",
    "                         + [2 * i + 1 for i in range(n//2)])\n",
    "        else:\n",
    "            fillorder = ([2 * i + 1for i in range(n//2+1)] \n",
    "                         + [2 * i  for i in range(n//2)])\n",
    "        counter = 0\n",
    "        print(\n",
    "        for key, val in cnt.items():\n",
    "            for j in range(val):\n",
    "                ret[fillorder[counter]] = key\n",
    "                counter += 1\n",
    "        return ret"
   ]
  },
  {
   "cell_type": "code",
   "execution_count": 22,
   "id": "22857970-c331-4fde-9d96-90016660e58e",
   "metadata": {},
   "outputs": [],
   "source": [
    "class Solution:\n",
    "    def threeSumClosest(self, nums: List[int], target: int) -> int:\n",
    "        n = len(nums)\n",
    "        nums = sorted(nums)\n",
    "        # assume x1 <= x2 <= x3\n",
    "        p1 = 0\n",
    "        inf = float(\"inf\")\n",
    "        mn = inf\n",
    "        k = target\n",
    "        cond = True\n",
    "        sm = -1\n",
    "        while (p1 < n - 2) and cond:\n",
    "            x1 = nums[p1]    \n",
    "            p2 = p1 + 1\n",
    "            p3 = p2 + 1\n",
    "            while (p2 < n - 1) and (p2 < p3) and (p3 < n) and cond:\n",
    "                x2 = nums[p2]\n",
    "                while (p3 > p2) and (x1 + x2 + nums[p3] >= k):\n",
    "                    p3 -= 1\n",
    "                if p3 == p2:\n",
    "                    p3 += 1\n",
    "                while (p3 < n) and (x1 + x2 + nums[p3] <= k):\n",
    "                    p3 += 1\n",
    "                p3 = p3 - 1 if p3 == n else p3\n",
    "                val1 = x1 + x2 + nums[p3] - k\n",
    "                val1 = -val1 if val1 < 0 else val1\n",
    "                if val1 < mn:\n",
    "                    mn = val1\n",
    "                    sm = x1 + x2 + nums[p3]\n",
    "                val2 = k - (x1 + x2 + nums[p3-1]) if (p3 - 1 > p2) else inf\n",
    "                val2 = -val2 if val2 < 0 else val2\n",
    "                if val2 < mn:\n",
    "                    mn = val2\n",
    "                    sm = x1 + x2 + nums[p3 - 1]\n",
    "                if mn == 0:\n",
    "                    cond = False\n",
    "                p2 += 1\n",
    "            p1 += 1\n",
    "        return sm\n",
    "        "
   ]
  },
  {
   "cell_type": "code",
   "execution_count": 23,
   "id": "8663a55b-868d-4d1b-b70f-5a83883f287f",
   "metadata": {},
   "outputs": [
    {
     "name": "stdout",
     "output_type": "stream",
     "text": [
      "p1: 0 p2: 1 p3: 3 x1: -4 x2: -1 x3: 2 val1: 4 val2: 5  1\n",
      "p1: 0 p2: 2 p3: 3 x1: -4 x2: 1 x3: 2 val1: 2 val2: inf  1\n",
      "p1: 1 p2: 2 p3: 3 x1: -1 x2: 1 x3: 2 val1: 1 val2: inf  1\n"
     ]
    },
    {
     "data": {
      "text/plain": [
       "1"
      ]
     },
     "execution_count": 23,
     "metadata": {},
     "output_type": "execute_result"
    }
   ],
   "source": [
    "arr =[-1,2,1,-4]\n",
    "k = 1\n",
    "Solution().threeSumClosest(arr, k)"
   ]
  },
  {
   "cell_type": "code",
   "execution_count": 26,
   "id": "a8904fd2-386d-4e3f-8b6a-0b0d65fa4d2f",
   "metadata": {},
   "outputs": [],
   "source": [
    "class Solution:\n",
    "    def largestRectangleArea(self, heights: List[int]) -> int:\n",
    "        n = len(heights)\n",
    "        memo = [[(0, 0) for i in range(n)] for j in range(n)]\n",
    "        memo[0] = [(x, x) for x in heights]\n",
    "        for w in range(2, n+1):\n",
    "            idx = w - 1\n",
    "            for lp in range(n + 1 - w):                \n",
    "                h1, a1 = memo[idx-1][lp]\n",
    "                h2, a2 = memo[idx-1][lp+1]\n",
    "                hlp = heights[lp]\n",
    "                na = min(hlp, h2) * w                      \n",
    "                memo[idx][lp] = (min(h1, h2), max(na, a1, a2))\n",
    "        print(memo)\n",
    "        return memo[-1][0][1]"
   ]
  },
  {
   "cell_type": "code",
   "execution_count": 27,
   "id": "94440264-0558-4988-aec4-31f5b3cb1426",
   "metadata": {},
   "outputs": [
    {
     "name": "stdout",
     "output_type": "stream",
     "text": [
      "[[(2, 2), (1, 1), (5, 5), (6, 6), (2, 2), (3, 3)], [(1, 2), (1, 5), (5, 10), (2, 6), (2, 4), (0, 0)], [(1, 5), (1, 10), (2, 10), (2, 6), (0, 0), (0, 0)], [(1, 10), (1, 10), (2, 10), (0, 0), (0, 0), (0, 0)], [(1, 10), (1, 10), (0, 0), (0, 0), (0, 0), (0, 0)], [(1, 10), (0, 0), (0, 0), (0, 0), (0, 0), (0, 0)]]\n"
     ]
    },
    {
     "data": {
      "text/plain": [
       "10"
      ]
     },
     "execution_count": 27,
     "metadata": {},
     "output_type": "execute_result"
    }
   ],
   "source": [
    "arr = [2,1,5,6,2,3]\n",
    "Solution().largestRectangleArea(arr)"
   ]
  }
 ],
 "metadata": {
  "kernelspec": {
   "display_name": "Python 3",
   "language": "python",
   "name": "python3"
  },
  "language_info": {
   "codemirror_mode": {
    "name": "ipython",
    "version": 3
   },
   "file_extension": ".py",
   "mimetype": "text/x-python",
   "name": "python",
   "nbconvert_exporter": "python",
   "pygments_lexer": "ipython3",
   "version": "3.8.10"
  }
 },
 "nbformat": 4,
 "nbformat_minor": 5
}
