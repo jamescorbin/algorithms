{
 "cells": [
  {
   "cell_type": "code",
   "execution_count": 1,
   "id": "a9b04240-c1d7-49f8-bf41-ed8b3c1da36a",
   "metadata": {},
   "outputs": [],
   "source": [
    "def _rec(c_intervals, s, idx, lftsum):\n",
    "    m = len(c_intervals)\n",
    "    if lftsum < 0:\n",
    "        ret = False\n",
    "    elif idx == m - 1:\n",
    "        if lftsum == 0:\n",
    "            ret = True\n",
    "        else:\n",
    "            ret = False\n",
    "    else:\n",
    "        ret = False\n",
    "        if idx == 0:\n",
    "            d = 0\n",
    "        else:\n",
    "            d = 1 if s[c_intervals[idx]] == \"(\" else -1\n",
    "        width = c_intervals[idx+1] - c_intervals[idx] - 1\n",
    "        if width > 0:\n",
    "            possvals = list(range(-width, width+1, 2))\n",
    "            for val in possvals:\n",
    "                if val + lftsum + d >= 0:\n",
    "                    ret = ret | _rec(c_intervals, s, idx+1, val + lftsum + d)\n",
    "        else:\n",
    "            if lftsum + d >= 0:\n",
    "                ret = _rec(c_intervals, s, idx+1, lftsum + d)\n",
    "    return ret\n",
    "        \n",
    "\n",
    "class Solution:\n",
    "    def canBeValid(self, s: str, locked: str) -> bool:\n",
    "        # this is an interval partition problem\n",
    "        \n",
    "        n = len(locked)\n",
    "        if n > 0:\n",
    "            c_intervals = [i for i, x in enumerate(locked) if x == \"1\"]\n",
    "            c_intervals.insert(n, n)\n",
    "            c_intervals.insert(0, -1)\n",
    "            ret = _rec(c_intervals, s, 0, 0)\n",
    "        else:\n",
    "            ret = True\n",
    "        return ret\n",
    "    \n",
    "s = \"())(()(()(())()())(())((())(()())((())))))(((((((())(()))))(\"\n",
    "lock = \"100011110110011011010111100111011101111110000101001101001111\"\n"
   ]
  },
  {
   "cell_type": "code",
   "execution_count": null,
   "id": "c8ce4b7c-cb30-49da-9d35-91334dee53b9",
   "metadata": {},
   "outputs": [],
   "source": [
    "locked '(': low+1, high+1\n",
    "locked ')': low-1, high-1\n",
    "unlocked: low-1, high+1\n",
    "\n",
    "If high < 0, return false\n",
    "if low < 0, low+2 (flip a choice from ')' to '(')\n",
    "\n",
    "At the end, check if low==0"
   ]
  },
  {
   "cell_type": "code",
   "execution_count": 3,
   "id": "463c1b4d-611c-41e2-8f5a-919bf9729b82",
   "metadata": {},
   "outputs": [
    {
     "name": "stdout",
     "output_type": "stream",
     "text": [
      "1 1\n",
      "2 0\n",
      "1 1\n"
     ]
    },
    {
     "data": {
      "text/plain": [
       "False"
      ]
     },
     "execution_count": 3,
     "metadata": {},
     "output_type": "execute_result"
    }
   ],
   "source": [
    "class Solution:\n",
    "    def checkValidString(self, s: str) -> bool:\n",
    "        ub = 0\n",
    "        lb = 0\n",
    "        p = 0\n",
    "        n = len(s)\n",
    "        if n > 0:\n",
    "            cond = True\n",
    "            while (p < n) and (cond):\n",
    "                if s[p] == \"*\":\n",
    "                    ub += 1\n",
    "                    lb -= 1\n",
    "                elif s[p] == \"(\":\n",
    "                    ub += 1\n",
    "                    lb += 1\n",
    "                else:\n",
    "                    ub -= 1\n",
    "                    lb -= 1\n",
    "                if ub < 0:\n",
    "                    cond = False\n",
    "                if lb < 0:\n",
    "                    lb += 2\n",
    "                p += 1\n",
    "                print(ub, lb)\n",
    "            ret = cond and (lb == 0)\n",
    "        else:\n",
    "            ret = True\n",
    "        return ret\n",
    "    \n",
    "s = \"(*)\"\n",
    "Solution().checkValidString(s)"
   ]
  },
  {
   "cell_type": "code",
   "execution_count": 9,
   "id": "c4232f30-1f12-4ff6-9662-e1b45e0e4b43",
   "metadata": {},
   "outputs": [
    {
     "name": "stdout",
     "output_type": "stream",
     "text": [
      "(*)) 0 0\n",
      "(*)) 1 1\n",
      "(*)) 2 0\n",
      "(*)) 3 -1\n",
      "check 2 2\n",
      "(*)) 2 2\n",
      "(*)) 3 1\n",
      "(*)) 4 0\n",
      "(*)) 2 1\n",
      "(*)) 3 0\n",
      "(*)) 4 -1\n"
     ]
    },
    {
     "data": {
      "text/plain": [
       "True"
      ]
     },
     "execution_count": 9,
     "metadata": {},
     "output_type": "execute_result"
    }
   ],
   "source": [
    "def _rec(s, idx, lsum):\n",
    "    print(s, idx, lsum)\n",
    "    if lsum < 0:\n",
    "        ret = False\n",
    "    elif lsum > len(s) - idx:\n",
    "        ret = False\n",
    "    elif idx == len(s):\n",
    "        ret = (lsum == 0)\n",
    "    else:\n",
    "        c = s[idx]\n",
    "        if s[idx] == \"(\":\n",
    "            ret = _rec(s, idx+1, lsum + 1)\n",
    "        elif s[idx] == \")\":\n",
    "            ret = _rec(s, idx+1, lsum - 1)\n",
    "        else:\n",
    "            ret = False\n",
    "            if lsum > 0:\n",
    "                ret = ret | _rec(s, idx+1, lsum-1)\n",
    "            if lsum + 1 <= len(s) - (idx + 1):\n",
    "                ret = ret | _rec(s, idx+1, lsum+1)\n",
    "            ret = ret | _rec(s, idx+1, lsum)\n",
    "    return ret\n",
    "\n",
    "class Solution:\n",
    "    def checkValidString(self, s: str) -> bool:\n",
    "        ub = 0\n",
    "        lb = 0\n",
    "        p = 0\n",
    "        n = len(s)\n",
    "        if n > 0:\n",
    "            ret = _rec(s, 0, 0)\n",
    "        else:\n",
    "            ret = True\n",
    "        return ret\n",
    "    \n",
    "s = \"(*))\"\n",
    "Solution().checkValidString(s)"
   ]
  },
  {
   "cell_type": "code",
   "execution_count": null,
   "id": "40eab7de-f58f-433c-a608-14a4789de516",
   "metadata": {},
   "outputs": [],
   "source": [
    "\n",
    "class Solution:\n",
    "    def checkValidString(self, s: str) -> bool:\n",
    "        # bank stars on the stack if you can, otherwise pop star\n",
    "        n = len(s)\n",
    "        lpstack = []\n",
    "        starstack = []\n",
    "        if n > 0:\n",
    "            p = 0\n",
    "            cond = True\n",
    "            while (p < n) and cond:\n",
    "                if s[p] == \"(\":\n",
    "                    lpstack.append(p)\n",
    "                elif s[p] == \"*\":\n",
    "                    starstack.append(p)\n",
    "                else:\n",
    "                    if len(lpstack) > 0:\n",
    "                        lpstack.pop()\n",
    "                    elif len(starstack) > 0:\n",
    "                        starstack.pop()\n",
    "                    else:\n",
    "                        cond = False\n",
    "                p += 1\n",
    "            if cond:\n",
    "                cond2 = True\n",
    "                if len(lpstack) > len(starstack):\n",
    "                    cond2 = False\n",
    "                while (len(lpstack) > 0) and (len(starstack) > 0) and cond2:\n",
    "                    a, b = lpstack.pop(), starstack.pop()\n",
    "                    if a > b:\n",
    "                        cond2 = False\n",
    "                ret = cond2\n",
    "            else:\n",
    "                ret = cond\n",
    "        else:\n",
    "            ret = True\n",
    "        return ret\n",
    "        "
   ]
  }
 ],
 "metadata": {
  "kernelspec": {
   "display_name": "Python 3",
   "language": "python",
   "name": "python3"
  },
  "language_info": {
   "codemirror_mode": {
    "name": "ipython",
    "version": 3
   },
   "file_extension": ".py",
   "mimetype": "text/x-python",
   "name": "python",
   "nbconvert_exporter": "python",
   "pygments_lexer": "ipython3",
   "version": "3.8.10"
  }
 },
 "nbformat": 4,
 "nbformat_minor": 5
}
