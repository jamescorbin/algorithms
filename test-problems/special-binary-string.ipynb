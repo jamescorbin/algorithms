{
 "cells": [
  {
   "cell_type": "code",
   "execution_count": 19,
   "id": "bd15b6f0-ea59-484a-83b6-3dfd4daedf4b",
   "metadata": {},
   "outputs": [
    {
     "name": "stdout",
     "output_type": "stream",
     "text": [
      "8\n",
      "[(1, 2), (4, 5), (3, 6)]\n",
      "['10', '10', '1100']\n",
      "[[(3, 6), (4, 5)], [(1, 2)]]\n"
     ]
    }
   ],
   "source": [
    "class Solution:\n",
    "    def makeLargestSpecial(self, s: str) -> str:\n",
    "        # calculate binary values of each prefix\n",
    "        # rather, score each prefix by number of 1s leading\n",
    "        n = len(s)\n",
    "        sets = []\n",
    "        sm = 0\n",
    "        p = 0\n",
    "        # lps last previously seen\n",
    "        lps = {}\n",
    "        while (p < n):\n",
    "            c = s[p]\n",
    "            if c == \"1\":\n",
    "                sm += 1\n",
    "            else:\n",
    "                sm -= 1\n",
    "                if sm in lps:\n",
    "                    sets.append((lps[sm], p))\n",
    "            p += 1\n",
    "            lps[sm] = p\n",
    "        print(sets)\n",
    "        print([(s[x:y+1]) for x, y in sets])\n",
    "        groupings = []\n",
    "        p1 = len(sets) - 1\n",
    "        while p1 > - 1:\n",
    "            grp = [sets[p1]]\n",
    "            st = sets[p1]\n",
    "            p2 = p1 - 1\n",
    "            while (p2 > -1) and (sets[p2][0] >= st[0]):\n",
    "                grp.append(sets[p2])\n",
    "                p2 -= 1\n",
    "            groupings.append(grp)\n",
    "            p1 = p2\n",
    "        print(groupings)\n",
    "s = \"11011000\"\n",
    "print(len(s))\n",
    "Solution().makeLargestSpecial(s)"
   ]
  },
  {
   "cell_type": "code",
   "execution_count": 68,
   "id": "26ea599b-77c7-42ef-8b8c-1d92ed72d470",
   "metadata": {},
   "outputs": [
    {
     "name": "stdout",
     "output_type": "stream",
     "text": [
      "8\n"
     ]
    },
    {
     "data": {
      "text/plain": [
       "'11100100'"
      ]
     },
     "execution_count": 68,
     "metadata": {},
     "output_type": "execute_result"
    }
   ],
   "source": [
    "def _rec(s):\n",
    "    n = len(s)\n",
    "    sets = []\n",
    "    sm = 0\n",
    "    p = 0\n",
    "    lps = {}\n",
    "    while (p < n):\n",
    "        lps[sm] = p\n",
    "        sm = sm + 1 if s[p] == \"1\" else sm - 1\n",
    "        if (sm == 0) and sm in lps:\n",
    "            t = s[lps[sm]]\n",
    "            sets.append(\"1\" + _rec(s[lps[sm]+1:p]) + \"0\")\n",
    "        p += 1\n",
    "    ret = \"\".join(sorted(sets, reverse=True))\n",
    "    return ret\n",
    "\n",
    "class Solution:\n",
    "    def makeLargestSpecial(self, s: str) -> str:\n",
    "        return  _rec(s)\n",
    "\n",
    "s = \"11011000\"\n",
    "print(len(s))\n",
    "Solution().makeLargestSpecial(s)"
   ]
  },
  {
   "cell_type": "code",
   "execution_count": 96,
   "id": "c0858555-3843-4714-aa42-66d2f5f0faa5",
   "metadata": {},
   "outputs": [
    {
     "name": "stdout",
     "output_type": "stream",
     "text": [
      "[(1, 3)]\n"
     ]
    },
    {
     "data": {
      "text/plain": [
       "'()'"
      ]
     },
     "execution_count": 96,
     "metadata": {},
     "output_type": "execute_result"
    }
   ],
   "source": [
    "class Solution:\n",
    "    def longestValidParentheses(self, s: str) -> int:\n",
    "        n = len(s)\n",
    "        lps = {}\n",
    "        p = 0\n",
    "        sm = 0\n",
    "        sets = []\n",
    "        while (p < n):\n",
    "            lps[sm] = p\n",
    "            sm = sm + 1 if s[p] == \"(\" else sm - 1\n",
    "            if s[p] == \")\" and sm in lps:\n",
    "                prev = lps[sm]\n",
    "                while (len(sets) > 0) and sets[-1][1] >= prev:\n",
    "                    b, c = sets.pop()\n",
    "                    prev = b if b < prev else prev\n",
    "                sets.append((prev, p+1))\n",
    "            p += 1\n",
    "\n",
    "        if len(sets) > 0:\n",
    "            mx = max(sets, key=lambda x: x[1] - x[0])\n",
    "            ret = mx[1] - mx[0]\n",
    "        else:\n",
    "            ret = 0\n",
    "        return ret\n",
    "s = \"(()\"\n",
    "#s = \")()())\"\n",
    "#s = \"()(())\"\n",
    "#s = \"()(()\"\n",
    "#s = \"()(())\"\n",
    "Solution().longestValidParentheses(s)"
   ]
  },
  {
   "cell_type": "code",
   "execution_count": null,
   "id": "1fbb4387-54e6-4841-b892-13246879bf5a",
   "metadata": {},
   "outputs": [],
   "source": [
    "#101100 -> 110010\n"
   ]
  }
 ],
 "metadata": {
  "kernelspec": {
   "display_name": "Python 3",
   "language": "python",
   "name": "python3"
  },
  "language_info": {
   "codemirror_mode": {
    "name": "ipython",
    "version": 3
   },
   "file_extension": ".py",
   "mimetype": "text/x-python",
   "name": "python",
   "nbconvert_exporter": "python",
   "pygments_lexer": "ipython3",
   "version": "3.8.10"
  }
 },
 "nbformat": 4,
 "nbformat_minor": 5
}
