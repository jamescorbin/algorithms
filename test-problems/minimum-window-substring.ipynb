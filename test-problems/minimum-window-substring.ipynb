{
 "cells": [
  {
   "cell_type": "code",
   "execution_count": 3,
   "id": "c9696330-9d61-437b-ade7-f8ab1be90420",
   "metadata": {},
   "outputs": [],
   "source": [
    "## slow?\n",
    "import collections\n",
    "\n",
    "def main(s, t):\n",
    "    condition = dict()\n",
    "    for w in t:\n",
    "        condition[w] = condition.get(w, 0) + 1\n",
    "    memory = {w: [] for w in condition}\n",
    "    ignore = {w: 0 for w in condition}\n",
    "    condition_met = False\n",
    "    min_width = -1\n",
    "    record = colections.deque([]) \n",
    "    for i, c in enumerate(s):\n",
    "        if c in condition:\n",
    "            record.append((i, c))\n",
    "            c_seen = memory[c]\n",
    "            c_req = condition[c]\n",
    "            if len(c_seen) >= c_req:\n",
    "                first_occurance = c_seen.pop(0)\n",
    "                c_seen.append(i)\n",
    "                #record.remove(first_occurance)\n",
    "                ignore[w] += 1\n",
    "                if condition_met:\n",
    "                    while ignore[record[0][1]] > 0:\n",
    "                        a = record[0][c]\n",
    "                        record.popleft()\n",
    "                        ignore[a] = ignore[a] - 1\n",
    "                    current_width = record[-1][0] - record[0][0] + 1\n",
    "                    if current_width < min_width:\n",
    "                        min_width = current_width\n",
    "                        lp = record[0][0]\n",
    "                        rp = record[-1][0]\n",
    "            else:\n",
    "                c_seen.append(i)\n",
    "                truth_test = all([\n",
    "                    len(memory[w]) >= condition[w]\n",
    "                    for w in condition])\n",
    "                if truth_test:\n",
    "                    condition_met = True\n",
    "                    lp = record[0][0]\n",
    "                    rp = record[-1][0]\n",
    "                    min_width = rp - lp + 1\n",
    "    if lp != -1:\n",
    "        out = s[lp:rp+1]\n",
    "    else:\n",
    "        out = \"\"\n",
    "    return out"
   ]
  },
  {
   "cell_type": "code",
   "execution_count": null,
   "id": "23bfbb5b-38a4-4802-a04b-06060bf09f5a",
   "metadata": {},
   "outputs": [],
   "source": [
    "## to speed up use Deque and \n",
    "# mask the record with a boolean array"
   ]
  },
  {
   "cell_type": "code",
   "execution_count": 4,
   "id": "9d9d43ca-dc0a-43a3-9065-82e12e343c44",
   "metadata": {},
   "outputs": [
    {
     "data": {
      "text/plain": [
       "'BANC'"
      ]
     },
     "execution_count": 4,
     "metadata": {},
     "output_type": "execute_result"
    }
   ],
   "source": [
    "s = \"ADOBECODEBANC\"\n",
    "t = \"ABC\"\n",
    "main(s, t)"
   ]
  }
 ],
 "metadata": {
  "kernelspec": {
   "display_name": "Python 3",
   "language": "python",
   "name": "python3"
  },
  "language_info": {
   "codemirror_mode": {
    "name": "ipython",
    "version": 3
   },
   "file_extension": ".py",
   "mimetype": "text/x-python",
   "name": "python",
   "nbconvert_exporter": "python",
   "pygments_lexer": "ipython3",
   "version": "3.8.10"
  }
 },
 "nbformat": 4,
 "nbformat_minor": 5
}
