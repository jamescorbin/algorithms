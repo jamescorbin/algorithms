{
 "cells": [
  {
   "cell_type": "code",
   "execution_count": null,
   "id": "732214ad-cf2d-4713-8e89-488dcb3f4d68",
   "metadata": {},
   "outputs": [],
   "source": [
    "class BTNode:\n",
    "    def __init__(self, val=None, left=None, right=None):\n",
    "        self.val = val\n",
    "        self.left = left\n",
    "        self.right = right\n",
    "    def __repr__(self):\n",
    "        return self.__dict__.__str__()\n",
    "        \n",
    "    @staticmethod\n",
    "    def make(lst):\n",
    "        root = BTNode(lst[0])\n",
    "        ndlst = [root]\n",
    "        pointer = 0\n",
    "        side = True\n",
    "        for val in lst[1:]:\n",
    "            parent = ndlst[pointer]\n",
    "            if val is not None:\n",
    "                newnd = BTNode(val)\n",
    "                ndlst.append(newnd)\n",
    "                if side:\n",
    "                    parent.left = newnd\n",
    "                elif not side:\n",
    "                    parent.right = newnd\n",
    "            if side:\n",
    "                side = (not side)\n",
    "            else:\n",
    "                side = (not side)\n",
    "                pointer += 1\n",
    "        return root"
   ]
  },
  {
   "cell_type": "code",
   "execution_count": null,
   "id": "c6bfc99f-42db-4911-a522-19040d8bbeb4",
   "metadata": {},
   "outputs": [],
   "source": [
    "x = [5, 3, 8, 2, 4, 6, 9, 1, None, None, None, None, 7]\n",
    "root = BTNode.make(x)\n",
    "root"
   ]
  },
  {
   "cell_type": "code",
   "execution_count": null,
   "id": "416648d5-e857-4af3-b0aa-3ded3821192f",
   "metadata": {},
   "outputs": [],
   "source": [
    "def _f0(node):\n",
    "    ret = []\n",
    "    if (node.left is not None):\n",
    "        ret = _f0(node.left)\n",
    "    ret = ret + [node.val]\n",
    "    if (node.right is not None):\n",
    "            ret = ret + _f0(node.right)\n",
    "    return ret\n",
    "\n",
    "\n",
    "def _bisect(ar):\n",
    "    l = len(ar)\n",
    "    if l > 0:\n",
    "        idx = l // 2\n",
    "        x0 = ar[idx]\n",
    "        if len(ar[idx:]) > 0:\n",
    "            left = _bisect(ar[:idx])\n",
    "        else:\n",
    "            left = None\n",
    "        if idx + 1 < l:\n",
    "            right = _bisect(ar[idx+1:])\n",
    "        else:\n",
    "            right = None\n",
    "        ret = BTNode(x0, left=left, right=right)\n",
    "    else:\n",
    "        ret = None\n",
    "    return ret\n",
    "\n",
    "def unfold_tree(root):\n",
    "    orderlst = _f0(root)\n",
    "    return _bisect(orderlst)"
   ]
  },
  {
   "cell_type": "code",
   "execution_count": null,
   "id": "d3172c91-08ee-4c6d-83bf-5bc054f91819",
   "metadata": {},
   "outputs": [],
   "source": [
    "t = unfold_tree(root)"
   ]
  },
  {
   "cell_type": "code",
   "execution_count": null,
   "id": "48a6ce57-73c4-4ab4-a4fd-5d744f42a580",
   "metadata": {},
   "outputs": [],
   "source": [
    "t"
   ]
  }
 ],
 "metadata": {
  "kernelspec": {
   "display_name": "Python 3",
   "language": "python",
   "name": "python3"
  },
  "language_info": {
   "codemirror_mode": {
    "name": "ipython",
    "version": 3
   },
   "file_extension": ".py",
   "mimetype": "text/x-python",
   "name": "python",
   "nbconvert_exporter": "python",
   "pygments_lexer": "ipython3",
   "version": "3.8.10"
  }
 },
 "nbformat": 4,
 "nbformat_minor": 5
}
