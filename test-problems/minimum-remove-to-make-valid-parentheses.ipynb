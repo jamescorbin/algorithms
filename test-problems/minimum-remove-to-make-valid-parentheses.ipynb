{
 "cells": [
  {
   "cell_type": "code",
   "execution_count": 12,
   "id": "4db2eca5-9b14-4b9c-a4b2-d69369d8f585",
   "metadata": {},
   "outputs": [],
   "source": [
    "def _valid_pairs(s):\n",
    "    pairs = []\n",
    "    bad = []\n",
    "    lp = []\n",
    "    sm = 0\n",
    "    for i, c in enumerate(s):\n",
    "        if c == \"(\":\n",
    "            lp.append(i)\n",
    "            sm += 1\n",
    "        elif c == \")\":\n",
    "            if sm > 0:\n",
    "                p = lp.pop()\n",
    "                pairs = [(p, i)]\n",
    "                sm -= 1\n",
    "            \n",
    "            else:\n",
    "                bad.extend(lp)\n",
    "                bad.append(i)\n",
    "                sm = 0\n",
    "                lp = []\n",
    "    bad.extend(lp)\n",
    "    return bad\n",
    "\n",
    "def main(s):\n",
    "    bad = _valid_pairs(s)\n",
    "    ret = [k for w, k in enumerate(s) if w not in bad]\n",
    "    ret = \"\".join(ret)\n",
    "    return ret"
   ]
  },
  {
   "cell_type": "code",
   "execution_count": 13,
   "id": "ce856848-e710-4a85-b947-ad191361a132",
   "metadata": {},
   "outputs": [
    {
     "data": {
      "text/plain": [
       "'ab(c)d'"
      ]
     },
     "execution_count": 13,
     "metadata": {},
     "output_type": "execute_result"
    }
   ],
   "source": [
    "main(\"a)b(c)d\")"
   ]
  }
 ],
 "metadata": {
  "kernelspec": {
   "display_name": "Python 3",
   "language": "python",
   "name": "python3"
  },
  "language_info": {
   "codemirror_mode": {
    "name": "ipython",
    "version": 3
   },
   "file_extension": ".py",
   "mimetype": "text/x-python",
   "name": "python",
   "nbconvert_exporter": "python",
   "pygments_lexer": "ipython3",
   "version": "3.8.10"
  }
 },
 "nbformat": 4,
 "nbformat_minor": 5
}
