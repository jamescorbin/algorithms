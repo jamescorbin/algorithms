{
 "cells": [
  {
   "cell_type": "code",
   "execution_count": null,
   "id": "95ae1ea0-aa81-4f3e-8116-3109c54549c7",
   "metadata": {},
   "outputs": [],
   "source": [
    "class NodeList:\n",
    "    def __init__(self, val=0, nxt=None):\n",
    "        self.val = val\n",
    "        self.next = nxt\n",
    "        \n",
    "    def __repr__(self):\n",
    "        return str(self.__dict__)"
   ]
  },
  {
   "cell_type": "code",
   "execution_count": null,
   "id": "e8ab3da4-68dc-42ab-94b2-16a54fd527f0",
   "metadata": {},
   "outputs": [],
   "source": [
    "lst = []\n",
    "a = 9\n",
    "for i in range(a):\n",
    "    lst.append(NodeList(i))\n",
    "\n",
    "for i in range(a-1):\n",
    "    lst[i].next = lst[i+1]"
   ]
  },
  {
   "cell_type": "code",
   "execution_count": null,
   "id": "95604536-f871-43d7-9d39-35509add0f6c",
   "metadata": {},
   "outputs": [],
   "source": [
    "def _revserse_block(nodea, k):\n",
    "    \"\"\"\n",
    "    nodea = -1\n",
    "    nodeb = 0\n",
    "    nodec = k-1\n",
    "    noded = k\n",
    "    \"\"\"\n",
    "    lst = []\n",
    "    nd = nodea\n",
    "    while (nd is not None) and (len(lst)) < k:\n",
    "        if nx.next is not None:\n",
    "            lst.append(nd.next)\n",
    "    if len(lst) == k:\n",
    "        nodeb = lst[0]\n",
    "        nodec = lst[-1]\n",
    "        noded = lst[-1].next\n",
    "        nodea.next = nodec\n",
    "        nodeb.next = noded\n",
    "        lst = list(reversed(lst))\n",
    "        for i, nd in enumerate(lst[:-1]):\n",
    "            nd.next = lst[i+1]\n",
    "        ret = nodeb\n",
    "    else:\n",
    "        ret = None\n",
    "    return ret\n",
    "\n",
    "def main(root, k):\n",
    "    dummy_root = Node(None, next=root)\n",
    "    nd = dummy_root\n",
    "    while (nd is not None):\n",
    "        nd = _reverse_block(nd)\n",
    "    return dummy_root.next"
   ]
  },
  {
   "cell_type": "code",
   "execution_count": null,
   "id": "793fe140-f8c4-44c7-b02c-39f6f510856c",
   "metadata": {},
   "outputs": [],
   "source": [
    "r"
   ]
  }
 ],
 "metadata": {
  "kernelspec": {
   "display_name": "Python 3",
   "language": "python",
   "name": "python3"
  },
  "language_info": {
   "codemirror_mode": {
    "name": "ipython",
    "version": 3
   },
   "file_extension": ".py",
   "mimetype": "text/x-python",
   "name": "python",
   "nbconvert_exporter": "python",
   "pygments_lexer": "ipython3",
   "version": "3.8.10"
  }
 },
 "nbformat": 4,
 "nbformat_minor": 5
}
