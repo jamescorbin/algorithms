{
 "cells": [
  {
   "cell_type": "code",
   "execution_count": null,
   "id": "350a69b9-9fbe-4a45-980d-3264615ceef1",
   "metadata": {},
   "outputs": [],
   "source": [
    "def _stack(node):\n",
    "    ret = []\n",
    "    if node is not None:\n",
    "        ret =  _stack(node.nxt) + [node.val]\n",
    "    return ret\n",
    "\n",
    "def _queue(node, stop):\n",
    "    ret = []\n",
    "    if (node is not None) and (node is not stop):\n",
    "        ret = [node.val] + _queue(node.nxt, stop)\n",
    "    return ret\n",
    "\n",
    "def middle_node(node):\n",
    "    p0 = node\n",
    "    p1 = node\n",
    "    while p1 is not None:\n",
    "        p1 = p1.nxt\n",
    "        p0 = p0.nxt\n",
    "        if p1 is not None:\n",
    "            p1 = p1.nxt\n",
    "    return p0\n",
    "\n",
    "def main(root):\n",
    "    middle = middle_node(root)\n",
    "    rev = _stack(middle)\n",
    "    forw = _queue(root, middle)\n",
    "    print(forw, rev)\n",
    "    if len(forw) > len(rev):\n",
    "        forw.pop()\n",
    "    bl = True\n",
    "    for i in range(len(rev)):\n",
    "        bl = bl & (rev[i] == forw[i])\n",
    "        print(rev[i], forw[i])\n",
    "    return bl"
   ]
  }
 ],
 "metadata": {
  "kernelspec": {
   "display_name": "Python 3",
   "language": "python",
   "name": "python3"
  },
  "language_info": {
   "codemirror_mode": {
    "name": "ipython",
    "version": 3
   },
   "file_extension": ".py",
   "mimetype": "text/x-python",
   "name": "python",
   "nbconvert_exporter": "python",
   "pygments_lexer": "ipython3",
   "version": "3.8.10"
  }
 },
 "nbformat": 4,
 "nbformat_minor": 5
}
