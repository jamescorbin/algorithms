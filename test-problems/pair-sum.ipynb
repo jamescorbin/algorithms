{
 "cells": [
  {
   "cell_type": "code",
   "execution_count": null,
   "id": "bfa76138-99ba-4eb4-9985-75051e01a20a",
   "metadata": {},
   "outputs": [],
   "source": [
    "def main(arr, k):\n",
    "    import collections\n",
    "    cnt = collections.Counter(arr)\n",
    "    x_sort = sorted(list(cnt.keys()))\n",
    "    \n",
    "    lp = 0\n",
    "    l = len(x_sort)\n",
    "    rp = l - 1\n",
    "    combs = []\n",
    "    while (lp < l) and (rp >= 0):\n",
    "        x1 = x_sort[lp]\n",
    "        x2 = x_sort[rp]\n",
    "        s = x1 + x2\n",
    "        if rp < lp:\n",
    "            break\n",
    "        if (s < k):\n",
    "            lp += 1\n",
    "        elif (s == k):\n",
    "            combs.append((x1, x2))\n",
    "            lp += 1\n",
    "        else:\n",
    "            if rp > 0:\n",
    "                nxt = x_sort[rp - 1]\n",
    "                if (nxt + x1) >= k:\n",
    "                    rp -= 1\n",
    "                else:\n",
    "                    lp += 1\n",
    "            else:\n",
    "                rp -= 1\n",
    "\n",
    "    total_combs = 0\n",
    "    for v1, v2 in combs:\n",
    "        if v1 != v2:\n",
    "            total_combs += cnt[v1] * cnt[v2]\n",
    "        else:\n",
    "            a = cnt[v1]\n",
    "            total_combs += (a)*(a - 1)/2\n",
    "    return total_combs"
   ]
  },
  {
   "cell_type": "code",
   "execution_count": null,
   "id": "fbafee6b-e835-4c18-a454-edd2252dab0c",
   "metadata": {},
   "outputs": [],
   "source": [
    "main(arr, k)"
   ]
  }
 ],
 "metadata": {
  "kernelspec": {
   "display_name": "Python 3",
   "language": "python",
   "name": "python3"
  },
  "language_info": {
   "codemirror_mode": {
    "name": "ipython",
    "version": 3
   },
   "file_extension": ".py",
   "mimetype": "text/x-python",
   "name": "python",
   "nbconvert_exporter": "python",
   "pygments_lexer": "ipython3",
   "version": "3.8.10"
  }
 },
 "nbformat": 4,
 "nbformat_minor": 5
}
