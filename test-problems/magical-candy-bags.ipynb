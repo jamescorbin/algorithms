{
 "cells": [
  {
   "cell_type": "code",
   "execution_count": 34,
   "id": "2afdfbd0-06e9-4adb-8b4d-094940566f22",
   "metadata": {},
   "outputs": [],
   "source": [
    "import heapq\n",
    "\n",
    "#arr = [-x for x in arr]\n",
    "#heapq.heapify(arr)"
   ]
  },
  {
   "cell_type": "code",
   "execution_count": 44,
   "id": "16cba837-a67b-458c-b668-19ed3362dc10",
   "metadata": {},
   "outputs": [],
   "source": [
    "\"\"\"\n",
    "def heapify(arr):\n",
    "    pi = len(arr) - 1\n",
    "    while pi > 0:\n",
    "        ppar = (pi - 1)//2\n",
    "        x = arr[pi]\n",
    "        valpar = arr[ppar]\n",
    "        if x > valpar:\n",
    "            arr[ppar] = x\n",
    "            arr[pi] = valpar\n",
    "        pi -= 1\n",
    "\"\"\"\n",
    "def _child(i):\n",
    "    return (2 * i + 1, 2 * i + 2)\n",
    "\n",
    "def heapify(arr, min_max=min):\n",
    "    pi = len(arr)//2\n",
    "    while pi >= 0:\n",
    "        pb = pi\n",
    "        cont = True\n",
    "        while cont:\n",
    "            pl, pr = _child(pb)\n",
    "            lst = []\n",
    "            if pl < len(arr):\n",
    "                lst.append((pl, arr[pl]))\n",
    "            if pr < len(arr):\n",
    "                lst.append((pr, arr[pr]))\n",
    "            lst.append((pb, arr[pb]))\n",
    "            minidx, val = min_max(lst, key=lambda x: x[1])\n",
    "            if minidx != pb:\n",
    "                swtch = arr[pb]\n",
    "                arr[pb] = val\n",
    "                arr[minidx] = swtch\n",
    "                pb = minidx\n",
    "            else:\n",
    "                cont = False\n",
    "        pi -= 1    \n",
    "            \n",
    "\n"
   ]
  },
  {
   "cell_type": "code",
   "execution_count": 46,
   "id": "44270ae6-6448-49ae-b4e2-4b18eecb5793",
   "metadata": {},
   "outputs": [
    {
     "data": {
      "text/plain": [
       "[7, 5, 5, 2, -1, 2, 3, 1]"
      ]
     },
     "execution_count": 46,
     "metadata": {},
     "output_type": "execute_result"
    }
   ],
   "source": [
    "arr = [1, 2, 3, 5, -1, 2, 5, 7]\n",
    "heapify(arr, min_max=max)\n",
    "arr"
   ]
  },
  {
   "cell_type": "code",
   "execution_count": null,
   "id": "8f039cf8-38dc-4506-93ff-7f2d8fae6ef4",
   "metadata": {},
   "outputs": [],
   "source": [
    "# Add any helper functions you may need here\n",
    "import heapq\n",
    "\n",
    "def maxCandies(arr, k): \n",
    "  arr = [-x for x in arr]\n",
    "  heapq.heapify(\n",
    "        arr)\n",
    "  counter = k\n",
    "  total = 0\n",
    "  while counter > 0:\n",
    "    counter -= 1\n",
    "    val = heapq.heappop(arr)\n",
    "    heapq.heappush(arr, -1*(-val//2))\n",
    "    total -= val "
   ]
  },
  {
   "cell_type": "code",
   "execution_count": 14,
   "id": "129e1c24-f791-4f81-8807-a6ca14999c5b",
   "metadata": {},
   "outputs": [],
   "source": [
    "val = heapq.heappop(arr)"
   ]
  },
  {
   "cell_type": "code",
   "execution_count": 15,
   "id": "3b1446e9-3545-4253-bd4d-14e583317398",
   "metadata": {},
   "outputs": [
    {
     "data": {
      "text/plain": [
       "-7"
      ]
     },
     "execution_count": 15,
     "metadata": {},
     "output_type": "execute_result"
    }
   ],
   "source": [
    "val"
   ]
  },
  {
   "cell_type": "code",
   "execution_count": 16,
   "id": "c8733f1f-3c28-422e-a242-731ae188c5b2",
   "metadata": {},
   "outputs": [
    {
     "data": {
      "text/plain": [
       "-3"
      ]
     },
     "execution_count": 16,
     "metadata": {},
     "output_type": "execute_result"
    }
   ],
   "source": [
    "-1*(-val//2)"
   ]
  }
 ],
 "metadata": {
  "kernelspec": {
   "display_name": "Python 3",
   "language": "python",
   "name": "python3"
  },
  "language_info": {
   "codemirror_mode": {
    "name": "ipython",
    "version": 3
   },
   "file_extension": ".py",
   "mimetype": "text/x-python",
   "name": "python",
   "nbconvert_exporter": "python",
   "pygments_lexer": "ipython3",
   "version": "3.8.10"
  }
 },
 "nbformat": 4,
 "nbformat_minor": 5
}
