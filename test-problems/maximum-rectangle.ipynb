{
 "cells": [
  {
   "cell_type": "code",
   "execution_count": null,
   "id": "10f2b543-0d9a-4598-97bf-fb9a77e06678",
   "metadata": {},
   "outputs": [],
   "source": [
    "# if using memory, need rank 4 matrix?\n",
    "def _f(memory, x, y, l, w):\n",
    "    \"\"\"\n",
    "    \"\"\"\n",
    "    if memory[x][y][l-1][w-1] is not None:\n",
    "        ret = memory[x][y][l-1][w-1]\n",
    "    elif (x + l) > len(memory):\n",
    "        memory[x][y][l-1][w-1] = False\n",
    "        ret = memory[x][y][l-1][w-1]\n",
    "    elif (y + w) > len(memory):\n",
    "        memory[x][y][l-1][w-1] = False\n",
    "        ret = memory[x][y][l-1][w-1]\n",
    "    else:\n",
    "        if l > 1:\n",
    "            memory[x][y][l-1][w-1] = (\n",
    "                _f(memory, x, y, l-2, w-1)\n",
    "                and _f(memory, x+l-2, y, 1, w-1))\n",
    "        elif w > 1:\n",
    "            memory[x][y][l-1][w-1] = (\n",
    "                _f(memory, x, y, l-1, w-2)\n",
    "                and _f(memory, x, y, l-1, 1))\n",
    "        ret = memory[x][y][l-1][w-1]\n",
    "    return ret\n",
    "\n",
    "\n",
    "def main(board):\n",
    "    n = len(board)\n",
    "    memory = [[[[None for x in range(n)]\n",
    "                for y in range(n)]\n",
    "               for z in range(n)]\n",
    "              for w in range(n)]\n",
    "    for i in range(n):\n",
    "        for j in range(n):\n",
    "            memory[i][j][0][0] = board[i][j]\n",
    "    vals = []\n",
    "    for i in range(n):\n",
    "        for j in range(n):\n",
    "            for k in range(n):\n",
    "                for l in range(n):\n",
    "                    val = memory[i][j][k][l]\n",
    "                    if val:\n",
    "                        vals.append(k*l)\n",
    "    ret = max(vals) if len(vals) > 0 else 0\n",
    "    return ret"
   ]
  }
 ],
 "metadata": {
  "kernelspec": {
   "display_name": "Python 3",
   "language": "python",
   "name": "python3"
  },
  "language_info": {
   "codemirror_mode": {
    "name": "ipython",
    "version": 3
   },
   "file_extension": ".py",
   "mimetype": "text/x-python",
   "name": "python",
   "nbconvert_exporter": "python",
   "pygments_lexer": "ipython3",
   "version": "3.8.10"
  }
 },
 "nbformat": 4,
 "nbformat_minor": 5
}
