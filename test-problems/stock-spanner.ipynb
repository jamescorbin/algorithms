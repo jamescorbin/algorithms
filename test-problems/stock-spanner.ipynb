{
 "cells": [
  {
   "cell_type": "code",
   "execution_count": null,
   "id": "7f9cedd6-56d1-4062-8568-c76853752b8b",
   "metadata": {},
   "outputs": [],
   "source": [
    "class StockSpanner:\n",
    "\n",
    "    def __init__(self):\n",
    "        self.memory =[]\n",
    "        self.stack_idxs = []\n",
    "        \n",
    "    def next(self, price: int) -> int:\n",
    "        self.memory.append(price)\n",
    "        n = len(self.memory)\n",
    "        while (\n",
    "                (len(self.stack_idxs) > 0) \n",
    "                and (self.memory[self.stack_idxs[-1]] <= price)):\n",
    "            self.stack_idxs.pop()\n",
    "        self.stack_idxs.append(n - 1)\n",
    "        ret = (self.stack_idxs[-1] - self.stack_idxs[-2]\n",
    "                if len(self.stack_idxs) > 1 else n)\n",
    "        return ret\n",
    "    \n",
    "stck = StockSpanner()\n",
    "stck.next(100)\n",
    "stck.next(80)\n",
    "stck.next(60)\n",
    "stck.next(70)\n",
    "stck.next(60)\n",
    "stck.next(75)\n",
    "stck.next(85)"
   ]
  },
  {
   "cell_type": "code",
   "execution_count": null,
   "id": "cf811fdb-c99d-40d3-8080-9271780fb414",
   "metadata": {},
   "outputs": [],
   "source": [
    "class Solution:\n",
    "    def dailyTemperatures(self, temperatures: List[int]) -> List[int]:\n",
    "        stack_idxs = []        \n",
    "        n = len(temperatures)\n",
    "        answer = [0 for i in range(n)]\n",
    "        p = n - 1\n",
    "        while (p > -1):\n",
    "            temp = temperatures[p]\n",
    "            while (\n",
    "                    (len(stack_idxs) > 0) \n",
    "                    and (temperatures[stack_idxs[-1]] <= temp)):\n",
    "                stack_idxs.pop()\n",
    "            stack_idxs.append(p)\n",
    "            val = (stack_idxs[-2] - stack_idxs[-1] \n",
    "                if len(stack_idxs) > 1 else 0)\n",
    "            answer[p] = val\n",
    "            p -= 1\n",
    "        return answer"
   ]
  }
 ],
 "metadata": {
  "kernelspec": {
   "display_name": "Python 3",
   "language": "python",
   "name": "python3"
  },
  "language_info": {
   "codemirror_mode": {
    "name": "ipython",
    "version": 3
   },
   "file_extension": ".py",
   "mimetype": "text/x-python",
   "name": "python",
   "nbconvert_exporter": "python",
   "pygments_lexer": "ipython3",
   "version": "3.8.10"
  }
 },
 "nbformat": 4,
 "nbformat_minor": 5
}
