{
 "cells": [
  {
   "cell_type": "code",
   "execution_count": 17,
   "id": "5b186b7c-5e84-4334-b7e2-951f5ded723c",
   "metadata": {},
   "outputs": [],
   "source": [
    "import collections\n",
    "def matching_pairs(s, t):\n",
    "    # Write your code here\n",
    "    sd = collections.defaultdict(list)\n",
    "    td = collections.defaultdict(list)\n",
    "    pairs = collections.defaultdict(list)\n",
    "    n = len(s)\n",
    "    num_eq = 0\n",
    "    for i in range(n):\n",
    "        sc = s[i]\n",
    "        tc = t[i]\n",
    "        if sc != tc:\n",
    "            sd[sc].append(i)\n",
    "            td[tc].append(i)\n",
    "        else:\n",
    "            pairs[sc].append(i)\n",
    "            num_eq += 1\n",
    "    total = 0\n",
    "    print(num_eq, sd, td, pairs)\n",
    "    if num_eq <= n-2:\n",
    "        mx = 0\n",
    "        chars = list(sd.keys())\n",
    "        print(chars)\n",
    "        for i, c in enumerate(chars):\n",
    "            s1_set = set(sd[c])\n",
    "            t1_set = set(td[c])\n",
    "            for c2 in chars[i+1:]:\n",
    "                s2_set = set(sd[c2])\n",
    "                t2_set = set(td[c2])\n",
    "                sums = s1_set | s2_set\n",
    "                sumt = t1_set | t2_set\n",
    "                sm = sums & sumt\n",
    "                print(sm)\n",
    "                if len(sm) >= 2:\n",
    "                    mx = 2\n",
    "        if mx != 2:\n",
    "            chars = set(list(sd.keys()))\n",
    "            chart = set(list(td.keys()))\n",
    "            if len(chars & chart) > 0:\n",
    "                mx = 1\n",
    "        total = mx + num_eq\n",
    "    elif num_eq == n - 1:\n",
    "        val = 0\n",
    "        mx = 0\n",
    "        val1 = list(sd.keys())[0]\n",
    "        val2 = list(td.keys())[0]\n",
    "        if (val1 in pairs) or (val2 in pairs):\n",
    "            mx = 1\n",
    "        total = num_eq - 2 + mx\n",
    "    else:\n",
    "        mx = 0\n",
    "        for c, k in pairs.items():\n",
    "            if len(k) > 1:\n",
    "                mx = 2\n",
    "                break\n",
    "        total = num_eq - 2 + mx\n",
    "    return total"
   ]
  },
  {
   "cell_type": "code",
   "execution_count": 18,
   "id": "bba8cc40-4c4f-4ec1-88bf-a438841d78c1",
   "metadata": {},
   "outputs": [
    {
     "name": "stdout",
     "output_type": "stream",
     "text": [
      "3 defaultdict(<class 'list'>, {'d': [1], 'b': [3]}) defaultdict(<class 'list'>, {'b': [1], 'd': [3]}) defaultdict(<class 'list'>, {'a': [0], 'c': [2], 'e': [4]})\n",
      "['d', 'b']\n",
      "{1, 3}\n"
     ]
    },
    {
     "data": {
      "text/plain": [
       "5"
      ]
     },
     "execution_count": 18,
     "metadata": {},
     "output_type": "execute_result"
    }
   ],
   "source": [
    "s = \"adcbe\"\n",
    "t = \"abcde\"\n",
    "matching_pairs(s, t)"
   ]
  },
  {
   "cell_type": "code",
   "execution_count": 24,
   "id": "1af563d2-ba0f-49bd-8a11-76aaf7623715",
   "metadata": {},
   "outputs": [
    {
     "data": {
      "text/plain": [
       "8"
      ]
     },
     "execution_count": 24,
     "metadata": {},
     "output_type": "execute_result"
    }
   ],
   "source": [
    "cnt = collections.Counter(\"aabdbcda\")\n",
    "sum(cnt.values())"
   ]
  }
 ],
 "metadata": {
  "kernelspec": {
   "display_name": "Python 3",
   "language": "python",
   "name": "python3"
  },
  "language_info": {
   "codemirror_mode": {
    "name": "ipython",
    "version": 3
   },
   "file_extension": ".py",
   "mimetype": "text/x-python",
   "name": "python",
   "nbconvert_exporter": "python",
   "pygments_lexer": "ipython3",
   "version": "3.8.10"
  }
 },
 "nbformat": 4,
 "nbformat_minor": 5
}
