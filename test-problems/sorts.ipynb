{
 "cells": [
  {
   "cell_type": "code",
   "execution_count": null,
   "id": "92d7e1fa-e2c7-4101-83cf-c028e3b3ffc3",
   "metadata": {},
   "outputs": [],
   "source": [
    "def merge_sort(x):\n",
    "    \"\"\"\n",
    "    \"\"\"\n",
    "    return _bifurcate(x)\n",
    "    \n",
    "    \n",
    "def _merge(left, right):\n",
    "    ret = []\n",
    "    lp = 0\n",
    "    rp = 0\n",
    "    while (len(left) > lp) and (len(right) > rp):\n",
    "        x1 = left[lp]\n",
    "        x2 = right[rp]\n",
    "        if x1 <= x2:\n",
    "            nxt = x1\n",
    "            lp +=1\n",
    "        else:\n",
    "            nxt = x2\n",
    "            rp += 1\n",
    "        ret.append(nxt)\n",
    "    if (len(left) > lp):\n",
    "        ret.extend(left[lp:])\n",
    "    if (len(right) > rp):\n",
    "        ret.extend(right[rp:])\n",
    "    return ret\n",
    "\n",
    "\n",
    "def _bifurcate(x):\n",
    "    l = len(x)\n",
    "    if l > 1:\n",
    "        ret = _merge(_bifurcate(x[:l//2]), _bifurcate(x[l//2:]))\n",
    "    else:\n",
    "        ret = x\n",
    "    return ret"
   ]
  },
  {
   "cell_type": "code",
   "execution_count": null,
   "id": "9c8102a3-c626-4aec-96fc-06f06f33b39c",
   "metadata": {},
   "outputs": [],
   "source": [
    "import numpy as np\n",
    "x = np.random.randint(-1000, 1000, 100)"
   ]
  },
  {
   "cell_type": "code",
   "execution_count": null,
   "id": "3da158df-606c-4bef-9071-96a06cc3c672",
   "metadata": {},
   "outputs": [],
   "source": [
    "#merge_sort(x)"
   ]
  },
  {
   "cell_type": "code",
   "execution_count": null,
   "id": "60cb45d3-624b-4018-be89-d9b3a5a47e8f",
   "metadata": {},
   "outputs": [],
   "source": [
    "def quick_sort(x):\n",
    "    if len(x) > 0:\n",
    "        ret = _pivot(x[0], x[1:])\n",
    "    else:\n",
    "        ret = x\n",
    "    return ret\n",
    "\n",
    "def _pivot(pivot, x):\n",
    "    ret = []\n",
    "    if len(x) > 0:\n",
    "        left = []\n",
    "        right = []\n",
    "    \n",
    "        while len(x) > 0:\n",
    "            v = x.pop()\n",
    "            if v >= pivot:\n",
    "                right.append(v)\n",
    "            else:\n",
    "                left.append(v)\n",
    "        if len(left) > 0:\n",
    "            ret = ret + _pivot(left[0], left[1:])\n",
    "        ret = ret + [pivot]\n",
    "        if len(right) > 0:\n",
    "            ret = ret + _pivot(right[0], right[1:])\n",
    "    else:\n",
    "        ret = [pivot]\n",
    "    return ret"
   ]
  },
  {
   "cell_type": "code",
   "execution_count": null,
   "id": "c6d700e8-4b10-484b-8e02-a2e78fa4ff4f",
   "metadata": {},
   "outputs": [],
   "source": [
    "quick_sort(list(x))"
   ]
  }
 ],
 "metadata": {
  "kernelspec": {
   "display_name": "Python 3",
   "language": "python",
   "name": "python3"
  },
  "language_info": {
   "codemirror_mode": {
    "name": "ipython",
    "version": 3
   },
   "file_extension": ".py",
   "mimetype": "text/x-python",
   "name": "python",
   "nbconvert_exporter": "python",
   "pygments_lexer": "ipython3",
   "version": "3.8.10"
  }
 },
 "nbformat": 4,
 "nbformat_minor": 5
}
