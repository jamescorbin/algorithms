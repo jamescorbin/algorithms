{
 "cells": [
  {
   "cell_type": "code",
   "execution_count": null,
   "id": "ba53a748-9aae-4350-aa60-6f7c391fb942",
   "metadata": {},
   "outputs": [],
   "source": [
    "import string"
   ]
  },
  {
   "cell_type": "code",
   "execution_count": null,
   "id": "a72bc883-4065-41e3-bd72-99997aea07e6",
   "metadata": {},
   "outputs": [],
   "source": [
    "string.ascii_lowercase"
   ]
  },
  {
   "cell_type": "code",
   "execution_count": null,
   "id": "4d049d41-05ed-47e6-bee3-4bc5c06eedbd",
   "metadata": {},
   "outputs": [],
   "source": [
    "string.digits"
   ]
  },
  {
   "cell_type": "code",
   "execution_count": null,
   "id": "fec5d2d3-24d1-4f71-a7bf-bcc9eeb80e05",
   "metadata": {},
   "outputs": [],
   "source": [
    "string.ascii_uppercase"
   ]
  },
  {
   "cell_type": "code",
   "execution_count": null,
   "id": "ec1603ca-7b07-4486-b708-db6dcead8f20",
   "metadata": {},
   "outputs": [],
   "source": [
    "lower_f = {c: i for i, c in enumerate(string.ascii_lowercase)}\n",
    "lower_finv = {i: c for c, i in lower_f.items()}\n",
    "upper_f = {c: i for i, c in enumerate(string.ascii_uppercase)}\n",
    "upper_finv = {i: c for c, i in upper_f.items()}\n",
    "digit_f = {c: i for i, c in enumerate(string.digits)}\n",
    "digit_finv = {i: c for c, i in digit_f.items()}"
   ]
  },
  {
   "cell_type": "code",
   "execution_count": null,
   "id": "d82f1dec-cc7e-4366-8642-7e7879777cbd",
   "metadata": {},
   "outputs": [],
   "source": [
    "st = \"Hello-10\"\n",
    "OT = 130\n",
    "shift = 4 % OT\n",
    "TS = 26\n",
    "TEN = 10\n",
    "out = []\n",
    "for c in st:\n",
    "    if c in lower_f:\n",
    "        i = (lower_f[c] + shift) % TS\n",
    "        out.append(lower_finv[i])\n",
    "    elif c in upper_f:\n",
    "        i = (upper_f[c] + shift) % TS\n",
    "        out.append(upper_finv[i])\n",
    "    elif c in digit_f:\n",
    "        i = (digit_f[c] + shift) % TEN\n",
    "        out.append(digit_finv[i])\n",
    "    else:\n",
    "        out.append(c)\n",
    "ret = ''.join(out)\n",
    "ret"
   ]
  }
 ],
 "metadata": {
  "kernelspec": {
   "display_name": "Python 3",
   "language": "python",
   "name": "python3"
  },
  "language_info": {
   "codemirror_mode": {
    "name": "ipython",
    "version": 3
   },
   "file_extension": ".py",
   "mimetype": "text/x-python",
   "name": "python",
   "nbconvert_exporter": "python",
   "pygments_lexer": "ipython3",
   "version": "3.8.10"
  }
 },
 "nbformat": 4,
 "nbformat_minor": 5
}
