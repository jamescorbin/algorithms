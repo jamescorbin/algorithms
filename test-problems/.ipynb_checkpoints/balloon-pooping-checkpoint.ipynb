{
 "cells": [
  {
   "cell_type": "code",
   "execution_count": null,
   "metadata": {},
   "outputs": [],
   "source": [
    "import numpy as np\n",
    "import copy\n",
    "\n",
    "x = np.random.randint(1, 10, 10)\n",
    "x = list(x)"
   ]
  },
  {
   "cell_type": "code",
   "execution_count": null,
   "metadata": {},
   "outputs": [],
   "source": [
    "x"
   ]
  },
  {
   "cell_type": "code",
   "execution_count": null,
   "metadata": {},
   "outputs": [],
   "source": [
    "def _solution(x):\n",
    "    memory = []\n",
    "    for i in range(len(x)):\n",
    "        tmp = [0 for j in range(len(x)+1)]\n",
    "        memory.append(tmp)\n",
    "    #for i in range(len(x)):\n",
    "        \n",
    "    for window in range(1, len(x) + 1):\n",
    "        for lp in range(0, len(x)):\n",
    "            rp = min([lp + window, len(x)])\n",
    "            for i in range(lp, rp):\n",
    "                val = x[i]\n",
    "                a = 0\n",
    "                b = 0\n",
    "                val = (val * x[lp-1]) if lp > 0 else val\n",
    "                val = (val * x[rp]) if rp < len(x) else val\n",
    "                if i > lp:\n",
    "                    a = memory[lp][i]\n",
    "                if i + 1 < rp:\n",
    "                    b = memory[i+1][rp]\n",
    "                memory[lp][rp] = max([\n",
    "                    memory[lp][rp], \n",
    "                    val + a + b])\n",
    "    return memory[0][len(x)]"
   ]
  },
  {
   "cell_type": "code",
   "execution_count": null,
   "metadata": {},
   "outputs": [],
   "source": [
    "_solution(copy.copy(x))"
   ]
  },
  {
   "cell_type": "code",
   "execution_count": null,
   "metadata": {},
   "outputs": [],
   "source": [
    "def _rec(x, val):\n",
    "    ret = []\n",
    "    if len(x) == 0:\n",
    "        ret = [val]\n",
    "    elif len(x) == 1:\n",
    "        ret = [val + x[0]]\n",
    "    elif len(x) == 2:\n",
    "        nval = x[0] * x[1]\n",
    "        ret = _rec([x[0]], nval + val) + _rec([x[1]], nval + val)\n",
    "    else:\n",
    "        for i in range(len(x)):\n",
    "            nval = x[i]\n",
    "            if i > 0:\n",
    "                nval = nval * x[i-1]\n",
    "            if i < len(x) - 1:\n",
    "                nval = nval * x[i+1]\n",
    "            ret += _rec(x[:i] + x[i+1:], nval + val)\n",
    "    return ret"
   ]
  },
  {
   "cell_type": "code",
   "execution_count": null,
   "metadata": {},
   "outputs": [],
   "source": [
    "v = _rec(copy.copy(x), 0)\n",
    "print(\"Number ran\", len(v))\n",
    "w = max(v)\n",
    "k = v.index(w)\n",
    "print(\"Val\", w, k)"
   ]
  }
 ],
 "metadata": {
  "kernelspec": {
   "display_name": "Python 3",
   "language": "python",
   "name": "python3"
  },
  "language_info": {
   "codemirror_mode": {
    "name": "ipython",
    "version": 3
   },
   "file_extension": ".py",
   "mimetype": "text/x-python",
   "name": "python",
   "nbconvert_exporter": "python",
   "pygments_lexer": "ipython3",
   "version": "3.8.10"
  }
 },
 "nbformat": 4,
 "nbformat_minor": 4
}
