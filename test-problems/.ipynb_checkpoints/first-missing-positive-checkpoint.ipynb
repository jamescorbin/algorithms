{
 "cells": [
  {
   "cell_type": "code",
   "execution_count": null,
   "id": "a90c00cd-2ed8-408c-a0c3-2ea5109ddbd8",
   "metadata": {},
   "outputs": [],
   "source": [
    "def main(x):\n",
    "    l = len(x)\n",
    "    p = 0\n",
    "    while p < l:\n",
    "        p = _pivot(x, p)\n",
    "    ret = len(x) + 1\n",
    "    for i, v in enumerate(x):\n",
    "        if i + 1 != v:\n",
    "            ret = i + 1\n",
    "            break\n",
    "    return x, ret\n",
    "            \n",
    "def _pivot(x, p):\n",
    "    ret = p\n",
    "    val = x[p]\n",
    "    if val > len(x):\n",
    "        x[p] = -1\n",
    "        ret += 1\n",
    "    elif val == p + 1:\n",
    "        ret += 1\n",
    "    elif val < 1:\n",
    "        ret += 1 \n",
    "    elif val > 0:\n",
    "        val2 = x[val-1]\n",
    "        if val2 == val:\n",
    "            x[p] = -1\n",
    "            ret += 1\n",
    "        else:\n",
    "            x[p] = val2\n",
    "            x[val-1] = val\n",
    "            _pivot(x, p)\n",
    "    return ret"
   ]
  },
  {
   "cell_type": "code",
   "execution_count": null,
   "id": "f260f261-eecb-4e76-a56b-ea562ebe74a5",
   "metadata": {},
   "outputs": [],
   "source": [
    "import numpy as np\n",
    "x = np.random.randint(-1e2, 1e2, 100)"
   ]
  },
  {
   "cell_type": "code",
   "execution_count": null,
   "id": "e84b3248-0d56-4c98-a29a-11b137d6b63b",
   "metadata": {},
   "outputs": [],
   "source": [
    "import copy\n",
    "main(copy.copy(x))"
   ]
  }
 ],
 "metadata": {
  "kernelspec": {
   "display_name": "Python 3",
   "language": "python",
   "name": "python3"
  },
  "language_info": {
   "codemirror_mode": {
    "name": "ipython",
    "version": 3
   },
   "file_extension": ".py",
   "mimetype": "text/x-python",
   "name": "python",
   "nbconvert_exporter": "python",
   "pygments_lexer": "ipython3",
   "version": "3.8.10"
  }
 },
 "nbformat": 4,
 "nbformat_minor": 5
}
