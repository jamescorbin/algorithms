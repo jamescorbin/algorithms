{
 "cells": [
  {
   "cell_type": "markdown",
   "id": "6b137f8d-66c5-4fa6-8a4c-9098825459d4",
   "metadata": {},
   "source": [
    "### Brute force O(n^3)\n",
    "\n",
    "Sorting ~ O(nlogn) "
   ]
  },
  {
   "cell_type": "code",
   "execution_count": null,
   "id": "2b995eb8-42d7-415f-958f-5086ca820d9b",
   "metadata": {},
   "outputs": [],
   "source": [
    "import numpy as np\n",
    "\n",
    "x = np.random.randint(-100, 100, size=(100))\n",
    "\n",
    "# combine 0 with positives, count triple 0s"
   ]
  },
  {
   "cell_type": "code",
   "execution_count": null,
   "id": "428aadf4-4689-40aa-bdca-b02ded504881",
   "metadata": {},
   "outputs": [],
   "source": [
    "def _move_lte(p, ar, val):\n",
    "    retval = p\n",
    "    if p < len(ar):\n",
    "        if ar[p] <= val:\n",
    "            while (p < len(ar)) and (ar[p] <= val):\n",
    "                p += 1\n",
    "            if (p == len(ar)) and (ar[p-1] < val):\n",
    "                retval = p\n",
    "            else:\n",
    "                retval = p - 1\n",
    "    return retval\n",
    "\n",
    "def count_0s(x0):\n",
    "    val = len(x0)\n",
    "    if val > 2:\n",
    "        import math\n",
    "        retval = math.comb(val, 3)\n",
    "    else:\n",
    "        retval = 0\n",
    "    retval = retval * [0, 0, 0]\n",
    "    return retval\n",
    "\n",
    "def _f1(X1, X2, sign=1):\n",
    "    triplets = []\n",
    "    p1 = 0\n",
    "    pp3 = 0\n",
    "    while p1 < (len(X1) - 1):\n",
    "        x1 = X1[p1]\n",
    "        p2 = p1 + 1\n",
    "        pp3 = _move_lte(pp3, X2, x1)\n",
    "        p3 = pp3\n",
    "        while (p2 < len(X1)):\n",
    "            x2 = X1[p2]\n",
    "            s = x1 + x2\n",
    "            p3 = _move_lte(p3, X2, s)\n",
    "            if (p3 < len(X2)) and (X2[p3] == s):\n",
    "                triplets.append(\n",
    "                    (sign*x1, sign*x2, sign*-1*X2[p3]))\n",
    "            p2 += 1\n",
    "        p1 += 1\n",
    "    return triplets\n",
    "\n",
    "\n",
    "def main(x):\n",
    "    triplets = []\n",
    "    xs = sorted(x)\n",
    "    xn = list(filter(lambda x: x < 0, xs))\n",
    "    xn = list(reversed([-y for y in xn]))\n",
    "    xp = list(filter(lambda x: x >= 0, xs))\n",
    "    x0 = [y for y in xs if y==0]\n",
    "    a = _f1(xp, xn, sign=1)\n",
    "    b = _f1(xn, xp, sign=-1)\n",
    "    c = count_0s(x0)\n",
    "    triplets = a + b + c\n",
    "    return triplets"
   ]
  },
  {
   "cell_type": "code",
   "execution_count": null,
   "id": "838bb192-1bda-4ec3-88e2-e8877ad5286e",
   "metadata": {},
   "outputs": [],
   "source": [
    "main(x)"
   ]
  },
  {
   "cell_type": "markdown",
   "id": "69eb65b8-40b8-495d-8e43-eedf236c59b2",
   "metadata": {},
   "source": [
    "## Alternate solution"
   ]
  },
  {
   "cell_type": "code",
   "execution_count": null,
   "id": "57ce589c-37fb-4094-8155-5b90a05837ae",
   "metadata": {},
   "outputs": [],
   "source": [
    "xs = sorted(x)\n",
    "Y = dict()\n",
    "for xi in xs[:-1]:\n",
    "    for xj in xs[xi+1:]:\n",
    "        s = xi + xj\n",
    "        if s in Y:\n",
    "            Y[s].append((xi, xj))\n",
    "        else:\n",
    "            Y[s] = [(xi, xj)]\n",
    "            \n",
    "            \n",
    "def _move_pointer_left(p, ar, val):\n",
    "    \"\"\"\n",
    "    Moves pointer to near value\n",
    "    \"\"\"\n",
    "    ret = p\n",
    "    if p >= 0:\n",
    "        if -val < ar[p]:\n",
    "            while (p >= 0) and (-val <= ar[p]):\n",
    "                p -= 1\n",
    "            p += 1\n",
    "            ret = p                \n",
    "    else:\n",
    "        pass\n",
    "    return ret\n",
    "\n",
    "            \n",
    "Ys = sorted(list(Y.keys()))\n",
    "p = len(xs) - 1\n",
    "trip0 = []\n",
    "for y in Ys:\n",
    "    p = _move_pointer_left(p, xs, y)\n",
    "    x2 = ar[p]\n",
    "    if x2 + y == 0:\n",
    "        trip0.append((y, x2))\n",
    "        \n",
    "# Then unfold trip0, a, b = zip(*trip0)\n",
    "# map back to list of sets, combine"
   ]
  }
 ],
 "metadata": {
  "kernelspec": {
   "display_name": "Python 3",
   "language": "python",
   "name": "python3"
  },
  "language_info": {
   "codemirror_mode": {
    "name": "ipython",
    "version": 3
   },
   "file_extension": ".py",
   "mimetype": "text/x-python",
   "name": "python",
   "nbconvert_exporter": "python",
   "pygments_lexer": "ipython3",
   "version": "3.8.10"
  }
 },
 "nbformat": 4,
 "nbformat_minor": 5
}
