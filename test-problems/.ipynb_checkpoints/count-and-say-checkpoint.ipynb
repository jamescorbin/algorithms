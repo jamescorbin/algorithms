{
 "cells": [
  {
   "cell_type": "code",
   "execution_count": 1,
   "id": "cd46034e-582a-49a8-b4f8-bf1d0d247f7a",
   "metadata": {},
   "outputs": [
    {
     "name": "stdout",
     "output_type": "stream",
     "text": [
      "a 3\n",
      "b 1\n",
      "c 1\n",
      "d 1\n",
      "e 3\n",
      "f 2\n",
      "g 1\n",
      "h 1\n",
      "i 6\n",
      "j 3\n"
     ]
    }
   ],
   "source": [
    "import collections\n",
    "\n",
    "cnt = collections.Counter(\"aaabcdeeeffghiiiiiijjj\")\n",
    "for key, val in cnt.items():\n",
    "    print(key, val)"
   ]
  },
  {
   "cell_type": "code",
   "execution_count": 2,
   "id": "a8352451-96c4-443a-89d7-77d10b3d1255",
   "metadata": {},
   "outputs": [
    {
     "name": "stdout",
     "output_type": "stream",
     "text": [
      "['1', '11', '21', '1211', '3112']\n"
     ]
    },
    {
     "data": {
      "text/plain": [
       "'3112'"
      ]
     },
     "execution_count": 2,
     "metadata": {},
     "output_type": "execute_result"
    }
   ],
   "source": [
    "import collections\n",
    "\n",
    "import collections\n",
    "\n",
    "def _say(s):\n",
    "    # can just be plain dictionary since maintains insertion\n",
    "    # order now / Counter\n",
    "    out = []\n",
    "    n = len(s)\n",
    "    p = 0\n",
    "    prev = \"0\"\n",
    "    num_seen = 0\n",
    "    while p < n:\n",
    "        c = s[p]\n",
    "        if prev == \"0\":\n",
    "            prev = c\n",
    "            num_seen += 1\n",
    "        else:\n",
    "            if c == prev:\n",
    "                num_seen += 1\n",
    "            else:\n",
    "                out.append(str(num_seen))\n",
    "                out.append(prev)\n",
    "                prev = c\n",
    "                num_seen = 1\n",
    "        if p == n - 1:\n",
    "            out.append(str(num_seen))\n",
    "            out.append(prev)\n",
    "        p += 1\n",
    "    ret = \"\".join(out)\n",
    "    return ret\n",
    "\n",
    "class Solution:\n",
    "    def countAndSay(self, n: int) -> str:\n",
    "        tape = [\"1\"]\n",
    "        p = 1\n",
    "        while p < n:\n",
    "            tape.append(_say(tape[-1]))\n",
    "            p += 1\n",
    "        return tape[-1]\n",
    "        \n",
    "        \n",
    "Solution().countAndSay(5)"
   ]
  }
 ],
 "metadata": {
  "kernelspec": {
   "display_name": "Python 3",
   "language": "python",
   "name": "python3"
  },
  "language_info": {
   "codemirror_mode": {
    "name": "ipython",
    "version": 3
   },
   "file_extension": ".py",
   "mimetype": "text/x-python",
   "name": "python",
   "nbconvert_exporter": "python",
   "pygments_lexer": "ipython3",
   "version": "3.8.10"
  }
 },
 "nbformat": 4,
 "nbformat_minor": 5
}
