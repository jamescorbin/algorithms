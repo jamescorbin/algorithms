{
 "cells": [
  {
   "cell_type": "code",
   "execution_count": null,
   "id": "ba53a748-9aae-4350-aa60-6f7c391fb942",
   "metadata": {},
   "outputs": [],
   "source": [
    "import numpy as np\n",
    "ar = np.random.randint(-100, 100, 10)\n",
    "# find local maxima, contiguous is interval about maxima"
   ]
  },
  {
   "cell_type": "code",
   "execution_count": null,
   "id": "c850523c-2aba-4a8a-aff4-8c21e6df33d8",
   "metadata": {},
   "outputs": [],
   "source": [
    "def _find_maxima(ar):\n",
    "    if len(ar) > 0:\n",
    "        maxval = ar[0]\n",
    "        maxs = [0]\n",
    "        for i, x in enumerate(ar[1:]):\n",
    "            if x > maxval:\n",
    "                maxs = [i+1]\n",
    "                maxval = x\n",
    "            elif x == maxval:\n",
    "                maxs.append(i+1)\n",
    "            else:\n",
    "                pass\n",
    "        ret = maxs\n",
    "    else:\n",
    "        ret = []\n",
    "    return ret\n",
    "\n",
    "\n",
    "def _split(ar, iv=0):\n",
    "    splts = _find_maxima(ar)\n",
    "    ret = []\n",
    "    k = len(ar)\n",
    "    if k == 0:\n",
    "        ret = []\n",
    "    elif k == 1:\n",
    "        ret = [(iv, k)]\n",
    "    else:\n",
    "        for pt in splts:\n",
    "            ret = ret + [(pt + iv, k)]\n",
    "        for i, pt in enumerate(splts):\n",
    "            if i == 0:\n",
    "                nar = ar[0:pt]\n",
    "                niv = iv + 0\n",
    "                ret = ret + _split(nar, niv)\n",
    "            if i == len(splts) - 1:\n",
    "                nar = ar[pt+1:]\n",
    "                niv = iv + (pt + 1)\n",
    "                ret = ret + _split(nar, niv)\n",
    "            else:\n",
    "                nar = ar[pt+1:splts[i+1]]\n",
    "                niv = iv + (pt+1)\n",
    "                ret = ret + _split(nar, niv)\n",
    "    return ret\n",
    "\n",
    "def main(ar):\n",
    "    out = _split(ar, 0)\n",
    "    sout = sorted(out, key = lambda x: x[0])\n",
    "    idxs, vals = zip(*sout)\n",
    "    return vals"
   ]
  }
 ],
 "metadata": {
  "kernelspec": {
   "display_name": "Python 3",
   "language": "python",
   "name": "python3"
  },
  "language_info": {
   "codemirror_mode": {
    "name": "ipython",
    "version": 3
   },
   "file_extension": ".py",
   "mimetype": "text/x-python",
   "name": "python",
   "nbconvert_exporter": "python",
   "pygments_lexer": "ipython3",
   "version": "3.8.10"
  }
 },
 "nbformat": 4,
 "nbformat_minor": 5
}
