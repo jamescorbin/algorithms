{
 "cells": [
  {
   "cell_type": "code",
   "execution_count": 43,
   "id": "757d366b-df05-41d1-8fde-f579f3387c34",
   "metadata": {},
   "outputs": [],
   "source": [
    "# Definition for a Node.\n",
    "class Node:\n",
    "    def __init__(self, x: int, next: 'Node' = None, random: 'Node' = None):\n",
    "        self.val = int(x)\n",
    "        self.next = next\n",
    "        self.random = random\n",
    "    def __repr__(self) -> str:\n",
    "        #return str(id(self))\n",
    "        return str(self.__dict__)\n",
    "    \n",
    "def _parse(root):\n",
    "    ret = []\n",
    "    if root is None:\n",
    "        pass\n",
    "    else:\n",
    "        if root.random is not None:\n",
    "            ret = [(id(root), root.val, id(root.random))] + _parse(root.next)\n",
    "        else:\n",
    "            ret = [(id(root), root.val, 0)] + _parse(root.next)\n",
    "    return ret\n",
    "        \n",
    "class Solution:\n",
    "    def copyRandomList(self, head: 'Optional[Node]') -> 'Optional[Node]':\n",
    "        ids, vals, randomids = zip(*_parse(head))\n",
    "        n = len(ids)\n",
    "        randtoidx = [None for _ in range(n)]\n",
    "        # O(n**2)\n",
    "        #for i in range(n):\n",
    "        #    randidx = rannomids[i]\n",
    "        #    idx = ids.index(randidx)\n",
    "        #    randtoidx[i] = idx\n",
    "        #\n",
    "        # O(nlogn) zip, sort, and pointer trick\n",
    "        idssort = sorted(zip(ids, range(n)))\n",
    "        randomidssort = sorted(zip(randomids, range(n)))\n",
    "        print(randomidssort)\n",
    "        p1 = 0\n",
    "        p2 = 0\n",
    "        while (p1 < n) and (p2 < n):\n",
    "            nxt, nxtidx = randomidssort[p1]\n",
    "            idc, idcidx = idssort[p2]\n",
    "            if nxt == 0:\n",
    "                p1 += 1\n",
    "            elif nxt == idc:\n",
    "                randtoidx[nxtidx] = idcidx\n",
    "                p1 += 1\n",
    "            else:\n",
    "                p2 += 1\n",
    "\n",
    "        nodelst = [Node(v) for v in vals]\n",
    "        for i in range(n-1):\n",
    "            nodelst[i].next = nodelst[i+1]\n",
    "        for i in range(n):\n",
    "            if randtoidx[i] is None:\n",
    "                nodelst[i].random = None\n",
    "            else:\n",
    "                nodelst[i].random = nodelst[randtoidx[i]]\n",
    "        return nodelst[0]"
   ]
  },
  {
   "cell_type": "code",
   "execution_count": 44,
   "id": "a287472b-fead-4afc-b8e2-9d0fc3479dc9",
   "metadata": {},
   "outputs": [
    {
     "name": "stdout",
     "output_type": "stream",
     "text": [
      "[(0, 2), (139753402090016, 1), (139753740394656, 3), (139753740395760, 0)]\n"
     ]
    },
    {
     "data": {
      "text/plain": [
       "{'val': 5, 'next': {'val': 3, 'next': {'val': 11, 'next': {'val': -1, 'next': None, 'random': {...}}, 'random': None}, 'random': {'val': -1, 'next': None, 'random': {...}}}, 'random': {'val': 3, 'next': {'val': 11, 'next': {'val': -1, 'next': None, 'random': {...}}, 'random': None}, 'random': {'val': -1, 'next': None, 'random': {...}}}}"
      ]
     },
     "execution_count": 44,
     "metadata": {},
     "output_type": "execute_result"
    }
   ],
   "source": [
    "a = Node(5)\n",
    "b = Node(3)\n",
    "c = Node(11)\n",
    "d = Node(-1)\n",
    "a.next, b.next, c.next, d.next = b, c, d, None\n",
    "a.random, b.random, c.random, d.random = b, d, None, a\n",
    "root = a\n",
    "\n",
    "sol = Solution().copyRandomList(root)\n",
    "sol.next.next.next.random"
   ]
  },
  {
   "cell_type": "code",
   "execution_count": null,
   "id": "8078ade2-f5d0-4375-a1f4-aa8db919b87f",
   "metadata": {},
   "outputs": [],
   "source": [
    "def _join(arr1, arr2):\n",
    "    n1 = len(arr1)\n",
    "    n2 = len(arr2)\n",
    "    narr = []\n",
    "    p1 = 0\n",
    "    p2 = 0\n",
    "    while (p1 < n1) or (p2 < n2):\n",
    "        if (p1 < n1) and (p2 < n2):\n",
    "            x1, x2 = arr1[p1], arr2[p2]\n",
    "            if x1 <= x2:\n",
    "                narr.append(x1)\n",
    "                p1 += 1\n",
    "            else:\n",
    "                narr.append(x2)\n",
    "                p2 += 1\n",
    "        elif (p1 < n1):\n",
    "            narr.append(arr1[p1])\n",
    "            p1 += 1\n",
    "        else:\n",
    "            narr.append(arr2[p2])\n",
    "            p2 += 1\n",
    "    return narr\n",
    "\n",
    "def merge(arr):\n",
    "    n = len(arr)\n",
    "    if n <= 1:\n",
    "        ret = arr\n",
    "    else:\n",
    "        ret = merge(_join(arr[:n//2], arr[n//2:]))\n",
    "    return ret"
   ]
  },
  {
   "cell_type": "code",
   "execution_count": 47,
   "id": "f3c943e1-aa73-4a44-aeec-a9bed938aa4c",
   "metadata": {},
   "outputs": [
    {
     "data": {
      "text/plain": [
       "0"
      ]
     },
     "execution_count": 47,
     "metadata": {},
     "output_type": "execute_result"
    }
   ],
   "source": [
    "import collections\n",
    "s = \"absdfbafdsbf\"\n",
    "cnt1 = collections.Counter(s)\n",
    "cnt2 = collections.Counter(s[:7])\n",
    "cnt1[\"z\"]"
   ]
  },
  {
   "cell_type": "code",
   "execution_count": 49,
   "id": "75a31156-3f52-4439-ba6d-303de42ba809",
   "metadata": {},
   "outputs": [],
   "source": [
    "from typing import List"
   ]
  },
  {
   "cell_type": "code",
   "execution_count": 57,
   "id": "995ae943-582f-4090-877b-ea4c385fea0f",
   "metadata": {},
   "outputs": [],
   "source": [
    "import collections\n",
    "\n",
    "# maybe make a class to wrap flat, mask, n, m\n",
    "def _recur(flat, mask, lastpt, sresidual, n, m):\n",
    "    if len(sresidual) == 0:\n",
    "        ret = True\n",
    "    elif lastpt is not None:\n",
    "        arr = []\n",
    "        c = sresidual[0]\n",
    "        up = lastpt - m if lastpt >= m else None\n",
    "        if (up is not None) and (not mask[up]) and (flat[up] == c):\n",
    "            arr.append(up)\n",
    "        dwn = lastpt + m if lastpt <= m * n - m - 1 else None\n",
    "        if (dwn is not None) and (not mask[dwn]) and (flat[dwn] == c):\n",
    "            arr.append(dwn)\n",
    "        left = lastpt - 1 if lastpt % m > 0 else None\n",
    "        if (left is not None) and (not mask[left]) and (flat[left] == c):\n",
    "            arr.append(left)\n",
    "        right = lastpt + 1 if lastpt % m < m - 1 else None\n",
    "        if (right is not None) and (not mask[right]) and (flat[right] == c):\n",
    "            arr.append(right)\n",
    "        # sloppy\n",
    "        ret = False\n",
    "        print(arr)\n",
    "        for x in arr:\n",
    "            new_mask = [mask[i] if i != x else True for i in range(n * m)]\n",
    "            ret = ret | _recur(flat, new_mask, x, sresidual[1:], n, m)\n",
    "    else:\n",
    "        c = sresidual[0]\n",
    "        ret = False\n",
    "        arr = [x for x in range(n * m) if flat[x] == c]\n",
    "        print(arr)\n",
    "        for x in arr:\n",
    "            new_mask = [mask[i] if i != x else True for i in range(n * m)]\n",
    "            ret = ret | _recur(flat, new_mask, x, sresidual[1:], n, m)\n",
    "    return ret\n",
    "    \n",
    "\n",
    "class Solution:\n",
    "    def exist(self, board: List[List[str]], word: str) -> bool:\n",
    "        n = len(board)\n",
    "        m = len(board[0]) if n > 0 else 0\n",
    "        q = len(word)\n",
    "        if q == 0:\n",
    "            ret = True\n",
    "        else:\n",
    "            cnt = collections.Counter()\n",
    "            for l in board:\n",
    "                cnt = cnt + collections.Counter(l)\n",
    "            scnt = collections.Counter(word)\n",
    "            contained = True\n",
    "            for key, val in scnt.items():\n",
    "                if cnt[key] < val:\n",
    "                    contained = False\n",
    "            if not contained:\n",
    "                ret = False\n",
    "            else:\n",
    "                mask = [False for _ in range(n * m)]\n",
    "                flat = [board[i//m][i%m] for i in range(n * m)]\n",
    "                ret = _recur(flat, mask, None, word, n, m)\n",
    "        return ret"
   ]
  },
  {
   "cell_type": "code",
   "execution_count": 58,
   "id": "6b0207ae-2b34-45a7-bd75-1534efa3843a",
   "metadata": {},
   "outputs": [
    {
     "name": "stdout",
     "output_type": "stream",
     "text": [
      "[0, 8]\n",
      "[1]\n",
      "[2]\n",
      "[6]\n",
      "[10]\n",
      "[9]\n",
      "[]\n"
     ]
    },
    {
     "data": {
      "text/plain": [
       "True"
      ]
     },
     "execution_count": 58,
     "metadata": {},
     "output_type": "execute_result"
    }
   ],
   "source": [
    "arr = [[\"A\",\"B\",\"C\",\"E\"],[\"S\",\"F\",\"C\",\"S\"],[\"A\",\"D\",\"E\",\"E\"]]\n",
    "word = \"ABCCED\"\n",
    "Solution().exist(arr, word)"
   ]
  },
  {
   "cell_type": "code",
   "execution_count": null,
   "id": "54f14ea7-8eb6-4535-9dd3-835c6cb5d957",
   "metadata": {},
   "outputs": [],
   "source": [
    "def _zigzag(pcoord, ascending, n):\n",
    "    ret = []\n",
    "    if ascending and pcoord[0] > 0:\n",
    "        coord = (pcoord[0] - 1, pcoord[1] + 1)\n",
    "    elif ascending:\n",
    "        ascending = False\n",
    "        coord = (pcoord[0] + 1, pcoord[1])\n",
    "    elif (not ascending) and pcoord[0] < n - 1:\n",
    "        coord = (pcoord[0] + 1, pcoord[1])\n",
    "    else:\n",
    "        coord = (pcoord[0] - 1, pcoord[1] + 1)\n",
    "        ascending = True\n",
    "    return coord, ascending\n",
    "\n",
    "def _rec(s, n):\n",
    "    ret = []\n",
    "    if len(s) == 0:\n",
    "        ret = []\n",
    "    elif n == 1:\n",
    "        ret = [(0, i) for i in range(s)]\n",
    "    else:\n",
    "        coord = (0, 0)\n",
    "        ret = [coord]\n",
    "        ascending = False\n",
    "        for c in s[1:]:\n",
    "            coord, ascending = _zigzag(coord, ascending, n)\n",
    "            ret.append(coord)        \n",
    "    return ret\n",
    "\n",
    "class Solution:\n",
    "    def convert(self, s: str, numRows: int) -> str:\n",
    "        # easier to get tuples then take max\n",
    "        n = len(s)\n",
    "        if (numRows == 1) or (n == 0):\n",
    "            ret = s\n",
    "        else:\n",
    "            arr = _rec(s, numRows)\n",
    "            mx_width = arr[-1][1] + 1\n",
    "            new_s = [\" \" for i in range(numRos * mx_width)\n",
    "            for i in range(numRows - 1):\n",
    "                out[i * mx_width - 1] = '\\n'\n",
    "            for i, (y, x) in enumerate(arr):\n",
    "                out[y*mx_width + x] = s[i]\n",
    "            ret = \"\".join(out).strip()\n",
    "        return ret"
   ]
  },
  {
   "cell_type": "code",
   "execution_count": 60,
   "id": "9642ff0b-23f8-4689-9da3-9f55e14bdb97",
   "metadata": {},
   "outputs": [
    {
     "data": {
      "text/plain": [
       "3.0"
      ]
     },
     "execution_count": 60,
     "metadata": {},
     "output_type": "execute_result"
    }
   ],
   "source": [
    "import math\n",
    "math.log2(8)"
   ]
  },
  {
   "cell_type": "code",
   "execution_count": 120,
   "id": "704e8f90-d421-407e-90a1-3e0d231a89b9",
   "metadata": {},
   "outputs": [],
   "source": [
    "import collections\n",
    "\n",
    "def _get_log2(x):\n",
    "    ret = 0\n",
    "    while (x >> 1) > 0:\n",
    "        x = x >> 1\n",
    "        ret += 1\n",
    "    return ret\n",
    "\n",
    "def _first_zero(x, n):\n",
    "    p = n - 1\n",
    "    x = x - 2**n\n",
    "     while (p > -1) and ((x >= 2**p)):\n",
    "        x = x - 2**p\n",
    "        p -= 1\n",
    "    return p\n",
    "    \n",
    "\n",
    "class Solution:\n",
    "    def findMaximumXOR(self, nums: List[int]) -> int:\n",
    "        # O(n**2/4)\n",
    "        n = len(nums)\n",
    "        dct = collections.defaultdict(set)\n",
    "        mx = 0\n",
    "        for x in nums:\n",
    "            w = _get_log2(x)\n",
    "            if w > mx:\n",
    "                mx = w\n",
    "            dct[w].add(x)\n",
    "        mn = min(list(dct.keys()))\n",
    "        maxxor = 0\n",
    "        if len(dct) == 1:\n",
    "            print(mx)\n",
    "            if mx > 0:\n",
    "                nums = [x - 2**mx for x in nums]\n",
    "                ret = self.findMaximumXOR(nums)\n",
    "            else:\n",
    "                nums = set(nums)\n",
    "                if len(nums) > 1:\n",
    "                    ret = 1\n",
    "                else:\n",
    "                    ret = 0\n",
    "                \n",
    "            # brute force\n",
    "        else:\n",
    "            for num in dct[mx]:\n",
    "                first_zero = _first_zero(num, mx)\n",
    "                while (first_zero > -1) and (len(dct[first_zero]) == 0):\n",
    "                    first_zero -= 1\n",
    "                if first_zero == -1:\n",
    "                    first_zero = mn\n",
    "                for val in dct[first_zero]:\n",
    "                    w = val ^ num\n",
    "                    if w > maxxor:\n",
    "                        maxxor = w\n",
    "            ret = maxxor\n",
    "        return ret"
   ]
  },
  {
   "cell_type": "code",
   "execution_count": 124,
   "id": "20f151e0-24fc-496e-91d0-9810e38aa67a",
   "metadata": {},
   "outputs": [
    {
     "name": "stdout",
     "output_type": "stream",
     "text": [
      "0\n"
     ]
    },
    {
     "data": {
      "text/plain": [
       "0"
      ]
     },
     "execution_count": 124,
     "metadata": {},
     "output_type": "execute_result"
    }
   ],
   "source": [
    "#arr = [14,70,53,83,49,91,36,80,92,51,66,70]\n",
    "arr = [0]\n",
    "Solution().findMaximumXOR(arr)"
   ]
  },
  {
   "cell_type": "code",
   "execution_count": 132,
   "id": "72a11816-1586-4bd2-bec6-51817ce571d2",
   "metadata": {},
   "outputs": [],
   "source": [
    "class Solution:\n",
    "    def maxArea(self, height: List[int]) -> int:\n",
    "        n = len(height)\n",
    "        p0 = 0\n",
    "        p1 = n - 1\n",
    "        mx = min(height[p0], height[p1]) * (p1 - p0)\n",
    "        movel = height[p0] < height[p1]\n",
    "        while p1 > p0:\n",
    "            if movel:\n",
    "                p0 += 1\n",
    "            else:\n",
    "                p1 -= 1\n",
    "            print(min(height[p0], height[p1]), p1 - p0, p0, p1)\n",
    "            tmp = min(height[p0], height[p1]) * (p1 - p0)\n",
    "            movel = height[p0] < height[p1]\n",
    "            if tmp > mx:\n",
    "                mx = tmp\n",
    "                \n",
    "        return mx            "
   ]
  },
  {
   "cell_type": "code",
   "execution_count": 133,
   "id": "1708cfdd-f4cb-4051-be76-9d39ac87b89e",
   "metadata": {},
   "outputs": [
    {
     "name": "stdout",
     "output_type": "stream",
     "text": [
      "3 5 1 6\n",
      "4 4 2 6\n",
      "5 3 3 6\n",
      "6 2 4 6\n",
      "17 1 4 5\n",
      "18 0 4 4\n"
     ]
    },
    {
     "data": {
      "text/plain": [
       "17"
      ]
     },
     "execution_count": 133,
     "metadata": {},
     "output_type": "execute_result"
    }
   ],
   "source": [
    "arr = [2,3,4,5,18,17,6]\n",
    "Solution().maxArea(arr)"
   ]
  },
  {
   "cell_type": "code",
   "execution_count": 134,
   "id": "0ac6c0a9-855b-48e5-b0ae-bfa020ed6b7c",
   "metadata": {},
   "outputs": [
    {
     "ename": "NameError",
     "evalue": "name 'Optional' is not defined",
     "output_type": "error",
     "traceback": [
      "\u001b[0;31m---------------------------------------------------------------------------\u001b[0m",
      "\u001b[0;31mNameError\u001b[0m                                 Traceback (most recent call last)",
      "\u001b[0;32m<ipython-input-134-cd63db3624b5>\u001b[0m in \u001b[0;36m<module>\u001b[0;34m\u001b[0m\n\u001b[1;32m     36\u001b[0m \u001b[0;34m\u001b[0m\u001b[0m\n\u001b[1;32m     37\u001b[0m \u001b[0;34m\u001b[0m\u001b[0m\n\u001b[0;32m---> 38\u001b[0;31m \u001b[0;32mclass\u001b[0m \u001b[0mSolution\u001b[0m\u001b[0;34m:\u001b[0m\u001b[0;34m\u001b[0m\u001b[0;34m\u001b[0m\u001b[0m\n\u001b[0m\u001b[1;32m     39\u001b[0m     \u001b[0;32mdef\u001b[0m \u001b[0mreverseKGroup\u001b[0m\u001b[0;34m(\u001b[0m\u001b[0mself\u001b[0m\u001b[0;34m,\u001b[0m \u001b[0mhead\u001b[0m\u001b[0;34m:\u001b[0m \u001b[0mOptional\u001b[0m\u001b[0;34m[\u001b[0m\u001b[0mListNode\u001b[0m\u001b[0;34m]\u001b[0m\u001b[0;34m,\u001b[0m \u001b[0mk\u001b[0m\u001b[0;34m:\u001b[0m \u001b[0mint\u001b[0m\u001b[0;34m)\u001b[0m \u001b[0;34m->\u001b[0m \u001b[0mOptional\u001b[0m\u001b[0;34m[\u001b[0m\u001b[0mListNode\u001b[0m\u001b[0;34m]\u001b[0m\u001b[0;34m:\u001b[0m\u001b[0;34m\u001b[0m\u001b[0;34m\u001b[0m\u001b[0m\n\u001b[1;32m     40\u001b[0m         \u001b[0;31m# dummy front node\u001b[0m\u001b[0;34m\u001b[0m\u001b[0;34m\u001b[0m\u001b[0;34m\u001b[0m\u001b[0m\n",
      "\u001b[0;32m<ipython-input-134-cd63db3624b5>\u001b[0m in \u001b[0;36mSolution\u001b[0;34m()\u001b[0m\n\u001b[1;32m     37\u001b[0m \u001b[0;34m\u001b[0m\u001b[0m\n\u001b[1;32m     38\u001b[0m \u001b[0;32mclass\u001b[0m \u001b[0mSolution\u001b[0m\u001b[0;34m:\u001b[0m\u001b[0;34m\u001b[0m\u001b[0;34m\u001b[0m\u001b[0m\n\u001b[0;32m---> 39\u001b[0;31m     \u001b[0;32mdef\u001b[0m \u001b[0mreverseKGroup\u001b[0m\u001b[0;34m(\u001b[0m\u001b[0mself\u001b[0m\u001b[0;34m,\u001b[0m \u001b[0mhead\u001b[0m\u001b[0;34m:\u001b[0m \u001b[0mOptional\u001b[0m\u001b[0;34m[\u001b[0m\u001b[0mListNode\u001b[0m\u001b[0;34m]\u001b[0m\u001b[0;34m,\u001b[0m \u001b[0mk\u001b[0m\u001b[0;34m:\u001b[0m \u001b[0mint\u001b[0m\u001b[0;34m)\u001b[0m \u001b[0;34m->\u001b[0m \u001b[0mOptional\u001b[0m\u001b[0;34m[\u001b[0m\u001b[0mListNode\u001b[0m\u001b[0;34m]\u001b[0m\u001b[0;34m:\u001b[0m\u001b[0;34m\u001b[0m\u001b[0;34m\u001b[0m\u001b[0m\n\u001b[0m\u001b[1;32m     40\u001b[0m         \u001b[0;31m# dummy front node\u001b[0m\u001b[0;34m\u001b[0m\u001b[0;34m\u001b[0m\u001b[0;34m\u001b[0m\u001b[0m\n\u001b[1;32m     41\u001b[0m         \u001b[0mdummy\u001b[0m \u001b[0;34m=\u001b[0m \u001b[0mListNode\u001b[0m\u001b[0;34m(\u001b[0m\u001b[0;34m-\u001b[0m\u001b[0;36m1\u001b[0m\u001b[0;34m,\u001b[0m \u001b[0mnext\u001b[0m\u001b[0;34m=\u001b[0m\u001b[0mhead\u001b[0m\u001b[0;34m)\u001b[0m\u001b[0;34m\u001b[0m\u001b[0;34m\u001b[0m\u001b[0m\n",
      "\u001b[0;31mNameError\u001b[0m: name 'Optional' is not defined"
     ]
    }
   ],
   "source": [
    "from typing import List\n",
    "# Definition for singly-linked list.\n",
    "class ListNode:\n",
    "    def __init__(self, val=0, next=None):\n",
    "        self.val = val\n",
    "        self.next = next\n",
    "        \n",
    "def _helper(pb, k):\n",
    "    if pb is None:\n",
    "        ret = None\n",
    "    else:\n",
    "        counter = 0\n",
    "        ptr = pb\n",
    "        p1 = pb.next\n",
    "        while (counter < k) and (ptr is not None):\n",
    "            ptr = ptr.next\n",
    "            counter += 1\n",
    "        p2 = ptr\n",
    "        p3 = ptr.next if ptr is not None else None\n",
    "        if counter == k:\n",
    "            rev = _rec(p1, k-1)\n",
    "            pb.next = p2\n",
    "            p1.next = p3\n",
    "            ret = p1\n",
    "        else:\n",
    "            ret = None\n",
    "    return ret\n",
    "\n",
    "def _rec(pb, k):\n",
    "    if k > 0:\n",
    "        _rec(pb, k-1).next = pb\n",
    "        ret = pb\n",
    "    elif k == 0:\n",
    "        ret = pb\n",
    "    return ret\n",
    "        \n",
    "        \n",
    "class Solution:\n",
    "    def reverseKGroup(self, head: Optional[ListNode], k: int) -> Optional[ListNode]:\n",
    "        # dummy front node\n",
    "        dummy = ListNode(-1, next=head)\n",
    "        pb = dummy\n",
    "        while pb is not None:\n",
    "            pb = _helper(pb, k)\n",
    "        return dummy.next"
   ]
  },
  {
   "cell_type": "code",
   "execution_count": 140,
   "id": "1dcb511f-8191-4e89-90df-fa46719b5843",
   "metadata": {},
   "outputs": [],
   "source": [
    "class Solution:\n",
    "    def removeDuplicates(self, nums: List[int]) -> int:\n",
    "        # swap and pop\n",
    "        # O(n**2) time?\n",
    "        n = len(nums)\n",
    "        if n == 0:\n",
    "            ret = nums\n",
    "        else:\n",
    "            pa = n - 1\n",
    "            lst = nums[pa]\n",
    "            pb = pa - 1\n",
    "            while pb > -1:\n",
    "                print(nums)\n",
    "                x = nums[pb]\n",
    "                if lst == x:\n",
    "                    nums.pop(pa)\n",
    "                    lst = x\n",
    "                    pa = pb\n",
    "                    pb -= 1\n",
    "                else:\n",
    "                    lst = x\n",
    "                    pa = pb\n",
    "                    pb -= 1\n",
    "            ret = nums\n",
    "        return ret\n",
    "                \n",
    "            "
   ]
  },
  {
   "cell_type": "code",
   "execution_count": 141,
   "id": "cbdad7e0-3439-4d95-a6b1-711298af8aab",
   "metadata": {},
   "outputs": [
    {
     "name": "stdout",
     "output_type": "stream",
     "text": [
      "[1, 1, 2]\n",
      "[1, 1, 2]\n"
     ]
    },
    {
     "data": {
      "text/plain": [
       "[1, 2]"
      ]
     },
     "execution_count": 141,
     "metadata": {},
     "output_type": "execute_result"
    }
   ],
   "source": [
    "arr = [1, 1, 2]\n",
    "Solution().removeDuplicates(arr)"
   ]
  },
  {
   "cell_type": "code",
   "execution_count": null,
   "id": "55059a06-e614-4d2c-908b-5451902f4b02",
   "metadata": {},
   "outputs": [],
   "source": [
    "class Node():\n",
    "    def __init__(self, val=\"\", chld={}):\n",
    "        self.val = val\n",
    "        self.chld = chld\n",
    "\n",
    "        \n",
    "class WordDictionary:\n",
    "    # trie\n",
    "    def __init__(self):\n",
    "        self.root = Node()\n",
    "\n",
    "    def addWord(self, word: str) -> None:\n",
    "        ptr = self.root\n",
    "        for c in word:\n",
    "            if c in ptr.chld:\n",
    "                ptr = ptr.chld[c]\n",
    "            else:\n",
    "                ptr.chld[c] = Node(c)\n",
    "                ptr = ptr.chld[c]\n",
    "                \n",
    "    def search(self, word: str) -> bool:\n",
    "        ptr = self.root\n",
    "        return self._helper(word, ptr)\n",
    "                        \n",
    "            \n",
    "    def _helper(self, word, ptr):\n",
    "        ret = True\n",
    "        if len(word) == 0:\n",
    "            pass\n",
    "        else:\n",
    "            cond = True\n",
    "            i = 0\n",
    "            while (cond) and (i < len(word)):\n",
    "                c = word[i]\n",
    "                if c != \".\":\n",
    "                    if word[i] in ptr.chld:\n",
    "                        ptr = ptr.chld[word[i]]\n",
    "                        i += 1\n",
    "                    else:\n",
    "                        cond = False\n",
    "                        ret = False\n",
    "                else:\n",
    "                    ret = any([\n",
    "                        self._helper(word[i+1:], val)\n",
    "                        for key, val in ptr.chld.items()])\n",
    "                    cond = False\n",
    "        return ret\n",
    "                    \n"
   ]
  }
 ],
 "metadata": {
  "kernelspec": {
   "display_name": "Python 3",
   "language": "python",
   "name": "python3"
  },
  "language_info": {
   "codemirror_mode": {
    "name": "ipython",
    "version": 3
   },
   "file_extension": ".py",
   "mimetype": "text/x-python",
   "name": "python",
   "nbconvert_exporter": "python",
   "pygments_lexer": "ipython3",
   "version": "3.8.10"
  }
 },
 "nbformat": 4,
 "nbformat_minor": 5
}
