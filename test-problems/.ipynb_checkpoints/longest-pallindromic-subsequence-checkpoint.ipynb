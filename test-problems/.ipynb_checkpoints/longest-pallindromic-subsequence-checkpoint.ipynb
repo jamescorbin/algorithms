{
 "cells": [
  {
   "cell_type": "code",
   "execution_count": 13,
   "id": "f7e3cbe8-7380-43f1-a371-7caf766ab160",
   "metadata": {},
   "outputs": [],
   "source": [
    "class Solution:\n",
    "    def longestPalindromeSubseq(self, s: str) -> int:\n",
    "        # DP\n",
    "        s = [c for c in s]\n",
    "        s = \"|\".join(s)\n",
    "        n = len(s)\n",
    "        memo = [[1 if j % 2 == 0 else 0 for j in range(n)] for i in range(n//2 + 1)]\n",
    "\n",
    "        for window in range(1, n//2 + 1):\n",
    "            for center in range(window, n-window):\n",
    "                lp = center - window\n",
    "                rp = center + window\n",
    "                if (s[lp] != '|') and (s[lp] == s[rp]):\n",
    "                    memo[window][center] = memo[window-1][center] + 2\n",
    "                else:\n",
    "                    memo[window][center] = memo[window-1][center]\n",
    "                memo[window][center] = max([\n",
    "                            memo[window][center],\n",
    "                            memo[window-1][center+1],\n",
    "                            memo[window-1][center-1]])                          \n",
    "        return memo[n//2][n//2] "
   ]
  },
  {
   "cell_type": "code",
   "execution_count": 14,
   "id": "359b8734-15ea-44c0-b39c-4dfb473d3907",
   "metadata": {},
   "outputs": [
    {
     "name": "stdout",
     "output_type": "stream",
     "text": [
      "[[1, 0, 1, 0, 1, 0, 1, 0, 1], [1, 2, 1, 2, 1, 1, 1, 1, 1], [1, 0, 3, 2, 2, 1, 3, 0, 1], [1, 0, 1, 3, 2, 3, 1, 0, 1], [1, 0, 1, 0, 4, 0, 1, 0, 1]]\n"
     ]
    },
    {
     "data": {
      "text/plain": [
       "4"
      ]
     },
     "execution_count": 14,
     "metadata": {},
     "output_type": "execute_result"
    }
   ],
   "source": [
    "s = \"bbbab\"\n",
    "Solution().longestPalindromeSubseq(s)"
   ]
  }
 ],
 "metadata": {
  "kernelspec": {
   "display_name": "Python 3",
   "language": "python",
   "name": "python3"
  },
  "language_info": {
   "codemirror_mode": {
    "name": "ipython",
    "version": 3
   },
   "file_extension": ".py",
   "mimetype": "text/x-python",
   "name": "python",
   "nbconvert_exporter": "python",
   "pygments_lexer": "ipython3",
   "version": "3.8.10"
  }
 },
 "nbformat": 4,
 "nbformat_minor": 5
}
