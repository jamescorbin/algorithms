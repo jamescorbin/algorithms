{
 "cells": [
  {
   "cell_type": "code",
   "execution_count": null,
   "id": "984d184b-3976-4a3e-af96-ab57fcc61adf",
   "metadata": {},
   "outputs": [],
   "source": [
    "import string\n",
    "class Solution:\n",
    "    def multiply(self, num1: str, num2: str) -> str:\n",
    "        mp = {s: i for i, s in enumerate(string.digits)}\n",
    "        revmp = {i: s for s, i in mp.items()}\n",
    "        arr1 = [mp[c] * 10**(len(num1) - i - 1) for i, c in enumerate(num1)]\n",
    "        arr2 = [mp[c] * 10**(len(num2) - i - 1) for i, c in enumerate(num2)]\n",
    "        sm = 0\n",
    "        for d1 in arr1:\n",
    "            for d2 in arr2:\n",
    "                sm += d1 * d2\n",
    "        # reversed order\n",
    "        retr = []\n",
    "        if sm != 0:\n",
    "            while sm > 0:\n",
    "                retr.append(revmp[sm % 10])\n",
    "                sm = sm // 10\n",
    "            ret = \"\".join(list(reversed(retr)))\n",
    "        else:\n",
    "            ret = \"0\"\n",
    "        return ret\n",
    "    \n",
    "s1 = \"123\"\n",
    "s2 = \"456\"\n",
    "Solution().multiply(s1, s2)"
   ]
  },
  {
   "cell_type": "code",
   "execution_count": null,
   "id": "50bf8bcd-aa9e-4ac5-a3ce-18461bc467ae",
   "metadata": {},
   "outputs": [],
   "source": [
    "def _rec(s, p, ptrs, ptrp):\n",
    "    m = len(s)\n",
    "    n = len(p)\n",
    "    if ptrs == m and ptrp == n:\n",
    "        ret = True\n",
    "    elif ptrp >= n:\n",
    "        ret = False\n",
    "    elif ptrs > m:\n",
    "        ret = False\n",
    "    else:\n",
    "        reg = p[ptrp]\n",
    "        if reg == \"*\":\n",
    "            ret = _rec(s, p, ptrs+1, ptrp) | _rec(s, p, ptrs, ptrp+1)\n",
    "        elif reg == \"?\":\n",
    "            ret = _rec(s, p, ptrs+1, ptrp+1)\n",
    "        else:\n",
    "            c = s[ptrs]\n",
    "            if c != reg:\n",
    "                ret = False\n",
    "            else:\n",
    "                ret = _rec(s, p, ptrs+1, ptrp+1)\n",
    "    return ret\n",
    "\n",
    "class Solution:\n",
    "    def isMatch(self, s: str, p: str) -> bool:\n",
    "        return _rec(s, p, 0, 0)\n",
    "    \n",
    "    \n",
    "s = \"aa\"\n",
    "p = \"*\"\n",
    "Solution().isMatch(s, p)"
   ]
  }
 ],
 "metadata": {
  "kernelspec": {
   "display_name": "Python 3",
   "language": "python",
   "name": "python3"
  },
  "language_info": {
   "codemirror_mode": {
    "name": "ipython",
    "version": 3
   },
   "file_extension": ".py",
   "mimetype": "text/x-python",
   "name": "python",
   "nbconvert_exporter": "python",
   "pygments_lexer": "ipython3",
   "version": "3.8.10"
  }
 },
 "nbformat": 4,
 "nbformat_minor": 5
}
