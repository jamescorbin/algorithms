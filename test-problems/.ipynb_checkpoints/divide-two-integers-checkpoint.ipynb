{
 "cells": [
  {
   "cell_type": "code",
   "execution_count": 11,
   "id": "b2ffc559-ef89-4d94-8abe-a551e64a5f6d",
   "metadata": {},
   "outputs": [
    {
     "name": "stdout",
     "output_type": "stream",
     "text": [
      "1 1\n",
      "2\n",
      "0 1\n"
     ]
    },
    {
     "data": {
      "text/plain": [
       "-1"
      ]
     },
     "execution_count": 11,
     "metadata": {},
     "output_type": "execute_result"
    }
   ],
   "source": [
    "def _rec(a, b):\n",
    "        if b > a:\n",
    "            ret = 0\n",
    "        else:\n",
    "            k = 0\n",
    "            while (a - (b << (k+1)) >= 0):\n",
    "                k += 1\n",
    "            ret = 2**k + _rec(a - (b << k), b)\n",
    "        return ret\n",
    "    \n",
    "class Solution:\n",
    "    def divide(self, dividend: int, divisor: int) -> int:\n",
    "        sgn = 1\n",
    "        if dividend >= 0:\n",
    "            a = dividend\n",
    "        else:\n",
    "            a = -dividend\n",
    "            sgn = -sgn\n",
    "        if divisor >= 0:\n",
    "            b = divisor\n",
    "        else:\n",
    "            b = -divisor\n",
    "            sgn = -sgn\n",
    "        ret = sgn * _rec(a, b)\n",
    "        ret = max(min(ret, 2**32-1), -2**31)\n",
    "        return ret\n",
    "\n",
    "Solution().divide(-1, 1)"
   ]
  }
 ],
 "metadata": {
  "kernelspec": {
   "display_name": "Python 3",
   "language": "python",
   "name": "python3"
  },
  "language_info": {
   "codemirror_mode": {
    "name": "ipython",
    "version": 3
   },
   "file_extension": ".py",
   "mimetype": "text/x-python",
   "name": "python",
   "nbconvert_exporter": "python",
   "pygments_lexer": "ipython3",
   "version": "3.8.10"
  }
 },
 "nbformat": 4,
 "nbformat_minor": 5
}
