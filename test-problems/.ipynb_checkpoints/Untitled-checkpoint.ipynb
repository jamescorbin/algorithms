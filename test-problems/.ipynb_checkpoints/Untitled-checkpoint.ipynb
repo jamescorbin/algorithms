{
 "cells": [
  {
   "cell_type": "code",
   "execution_count": 3,
   "id": "83de5a31-ac3a-400e-98b3-b8b95204e662",
   "metadata": {},
   "outputs": [
    {
     "data": {
      "text/plain": [
       "'dab'"
      ]
     },
     "execution_count": 3,
     "metadata": {},
     "output_type": "execute_result"
    }
   ],
   "source": [
    "class Solution:\n",
    "    def removeOccurrences(self, s: str, part: str) -> str:\n",
    "        stack = []\n",
    "        n = len(s)\n",
    "        p = 0\n",
    "        m = len(part)\n",
    "        comp = [c for c in part]\n",
    "        while p < n:\n",
    "            stack.append(s[p])\n",
    "            cond = True\n",
    "            while cond and len(stack) >= m:\n",
    "                if stack[-m:] == comp:\n",
    "                    for i in range(m):\n",
    "                        stack.pop()\n",
    "                else:\n",
    "                    cond = False\n",
    "            p += 1\n",
    "        return \"\".join(stack)\n",
    "        \n",
    "s = \"daabcbaabcbc\"\n",
    "part = \"abc\"\n",
    "Solution().removeOccurrences(s, part)"
   ]
  },
  {
   "cell_type": "code",
   "execution_count": 30,
   "id": "953de345-adaf-47ad-ac3f-1a7728f942d7",
   "metadata": {},
   "outputs": [
    {
     "name": "stdout",
     "output_type": "stream",
     "text": [
      "{'hot': Node: hot, 'dog': Node: dog, 'dot': Node: dot}\n"
     ]
    },
    {
     "data": {
      "text/plain": [
       "3"
      ]
     },
     "execution_count": 30,
     "metadata": {},
     "output_type": "execute_result"
    }
   ],
   "source": [
    "from typing import List\n",
    "\n",
    "class Node():\n",
    "    def __init__(self, val:str):\n",
    "        self.val = val\n",
    "        self.neigh = list()\n",
    "    def __repr__(self):\n",
    "        return f\"Node: {self.val}\"        \n",
    "        \n",
    "def distance1(word1, word2) -> bool:\n",
    "    miss = 0\n",
    "    n = len(word1)\n",
    "    for i in range(n):\n",
    "        if word1[i] != word2[i]:\n",
    "            miss += 1\n",
    "    ret = True if miss == 1 else 0\n",
    "    return ret\n",
    "\n",
    "class Graph():\n",
    "    def __init__(self):\n",
    "        self.nodes = dict()\n",
    "        \n",
    "    def add(self, node):\n",
    "        for word, nd in self.nodes.items():\n",
    "            if distance1(word, node.val):\n",
    "                nd.neigh.append(node)\n",
    "                node.neigh.append(nd)\n",
    "        self.nodes[node.val] = node\n",
    "        \n",
    "\n",
    "def breadth_search(graph, node, target):\n",
    "    buffer = [node]\n",
    "    hashset = set([nd.val for nd in buffer])\n",
    "    p = 0\n",
    "    level = 1\n",
    "    p1 = 0\n",
    "    cond = True\n",
    "    ret = 0\n",
    "    while p < len(buffer) and cond:\n",
    "        nxt = buffer[p]\n",
    "        to_add = [nd for nd in nxt.neigh if nd.val not in hashset]\n",
    "        buffer.extend(to_add)\n",
    "        hashset = hashset | set([nd.val for nd in to_add])\n",
    "        if target in hashset:\n",
    "            ret = level + 1\n",
    "            cond = False\n",
    "        if p == p1:\n",
    "            p1 = len(buffer) - 1\n",
    "            level += 1\n",
    "        p += 1\n",
    "    return ret\n",
    "        \n",
    "class Solution:\n",
    "    def ladderLength(self, beginWord: str, endWord: str, wordList: List[str]) -> int:\n",
    "        n = len(wordList)\n",
    "        graph = Graph()\n",
    "        bn = Node(beginWord)\n",
    "        graph.add(bn)\n",
    "        for word in wordList:\n",
    "            nd = Node(word)\n",
    "            graph.add(nd)\n",
    "        if endWord not in graph.nodes:\n",
    "            ret = 0\n",
    "        elif beginWord == endWord:\n",
    "            ret = 0\n",
    "        else:\n",
    "            ret = breadth_search(graph, graph.nodes[beginWord], endWord)\n",
    "        return ret\n",
    "#beginWord = \"hit\"\n",
    "#endWord = \"cog\"\n",
    "#wordList = [\"hot\",\"dot\",\"dog\",\"lot\",\"log\",\"cog\"]\n",
    "#beginWord = \"a\"\n",
    "#endWord = \"c\"\n",
    "#wordList = [\"a\", \"b\", \"c\"]\n",
    "beginWord = \"hot\"\n",
    "endWord = \"dog\"\n",
    "wordList = [\"hot\", \"dog\", \"dot\"]\n",
    "Solution().ladderLength(beginWord, endWord, wordList)"
   ]
  },
  {
   "cell_type": "code",
   "execution_count": 16,
   "id": "048404a0-fb39-451c-b214-e11f8fbadf2d",
   "metadata": {},
   "outputs": [],
   "source": []
  }
 ],
 "metadata": {
  "kernelspec": {
   "display_name": "Python 3",
   "language": "python",
   "name": "python3"
  },
  "language_info": {
   "codemirror_mode": {
    "name": "ipython",
    "version": 3
   },
   "file_extension": ".py",
   "mimetype": "text/x-python",
   "name": "python",
   "nbconvert_exporter": "python",
   "pygments_lexer": "ipython3",
   "version": "3.8.10"
  }
 },
 "nbformat": 4,
 "nbformat_minor": 5
}
