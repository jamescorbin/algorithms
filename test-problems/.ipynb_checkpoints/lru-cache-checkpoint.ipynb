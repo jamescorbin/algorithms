{
 "cells": [
  {
   "cell_type": "code",
   "execution_count": null,
   "id": "111d9c85-7bd7-42f9-8d83-4b577999a2f6",
   "metadata": {},
   "outputs": [],
   "source": [
    "# correct\n",
    "import collections\n",
    "\n",
    "class LRUCache:\n",
    "    \"\"\"\n",
    "    \"\"\"\n",
    "    def __init__(self, capacity: int):\n",
    "        self.capacity = capacity\n",
    "        self.buffer = collections.deque()\n",
    "        self.dictionary = dict()\n",
    "        self.ignore = dict()\n",
    "        self.full_buffer = False\n",
    "        \n",
    "    def get(self, key:int) -> int:\n",
    "        if key in self.dictionary.keys():\n",
    "            ret = self.dictionary[key]\n",
    "            self.ignore[key] = self.ignore.get(key, 0) + 1\n",
    "            self.buffer.appendleft(key)\n",
    "        else:\n",
    "            ret = -1\n",
    "        return ret\n",
    "    \n",
    "    def put(self, key:int, value:int) -> None:\n",
    "        if key in self.dictionary.keys():\n",
    "            ret = self.dictionary[key]\n",
    "            self.ignore[key] = self.ignore.get(key, 0) + 1\n",
    "            self.buffer.appendleft(key)\n",
    "        else:\n",
    "            if full_buffer:\n",
    "                t = self.buffer.pop()\n",
    "                while (t in self.ignore) and (self.ignore[t] > 0):\n",
    "                    t = self.buffer.pop()\n",
    "                self.dictionary.pop(t)\n",
    "            self.buffer.appendleft(key)\n",
    "            self.dictionary[key] = value\n",
    "            if not full_buffer:\n",
    "                if len(self.dictionary.keys()) == self.capacity:\n",
    "                    self.full_buffer = True\n",
    "        return None\n",
    "    "
   ]
  }
 ],
 "metadata": {
  "kernelspec": {
   "display_name": "Python 3",
   "language": "python",
   "name": "python3"
  },
  "language_info": {
   "codemirror_mode": {
    "name": "ipython",
    "version": 3
   },
   "file_extension": ".py",
   "mimetype": "text/x-python",
   "name": "python",
   "nbconvert_exporter": "python",
   "pygments_lexer": "ipython3",
   "version": "3.8.10"
  }
 },
 "nbformat": 4,
 "nbformat_minor": 5
}
