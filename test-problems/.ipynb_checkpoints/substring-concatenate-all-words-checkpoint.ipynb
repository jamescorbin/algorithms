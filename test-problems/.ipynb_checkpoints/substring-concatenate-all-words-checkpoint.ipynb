{
 "cells": [
  {
   "cell_type": "code",
   "execution_count": null,
   "metadata": {},
   "outputs": [],
   "source": [
    "def _mod(s, words, modk):\n",
    "    l =len(words[0])\n",
    "    m = (len(s) - modk) // l\n",
    "    record_list = []\n",
    "    record_dict = {w: 0 for w in words}\n",
    "    ret = []\n",
    "    for i in range(m):\n",
    "        v = i * l + modk\n",
    "        t = s[v:v+l]\n",
    "        if t in record_dict:\n",
    "            if record_dict[t] == 1:\n",
    "                idx = record_list.index(t)\n",
    "                to_remove = record_list[:idx+1]\n",
    "                for j in to_remove:\n",
    "                    record_dict[j] = 0\n",
    "                record_dict[t] = 1\n",
    "                record_list.append(t)\n",
    "            else:\n",
    "                record_dict[t] = 1\n",
    "                record_list.append(t)\n",
    "            if len(record_list) == len(words):\n",
    "                ret.append(v - (len(words) - 1) * l)\n",
    "                w = record_list.pop(0)\n",
    "                record_dict[w] = 0\n",
    "        else:\n",
    "            to_remove = record_list\n",
    "            record_dict.update({w: 0 for w in to_remove})\n",
    "            record_list = []\n",
    "    return ret\n",
    "\n",
    "def main(s, words):\n",
    "    l = len(words[0])\n",
    "    ret = []\n",
    "    for m in range(l):\n",
    "        ret.extend(_mod(s, words, m))\n",
    "    return ret"
   ]
  },
  {
   "cell_type": "code",
   "execution_count": null,
   "metadata": {},
   "outputs": [],
   "source": [
    "s = \"barfoothefoobarman\"\n",
    "words = [\"foo\",\"bar\"]"
   ]
  },
  {
   "cell_type": "code",
   "execution_count": null,
   "metadata": {},
   "outputs": [],
   "source": [
    "_mod(s, words, 0)"
   ]
  },
  {
   "cell_type": "code",
   "execution_count": 42,
   "metadata": {},
   "outputs": [],
   "source": []
  }
 ],
 "metadata": {
  "kernelspec": {
   "display_name": "Python 3",
   "language": "python",
   "name": "python3"
  },
  "language_info": {
   "codemirror_mode": {
    "name": "ipython",
    "version": 3
   },
   "file_extension": ".py",
   "mimetype": "text/x-python",
   "name": "python",
   "nbconvert_exporter": "python",
   "pygments_lexer": "ipython3",
   "version": "3.8.10"
  }
 },
 "nbformat": 4,
 "nbformat_minor": 4
}
