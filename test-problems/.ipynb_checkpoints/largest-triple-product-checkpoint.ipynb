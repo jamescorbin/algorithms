{
 "cells": [
  {
   "cell_type": "code",
   "execution_count": 40,
   "id": "301a61a4-a051-48c0-beb8-74d0ac111992",
   "metadata": {},
   "outputs": [],
   "source": [
    "from typing import List\n",
    "class Heap():\n",
    "    def __init__(self, heap:List[object]=[], max_size:int=None):\n",
    "        self.max_size = max_size\n",
    "        self.heap = (sorted(heap) if max_size is None\n",
    "                     else sorted(heap[:max_size]))    \n",
    "    \n",
    "    @staticmethod\n",
    "    def _fl(i):\n",
    "        return 2*i + 1\n",
    "    \n",
    "    @staticmethod\n",
    "    def _fr(i):\n",
    "        return 2*i + 2\n",
    "    \n",
    "    @staticmethod\n",
    "    def _fp(i):\n",
    "        if i > 0:\n",
    "            ret = (i - 1)//2\n",
    "        else:\n",
    "            ret = 0\n",
    "        return ret\n",
    "    \n",
    "    @staticmethod\n",
    "    def _fs(i):\n",
    "        if i == 0:\n",
    "            ret = 0\n",
    "        elif i % 2 == 0:\n",
    "            ret = i - 1\n",
    "        else:\n",
    "            ret = i + 1\n",
    "        return ret\n",
    "    \n",
    "    def pop(self):\n",
    "        n = len(self.heap)\n",
    "        if n == 0:\n",
    "            ret = None\n",
    "        elif n == 1:\n",
    "            ret = self.heap.pop()\n",
    "        else:\n",
    "            root = self.heap[0]\n",
    "            self.heap[0] = self.heap.pop()\n",
    "            pidx = 0\n",
    "            pl = self._fl(pidx)\n",
    "            pr = self._fr(pidx)\n",
    "            while (\n",
    "                    ((pl < n) and (self.heap[pidx] > self.heap[pl]))\n",
    "                    or ((pr < n) and (self.heap[pidx] > self.heap[pr]))):\n",
    "                if (pr >= n):\n",
    "                    minidx = pl\n",
    "                else:\n",
    "                    minidx, val = min([\n",
    "                              (_fl(pidx), self.heap[_fl(pidx)]),\n",
    "                              (_fr(pidx), self.heap[_fr(pidx)])],\n",
    "                             key=lambda x: x[1])\n",
    "                swtch = self.heap[minidx]\n",
    "                self.heap[minidx] = self.heap[pidx]\n",
    "                self.heap[pidx] = swtch\n",
    "                pidx = minidx\n",
    "                pl = self._fl(pidx)\n",
    "                pr = self._fr(pidx)\n",
    "            ret = root\n",
    "        return ret\n",
    "    \n",
    "    def insert(self, val):\n",
    "        n = len(self.heap)\n",
    "        if (self.max_size is not None) and (n >= self.max_size):\n",
    "            ret = None\n",
    "        else:\n",
    "            self.heap.append(val)\n",
    "            pidx = n\n",
    "            pp = self._fp(pidx)\n",
    "            ps = self._fs(pidx)\n",
    "            while (self.heap[pidx]  < self.heap[pp]):\n",
    "                lst = [(pidx, self.heap[pidx]), \n",
    "                       (pp, self.heap[pp])]\n",
    "                if ps < len(self.heap) - 1:\n",
    "                    lst.append((ps, self.heap[ps]))\n",
    "                minidx, val = min(lst, key=lambda x: x[1])\n",
    "                swtch = self.heap[minidx]\n",
    "                self.heap[minidx] = self.heap[self._fp(pidx)]\n",
    "                self.heap[self._fp(pidx)] = swtch\n",
    "                pidx = pp\n",
    "                pp = self._fp(pidx)\n",
    "                ps = self._fs(pidx)\n",
    "            ret = None\n",
    "        return ret"
   ]
  },
  {
   "cell_type": "code",
   "execution_count": 41,
   "id": "664255db-21db-4a06-a729-99c760bff3d6",
   "metadata": {},
   "outputs": [],
   "source": [
    "heap = Heap([1, 3, 5, -1, 4])"
   ]
  },
  {
   "cell_type": "code",
   "execution_count": 42,
   "id": "5159b8b7-9dbc-4e49-80ee-191c2add4006",
   "metadata": {},
   "outputs": [
    {
     "data": {
      "text/plain": [
       "[-1, 1, 3, 4, 5]"
      ]
     },
     "execution_count": 42,
     "metadata": {},
     "output_type": "execute_result"
    }
   ],
   "source": [
    "heap.heap"
   ]
  },
  {
   "cell_type": "code",
   "execution_count": 43,
   "id": "03eb0cf0-2685-44c2-92ea-85b99ba44028",
   "metadata": {},
   "outputs": [],
   "source": [
    "heap.insert(0)"
   ]
  },
  {
   "cell_type": "code",
   "execution_count": 44,
   "id": "fecb8bed-655a-45ba-927a-a9890e0be807",
   "metadata": {},
   "outputs": [
    {
     "data": {
      "text/plain": [
       "[-1, 1, 0, 4, 5, 3]"
      ]
     },
     "execution_count": 44,
     "metadata": {},
     "output_type": "execute_result"
    }
   ],
   "source": [
    "heap.heap"
   ]
  }
 ],
 "metadata": {
  "kernelspec": {
   "display_name": "Python 3",
   "language": "python",
   "name": "python3"
  },
  "language_info": {
   "codemirror_mode": {
    "name": "ipython",
    "version": 3
   },
   "file_extension": ".py",
   "mimetype": "text/x-python",
   "name": "python",
   "nbconvert_exporter": "python",
   "pygments_lexer": "ipython3",
   "version": "3.8.10"
  }
 },
 "nbformat": 4,
 "nbformat_minor": 5
}
