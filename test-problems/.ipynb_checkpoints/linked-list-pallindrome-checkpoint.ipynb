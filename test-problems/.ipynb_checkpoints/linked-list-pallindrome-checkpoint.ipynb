{
 "cells": [
  {
   "cell_type": "code",
   "execution_count": null,
   "id": "f68cfc58-83c5-47fc-8368-b66e6581efc0",
   "metadata": {},
   "outputs": [],
   "source": [
    "from typing import NewType\n",
    "\n",
    "Node = NewType(\"Node\", object)\n",
    "class SLNode:\n",
    "    def __init__(self, val:int, nxt:Node=None):\n",
    "        self.val = val\n",
    "        self.nxt = nxt\n",
    "    def __repr__(self):\n",
    "        return str(self.__dict__)"
   ]
  },
  {
   "cell_type": "code",
   "execution_count": null,
   "id": "7200d608-3270-4579-8fb4-f50ae5487643",
   "metadata": {},
   "outputs": [],
   "source": [
    "root = SLNode(2, SLNode(4, SLNode(9, SLNode(-3))))\n",
    "root2 = root.nxt"
   ]
  },
  {
   "cell_type": "code",
   "execution_count": null,
   "id": "350a69b9-9fbe-4a45-980d-3264615ceef1",
   "metadata": {},
   "outputs": [],
   "source": [
    "def _stack(node):\n",
    "    ret = []\n",
    "    if node is not None:\n",
    "        ret =  _stack(node.nxt) + [node.val]\n",
    "    return ret\n",
    "\n",
    "def _queue(node, stop):\n",
    "    ret = []\n",
    "    if (node is not None) and (node is not stop):\n",
    "        ret = [node.val] + _queue(node.nxt, stop)\n",
    "    return ret\n",
    "\n",
    "def middle_node(node):\n",
    "    p0 = node\n",
    "    p1 = node\n",
    "    while p1 is not None:\n",
    "        p1 = p1.nxt\n",
    "        p0 = p0.nxt\n",
    "        if p1 is not None:\n",
    "            p1 = p1.nxt\n",
    "    return p0\n",
    "\n",
    "def main(root):\n",
    "    middle = middle_node(root)\n",
    "    rev = _stack(middle)\n",
    "    forw = _queue(root, middle)\n",
    "    print(forw, rev)\n",
    "    if len(forw) > len(rev):\n",
    "        forw.pop()\n",
    "    bl = True\n",
    "    for i in range(len(rev)):\n",
    "        bl = bl & (rev[i] == forw[i])\n",
    "        print(rev[i], forw[i])\n",
    "    return bl"
   ]
  },
  {
   "cell_type": "code",
   "execution_count": null,
   "id": "062a0efe-12ca-48e6-946a-15eeb31fc2b0",
   "metadata": {},
   "outputs": [],
   "source": [
    "main(root)"
   ]
  },
  {
   "cell_type": "code",
   "execution_count": null,
   "id": "7e892e63-89f6-4743-8723-102497f87fcb",
   "metadata": {},
   "outputs": [],
   "source": [
    "middle_node(root)"
   ]
  },
  {
   "cell_type": "code",
   "execution_count": null,
   "id": "318ceeaa-8363-4a18-aa64-fd641d98aeb3",
   "metadata": {},
   "outputs": [],
   "source": [
    "\"ABC\" in \"adfjA BCewr\""
   ]
  }
 ],
 "metadata": {
  "kernelspec": {
   "display_name": "Python 3",
   "language": "python",
   "name": "python3"
  },
  "language_info": {
   "codemirror_mode": {
    "name": "ipython",
    "version": 3
   },
   "file_extension": ".py",
   "mimetype": "text/x-python",
   "name": "python",
   "nbconvert_exporter": "python",
   "pygments_lexer": "ipython3",
   "version": "3.8.10"
  }
 },
 "nbformat": 4,
 "nbformat_minor": 5
}
