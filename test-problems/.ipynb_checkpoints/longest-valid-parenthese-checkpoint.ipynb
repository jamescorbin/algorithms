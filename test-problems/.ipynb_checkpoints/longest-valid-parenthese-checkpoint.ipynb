{
 "cells": [
  {
   "cell_type": "code",
   "execution_count": null,
   "metadata": {},
   "outputs": [],
   "source": [
    "def other_solution(s):\n",
    "    pairs = []\n",
    "    lp = []\n",
    "    sm = 0\n",
    "    for i, c in enumerate(s):\n",
    "        if c == \"(\":\n",
    "            lp.append(i)\n",
    "            sm += 1\n",
    "        else:\n",
    "            if sm <= 0:\n",
    "                lp = []\n",
    "            else:\n",
    "                sm -= 1\n",
    "                p = lp.pop()\n",
    "                pairs.extend([p, i])\n",
    "    return pairs\n",
    "\n",
    "def new_main(s):\n",
    "    ar = sorted(other_solution(s))\n",
    "    runs = []\n",
    "    run = []\n",
    "    for i, j in enumerate(ar[:-1]):\n",
    "        if len(run) == 0:\n",
    "            run.append(j)\n",
    "        if j + 1 == ar[i+1]:\n",
    "            run.append(ar[i+1])\n",
    "        else:\n",
    "            runs.append(run)\n",
    "            run = [ar[i+1]]\n",
    "    run.append(ar[-1])\n",
    "    runs.append(run)\n",
    "    mx = max(runs, key=lambda x: len(x))\n",
    "    val = \"\".join([s[i] for i in mx])\n",
    "    return val"
   ]
  },
  {
   "cell_type": "code",
   "execution_count": null,
   "metadata": {},
   "outputs": [],
   "source": [
    "s = \"()()))()))))(((()()()())()))(\"\n",
    "w = _partial_sum(s)"
   ]
  },
  {
   "cell_type": "code",
   "execution_count": null,
   "metadata": {},
   "outputs": [],
   "source": [
    "new_main(s)"
   ]
  },
  {
   "cell_type": "code",
   "execution_count": null,
   "metadata": {},
   "outputs": [],
   "source": [
    "other_solution(s)"
   ]
  }
 ],
 "metadata": {
  "kernelspec": {
   "display_name": "Python 3",
   "language": "python",
   "name": "python3"
  },
  "language_info": {
   "codemirror_mode": {
    "name": "ipython",
    "version": 3
   },
   "file_extension": ".py",
   "mimetype": "text/x-python",
   "name": "python",
   "nbconvert_exporter": "python",
   "pygments_lexer": "ipython3",
   "version": "3.8.10"
  }
 },
 "nbformat": 4,
 "nbformat_minor": 4
}
