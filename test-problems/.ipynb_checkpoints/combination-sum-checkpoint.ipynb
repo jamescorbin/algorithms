{
 "cells": [
  {
   "cell_type": "code",
   "execution_count": 10,
   "id": "612e862b-7c9b-4186-af1f-bf12d055fb8e",
   "metadata": {},
   "outputs": [
    {
     "data": {
      "text/plain": [
       "[[2, 2, 3], [7]]"
      ]
     },
     "execution_count": 10,
     "metadata": {},
     "output_type": "execute_result"
    }
   ],
   "source": [
    "from typing import List\n",
    "\n",
    "def _rec(nums, p, hist, sm, target):\n",
    "    n = len(nums)\n",
    "    if sm == target:\n",
    "        ret = [hist]\n",
    "    elif sm > target:\n",
    "        ret = []\n",
    "    elif p >= n:\n",
    "        ret = []\n",
    "    else:\n",
    "        hist1 = [x for x in hist]\n",
    "        hist1.append(nums[p])\n",
    "        ret1 = _rec(nums, p, \n",
    "                   hist1,\n",
    "                  sm + nums[p], target)\n",
    "        if p < n - 1:\n",
    "            p += 1\n",
    "            hist2 = [x for x in hist]\n",
    "            ret2 = _rec(nums, p, \n",
    "                   hist2,\n",
    "                  sm, target)\n",
    "        else:\n",
    "            ret2 = []\n",
    "        ret = ret1 + ret2\n",
    "    return ret\n",
    "\n",
    "class Solution:\n",
    "    def combinationSum(self, candidates: List[int], target: int) -> List[List[int]]:\n",
    "        return _rec(candidates, 0, [], 0, target)\n",
    "    \n",
    "candidates = [2,3,6,7]\n",
    "target = 7\n",
    "Solution().combinationSum(candidates, target)"
   ]
  },
  {
   "cell_type": "code",
   "execution_count": 24,
   "id": "1b73e49d-3748-421e-bc2f-a95abfb824fc",
   "metadata": {},
   "outputs": [
    {
     "ename": "AttributeError",
     "evalue": "module 'functools' has no attribute 'cache'",
     "output_type": "error",
     "traceback": [
      "\u001b[0;31m---------------------------------------------------------------------------\u001b[0m",
      "\u001b[0;31mAttributeError\u001b[0m                            Traceback (most recent call last)",
      "\u001b[0;32m<ipython-input-24-1163d1532e9a>\u001b[0m in \u001b[0;36m<module>\u001b[0;34m\u001b[0m\n\u001b[1;32m      1\u001b[0m \u001b[0;32mimport\u001b[0m \u001b[0mfunctools\u001b[0m\u001b[0;34m\u001b[0m\u001b[0;34m\u001b[0m\u001b[0m\n\u001b[1;32m      2\u001b[0m \u001b[0;34m\u001b[0m\u001b[0m\n\u001b[0;32m----> 3\u001b[0;31m \u001b[0;34m@\u001b[0m\u001b[0mfunctools\u001b[0m\u001b[0;34m.\u001b[0m\u001b[0mcache\u001b[0m\u001b[0;34m\u001b[0m\u001b[0;34m\u001b[0m\u001b[0m\n\u001b[0m\u001b[1;32m      4\u001b[0m \u001b[0;32mdef\u001b[0m \u001b[0m_rec\u001b[0m\u001b[0;34m(\u001b[0m\u001b[0mnums\u001b[0m\u001b[0;34m,\u001b[0m \u001b[0mp\u001b[0m\u001b[0;34m,\u001b[0m \u001b[0mhist\u001b[0m\u001b[0;34m,\u001b[0m \u001b[0msm\u001b[0m\u001b[0;34m,\u001b[0m \u001b[0mtarget\u001b[0m\u001b[0;34m,\u001b[0m \u001b[0mtotal_sum\u001b[0m\u001b[0;34m)\u001b[0m\u001b[0;34m:\u001b[0m\u001b[0;34m\u001b[0m\u001b[0;34m\u001b[0m\u001b[0m\n\u001b[1;32m      5\u001b[0m     \u001b[0mn\u001b[0m \u001b[0;34m=\u001b[0m \u001b[0mlen\u001b[0m\u001b[0;34m(\u001b[0m\u001b[0mnums\u001b[0m\u001b[0;34m)\u001b[0m\u001b[0;34m\u001b[0m\u001b[0;34m\u001b[0m\u001b[0m\n",
      "\u001b[0;31mAttributeError\u001b[0m: module 'functools' has no attribute 'cache'"
     ]
    }
   ],
   "source": [
    "import functools\n",
    "\n",
    "@functools.cache\n",
    "def _rec(nums, p, hist, sm, target, total_sum):\n",
    "    n = len(nums)\n",
    "    if sm == target:\n",
    "        ret = set([hist])\n",
    "    elif total_sum < (target - sm):\n",
    "        ret = set()\n",
    "    elif sm > target:\n",
    "        ret = set()\n",
    "    elif p >= n:\n",
    "        ret = set()\n",
    "    else:\n",
    "        if sm + nums[p] <= target:\n",
    "            hist1 = tuple([x for x in hist] + [nums[p]])\n",
    "            ret1 = _rec(nums, p + 1, \n",
    "                    hist1,\n",
    "                    sm + nums[p], target, total_sum - nums[p])\n",
    "        else:\n",
    "            ret1 = set()\n",
    "        if p < n - 1:\n",
    "            ret2 = _rec(nums, p + 1, \n",
    "                    hist,\n",
    "                    sm, target, total_sum - nums[p])\n",
    "        else:\n",
    "            ret2 = set()\n",
    "        ret = ret1 | ret2\n",
    "    return ret\n",
    "\n",
    "class Solution:\n",
    "    def combinationSum2(self, candidates: List[int], target: int) -> List[List[int]]:\n",
    "        total_sum = sum(candidates)\n",
    "        if total_sum > target:\n",
    "            candidates = sorted(candidates)\n",
    "            ret = _rec(tuple(candidates), 0, \n",
    "                       tuple(), 0, target, total_sum)\n",
    "        elif total_sum == target:\n",
    "            ret = [candidates]\n",
    "        else:\n",
    "            ret = []\n",
    "        return ret\n",
    "            \n",
    "candidates = [1,1,1,1,1,1,1,1,1,1,1,1,1,1,1,1,1,1,1,1,1,1,1,1,1,1,1,1,1,1,1,1,1,1,1,1,1,1,1,1,1,1,1,1,1,1,1,1,1,1,1,1,1,1,1,1,1,1,1,1,1,1,1,1,1,1,1,1,1,1,1,1,1,1,1,1,1,1,1,1,1,1,1,1,1,1,1,1,1,1,1,1,1,1,1,1,1,1,1,1]\n",
    "print(len(candidates))\n",
    "target = 30\n",
    "Solution().combinationSum2(candidates, target)"
   ]
  }
 ],
 "metadata": {
  "kernelspec": {
   "display_name": "Python 3",
   "language": "python",
   "name": "python3"
  },
  "language_info": {
   "codemirror_mode": {
    "name": "ipython",
    "version": 3
   },
   "file_extension": ".py",
   "mimetype": "text/x-python",
   "name": "python",
   "nbconvert_exporter": "python",
   "pygments_lexer": "ipython3",
   "version": "3.8.10"
  }
 },
 "nbformat": 4,
 "nbformat_minor": 5
}
