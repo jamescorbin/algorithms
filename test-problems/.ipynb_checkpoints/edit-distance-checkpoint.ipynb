{
 "cells": [
  {
   "cell_type": "code",
   "execution_count": null,
   "id": "d6a395a5-e545-40a1-9586-3a3c6cf50df3",
   "metadata": {},
   "outputs": [],
   "source": [
    "# dynamic programming\n",
    "\n",
    "def _dp(s1, s2):\n",
    "    if len(s2) > len(s1):\n",
    "        s1, s2 = s2, s1\n",
    "    l1 = len(s1)\n",
    "    l2 = len(s2)\n",
    "    memory = [[i for i in range(l1 +1)] for j in range(l2+1)]\n",
    "    for j in range(l2+1):\n",
    "        memory[j][0] = j\n",
    "    \n",
    "    # index is for endpoints\n",
    "    for i2 in range(1, l2+1):\n",
    "        c2 = s2[i2-1]\n",
    "        for i1 in range(1, l1+1):\n",
    "            c1 = s1[i1-1]\n",
    "            if c1 == c2:\n",
    "                memory[i2][i1] = memory[i2-1][i1-1]\n",
    "            else:\n",
    "                deletion = memory[i2-1][i1]\n",
    "                insertion = memory[i2][i1-1]\n",
    "                replacement = memory[i2-1][i1-1]\n",
    "                memory[i2][i1] = 1 + min(\n",
    "                    replacement,\n",
    "                    deletion, \n",
    "                    insertion,)\n",
    "    return memory"
   ]
  },
  {
   "cell_type": "code",
   "execution_count": null,
   "id": "ae1720cb-51e7-48fe-8902-b589a1161102",
   "metadata": {},
   "outputs": [],
   "source": [
    "_dp(\"b\", \"a\")"
   ]
  },
  {
   "cell_type": "code",
   "execution_count": null,
   "id": "1fbdf8c7-eb5d-45cd-8a23-666a6c0a85e9",
   "metadata": {},
   "outputs": [],
   "source": [
    "_dp(\"ba\", \"a\")"
   ]
  },
  {
   "cell_type": "code",
   "execution_count": null,
   "id": "d6892341-bb0f-4a4b-aeb9-0ac61353f8fc",
   "metadata": {},
   "outputs": [],
   "source": [
    "_dp(\"horse\", \"ros\")"
   ]
  }
 ],
 "metadata": {
  "kernelspec": {
   "display_name": "Python 3",
   "language": "python",
   "name": "python3"
  },
  "language_info": {
   "codemirror_mode": {
    "name": "ipython",
    "version": 3
   },
   "file_extension": ".py",
   "mimetype": "text/x-python",
   "name": "python",
   "nbconvert_exporter": "python",
   "pygments_lexer": "ipython3",
   "version": "3.8.10"
  }
 },
 "nbformat": 4,
 "nbformat_minor": 5
}
