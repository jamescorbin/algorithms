{
 "cells": [
  {
   "cell_type": "code",
   "execution_count": null,
   "id": "6c74f4af-5aac-4601-a292-a03045f92722",
   "metadata": {},
   "outputs": [],
   "source": [
    "# DP\n",
    "def main(x):\n",
    "    # one level due to memory\n",
    "    memory = [y for y in x]\n",
    "    max_heights = [max(memory)]\n",
    "    for i in range(2, len(x)+1):\n",
    "        memory_ = []\n",
    "        for j in range(len(x)+1-i):\n",
    "            memory_.append(min(memory[j], memory[j+1]))\n",
    "        memory = memory_\n",
    "        max_heights.append(max(memory))\n",
    "    volumes = [(i+1)*y for i, y in enumerate(max_heights)]\n",
    "    return volumes"
   ]
  },
  {
   "cell_type": "code",
   "execution_count": null,
   "id": "46c8f8a6-74bb-4c9d-84ab-4a525c726982",
   "metadata": {},
   "outputs": [],
   "source": [
    "x = [2, 12, 3, 7, 54, 6, 9, 22, 4, 8, 65, 10, 6, 4, 5, 11, 7]\n",
    "main(x)"
   ]
  }
 ],
 "metadata": {
  "kernelspec": {
   "display_name": "Python 3",
   "language": "python",
   "name": "python3"
  },
  "language_info": {
   "codemirror_mode": {
    "name": "ipython",
    "version": 3
   },
   "file_extension": ".py",
   "mimetype": "text/x-python",
   "name": "python",
   "nbconvert_exporter": "python",
   "pygments_lexer": "ipython3",
   "version": "3.8.10"
  }
 },
 "nbformat": 4,
 "nbformat_minor": 5
}
