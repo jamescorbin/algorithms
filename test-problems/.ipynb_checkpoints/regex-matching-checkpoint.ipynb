{
 "cells": [
  {
   "cell_type": "code",
   "execution_count": null,
   "id": "8c6399c4-0c96-45b0-8597-5c2499048865",
   "metadata": {},
   "outputs": [],
   "source": [
    "def _step(s, regex):\n",
    "    ret = []\n",
    "    if (len(s) == 0) and (len(regex) == 0):\n",
    "        ret += [True]\n",
    "    elif (len(s) > 0) and (len(regex) == 0):\n",
    "        ret += [False]\n",
    "    else:\n",
    "        r = regex[0]\n",
    "        if r == \"*\":\n",
    "            ret += _step(s[1:], regex) + _step(s[1:], regex[1:])\n",
    "        elif (r == \".\") and (len(s) > 0):\n",
    "            ret += _step(s[1:], regex[1:])\n",
    "        elif (r == \".\") and (len(s) == 0):\n",
    "            ret += [False]\n",
    "        elif (len(s) > 0):\n",
    "            if s[0] == regex[0]:\n",
    "                ret += _steps(s[1:], regex[1:])\n",
    "            else:\n",
    "                ret += [False]\n",
    "        else:\n",
    "            ret += [False]"
   ]
  }
 ],
 "metadata": {
  "kernelspec": {
   "display_name": "Python 3",
   "language": "python",
   "name": "python3"
  },
  "language_info": {
   "codemirror_mode": {
    "name": "ipython",
    "version": 3
   },
   "file_extension": ".py",
   "mimetype": "text/x-python",
   "name": "python",
   "nbconvert_exporter": "python",
   "pygments_lexer": "ipython3",
   "version": "3.8.10"
  }
 },
 "nbformat": 4,
 "nbformat_minor": 5
}
