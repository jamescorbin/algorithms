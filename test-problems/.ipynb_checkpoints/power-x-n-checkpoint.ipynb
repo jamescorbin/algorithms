{
 "cells": [
  {
   "cell_type": "code",
   "execution_count": null,
   "id": "a69c8bda-3a57-4225-86ff-fd2870037978",
   "metadata": {},
   "outputs": [],
   "source": [
    "def _bin_decompose(n):\n",
    "    k = 0\n",
    "    out = []\n",
    "    while (n > 0):\n",
    "        out.append(n % 2)\n",
    "        n = n >> 1\n",
    "    return out\n",
    "\n",
    "def _make_arr(x, n, epsilon=1e-20):\n",
    "    w = _bin_decompose(n)\n",
    "    m = len(w)\n",
    "    p = 1\n",
    "    powarr = [x for i in range(m)]\n",
    "    while (p < m):\n",
    "        powarr[p] = powarr[p-1] ** 2 if powarr[p - 1]**2 > epsilon else 0\n",
    "        p += 1\n",
    "    p = 0\n",
    "    while (p < m):\n",
    "        w[p] = powarr[p]**(w[p]) if powarr[p] > 0 else 0\n",
    "        p += 1\n",
    "    p = 0\n",
    "    res = 1\n",
    "    while (p < m):\n",
    "        if w[p] > 0:\n",
    "            res *= w[p]\n",
    "        p += 1\n",
    "    return res\n",
    "\n",
    "class Solution:\n",
    "    def myPow(self, x: float, n: int) -> float:\n",
    "        if n == 0:\n",
    "            ret = 1\n",
    "        else:\n",
    "            sgnn = 1 if n > 0 else -1\n",
    "            n = sgnn * n\n",
    "            sgnx = 1 if x > 0 else -1\n",
    "            x = sgnx * x\n",
    "            if sgnn < 0:\n",
    "                x = 1 / x\n",
    "            ret = _make_arr(x, n)\n",
    "            if x < 1 and n > 0 and ret == 1:\n",
    "                ret = 0\n",
    "            if sgnx < 0:\n",
    "                if n % 2 == 1:\n",
    "                    ret = -ret\n",
    "        return ret\n",
    "\n",
    "_make_arr(2, -2147483648)"
   ]
  },
  {
   "cell_type": "code",
   "execution_count": null,
   "id": "7f28b816-8f48-42fa-b546-35bbab806150",
   "metadata": {},
   "outputs": [],
   "source": [
    "def _bin_decompose(n):\n",
    "    k = 0\n",
    "    out = []\n",
    "    while (n > 0):\n",
    "        out.append(n % 2)\n",
    "        n = n >> 1\n",
    "    return out\n",
    "_bin_decompose(6)"
   ]
  }
 ],
 "metadata": {
  "kernelspec": {
   "display_name": "Python 3",
   "language": "python",
   "name": "python3"
  },
  "language_info": {
   "codemirror_mode": {
    "name": "ipython",
    "version": 3
   },
   "file_extension": ".py",
   "mimetype": "text/x-python",
   "name": "python",
   "nbconvert_exporter": "python",
   "pygments_lexer": "ipython3",
   "version": "3.8.10"
  }
 },
 "nbformat": 4,
 "nbformat_minor": 5
}
