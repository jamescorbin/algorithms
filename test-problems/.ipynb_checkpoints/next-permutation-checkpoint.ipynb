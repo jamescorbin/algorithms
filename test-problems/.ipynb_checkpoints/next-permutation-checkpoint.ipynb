{
 "cells": [
  {
   "cell_type": "code",
   "execution_count": 27,
   "id": "0e079442-2aed-4801-b732-410586e1924f",
   "metadata": {},
   "outputs": [
    {
     "name": "stdout",
     "output_type": "stream",
     "text": [
      "0 [0, 2, 1]\n"
     ]
    },
    {
     "data": {
      "text/plain": [
       "[5, 1, 1]"
      ]
     },
     "execution_count": 27,
     "metadata": {},
     "output_type": "execute_result"
    }
   ],
   "source": [
    "from typing import List\n",
    "\n",
    "def _rec(arr, position):\n",
    "    n = len(arr)\n",
    "    if position == n - 1:\n",
    "        ret = arr\n",
    "    else:\n",
    "        if position < n - 2:\n",
    "            is_descending = True\n",
    "            p0 = position + 1\n",
    "            prev = arr[p0]\n",
    "            while (p0 < n) and is_descending:\n",
    "                if arr[p0] > prev:\n",
    "                    is_descending = False\n",
    "                p0 += 1\n",
    "            if not is_descending:\n",
    "                ret = _rec(arr, position + 1)\n",
    "            else:\n",
    "                x = arr[position]                \n",
    "                tmp = sorted([x for x in arr[position:]])\n",
    "                idx = tmp.index(x)\n",
    "                arr[position:] = [tmp[idx + 1]] + tmp[:idx + 1] + tmp[idx + 2:]\n",
    "                ret = arr\n",
    "        else:\n",
    "            if arr[position] < arr[position + 1]:\n",
    "                arr[position], arr[position + 1] = arr[position + 1], arr[position]\n",
    "            ret = arr\n",
    "    return ret\n",
    "        \n",
    "class Solution:\n",
    "    def nextPermutation(self, nums: List[int]) -> None:\n",
    "        \"\"\"\n",
    "        Do not return anything, modify nums in-place instead.\n",
    "        \"\"\"\n",
    "        n = len(nums)\n",
    "        arr = sorted(zip(nums, range(n))) \n",
    "        mapping = {i: x for x, i in arr}\n",
    "        idxs = [i for x, i in arr]\n",
    "        if idxs == list(reversed(range(0, n))):\n",
    "            for i in range(n//2):\n",
    "                idxs[i], idxs[n-1-i] = idxs[n-1-i], idxs[i]\n",
    "        else:\n",
    "            idxs = _rec(idxs, 0)\n",
    "        for i, idx in enumerate(idxs):\n",
    "            nums[i] = mapping[idx]\n",
    "        return nums\n",
    "    \n",
    "#arr = [1, 3, 2]\n",
    "#arr = [1]\n",
    "#arr = [1, 2]\n",
    "#arr = [4, 3, 2, 1]\n",
    "#arr = [5, 2, 4, 1, 3]\n",
    "#arr = [4, 3, 2, 1]\n",
    "arr = [1, 5, 1]\n",
    "Solution().nextPermutation(arr)"
   ]
  }
 ],
 "metadata": {
  "kernelspec": {
   "display_name": "Python 3",
   "language": "python",
   "name": "python3"
  },
  "language_info": {
   "codemirror_mode": {
    "name": "ipython",
    "version": 3
   },
   "file_extension": ".py",
   "mimetype": "text/x-python",
   "name": "python",
   "nbconvert_exporter": "python",
   "pygments_lexer": "ipython3",
   "version": "3.8.10"
  }
 },
 "nbformat": 4,
 "nbformat_minor": 5
}
