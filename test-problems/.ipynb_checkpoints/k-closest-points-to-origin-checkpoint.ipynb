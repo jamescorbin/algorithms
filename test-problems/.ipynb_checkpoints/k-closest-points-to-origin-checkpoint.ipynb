{
 "cells": [
  {
   "cell_type": "code",
   "execution_count": null,
   "id": "ce5fca9e-b89c-4899-8ad0-5e6c2049126b",
   "metadata": {},
   "outputs": [],
   "source": [
    "import functools\n",
    "import time\n",
    "\n",
    "def timing(f):\n",
    "    @functools.wraps(f)\n",
    "    def wrap(*args, **kwargs):\n",
    "        t0 = time.perf_counter()\n",
    "        val = f(*args, **kwargs)\n",
    "        t1 = time.perf_counter()\n",
    "        print(f\"Time elapsed for {f.__name__}: \"\n",
    "              \"{t1-t0:5.2f}\")\n",
    "        return val\n",
    "    return wrap"
   ]
  },
  {
   "cell_type": "code",
   "execution_count": null,
   "id": "6e59fc4b-7cfb-45c8-a4d5-47fe47a25fd3",
   "metadata": {},
   "outputs": [],
   "source": [
    "import numpy as np\n",
    "X = np.random.randint(low=-100, high=100, size=(1000, 2))\n",
    "\n",
    "f = lambda x: x[0]**2 + x[1]**2\n",
    "Y = [f(x) for x in X]\n",
    "\n",
    "\n",
    "\n",
    "def solution(X, k=10):\n",
    "    f = lambda x: x[0]**2 + x[1]**2\n",
    "    Y = [(i, f(x)) for i, x in enumerate(X)]\n",
    "    p = sorted(Y[:k], key=lambda x: x[1])\n",
    "    root = MHNode(*p.pop())\n",
    "    while len(p) > 0:\n",
    "        root.insert(*p.pop())\n",
    "        \n",
    "    for i, j in Y[k:]:\n",
    "        if j < root.val:\n",
    "            root = root.pop_root()\n",
    "            root.insert(i, j)\n",
    "    #unfold\n",
    "    retval = [X[i] for i in x]\n",
    "    return retval"
   ]
  },
  {
   "cell_type": "code",
   "execution_count": null,
   "id": "6ec78c8c-53a2-4d8d-84c0-99b6976929d0",
   "metadata": {},
   "outputs": [],
   "source": [
    "#heap is better\n",
    "class MHNode:\n",
    "    def __init__(self, key, val, left=None, right=None):\n",
    "        self.key = key\n",
    "        self.val = val\n",
    "        self.left = left\n",
    "        self.right = right\n",
    "        \n",
    "    def insert(self, key, val):\n",
    "        assert key <= self.key\n",
    "        if self.left is None:\n",
    "            self.left = MHNode(key, val)\n",
    "        elif self.right is None:\n",
    "            self.right = MHNode(key, val)\n",
    "        else:\n",
    "            import numpy as np\n",
    "            randint = np.random.randint(0, 2)\n",
    "            if randint % 2 == 0:\n",
    "                self.left.insert(key, val)\n",
    "            else:\n",
    "                self.right.insert(key, val)\n",
    "                \n",
    "    def insert_node(self, node):            \n",
    "        \"\"\"TODO\"\"\"\n",
    "        return None\n",
    "    \n",
    "    @staticmethod\n",
    "    def pop_root(self):\n",
    "        lf = self.left\n",
    "        rt = self.right\n",
    "        \n",
    "        if (lf is None) and (rt is None):\n",
    "            ret = None\n",
    "        elif (lf is None):\n",
    "            ret = self.right\n",
    "        elif (rt is None):\n",
    "            ret = self.left\n",
    "        else:\n",
    "            if lf <= rt:\n",
    "                lf.insert_node(rt)\n",
    "                ret = lf\n",
    "            else:\n",
    "                rt.insert_node(lt)\n",
    "                ret = rt\n",
    "        return ret"
   ]
  },
  {
   "cell_type": "code",
   "execution_count": null,
   "id": "a44ab049-2dfc-442d-b0a5-d9960078e7f3",
   "metadata": {},
   "outputs": [],
   "source": [
    "solution(X)"
   ]
  },
  {
   "cell_type": "code",
   "execution_count": 3,
   "id": "63a8a85a-7fa1-49d8-8b23-d0478542fde4",
   "metadata": {},
   "outputs": [
    {
     "ename": "AssertionError",
     "evalue": "FaLSE",
     "output_type": "error",
     "traceback": [
      "\u001b[0;31m---------------------------------------------------------------------------\u001b[0m",
      "\u001b[0;31mAssertionError\u001b[0m                            Traceback (most recent call last)",
      "\u001b[0;32m<ipython-input-3-7fc4016e9f30>\u001b[0m in \u001b[0;36m<module>\u001b[0;34m\u001b[0m\n\u001b[0;32m----> 1\u001b[0;31m \u001b[0;32massert\u001b[0m \u001b[0;36m0\u001b[0m \u001b[0;34m<=\u001b[0m \u001b[0;34m-\u001b[0m\u001b[0;36m1\u001b[0m\u001b[0;34m,\u001b[0m \u001b[0;34m\"FaLSE\"\u001b[0m\u001b[0;34m\u001b[0m\u001b[0;34m\u001b[0m\u001b[0m\n\u001b[0m",
      "\u001b[0;31mAssertionError\u001b[0m: FaLSE"
     ]
    }
   ],
   "source": []
  }
 ],
 "metadata": {
  "kernelspec": {
   "display_name": "Python 3",
   "language": "python",
   "name": "python3"
  },
  "language_info": {
   "codemirror_mode": {
    "name": "ipython",
    "version": 3
   },
   "file_extension": ".py",
   "mimetype": "text/x-python",
   "name": "python",
   "nbconvert_exporter": "python",
   "pygments_lexer": "ipython3",
   "version": "3.8.10"
  }
 },
 "nbformat": 4,
 "nbformat_minor": 5
}
