{
 "cells": [
  {
   "cell_type": "code",
   "execution_count": 5,
   "id": "e5800d2d-2a25-4aa4-bb1a-43c4e8b0b5bf",
   "metadata": {},
   "outputs": [
    {
     "name": "stdout",
     "output_type": "stream",
     "text": [
      "defaultdict(<class 'list'>, {'1': [(0, 1)], '12': [(0, 2)], '120': [(0, 3)], '1201': [(0, 4)], '12019': [(0, 5)], '120195': [(0, 6)], '1201954': [(0, 7)], '12019543': [(0, 8), (0, 8)], '2019543': [(1, 8)], '019543': [(2, 8)], '19543': [(3, 8)], '9543': [(4, 8)], '543': [(5, 8)], '43': [(6, 8)], '3': [(7, 8)]})\n",
      "wd2int {'1201954': [(0, 7)], '543': [(5, 8)], '3': [(7, 8)], '12019': [(0, 5)]}\n"
     ]
    },
    {
     "data": {
      "text/plain": [
       "2"
      ]
     },
     "execution_count": 5,
     "metadata": {},
     "output_type": "execute_result"
    }
   ],
   "source": [
    "from typing import List\n",
    "\n",
    "import collections\n",
    "\n",
    "class Solution:\n",
    "    def numOfPairs(self, nums: List[str], target: str) -> int:\n",
    "        n = len(target)\n",
    "        m = len(nums)\n",
    "        ss2int = collections.defaultdict(list)\n",
    "        for j in range(1, n+1):\n",
    "            ss2int[target[0:j]].append((0, j))\n",
    "        for j in range(0, n):\n",
    "            ss2int[target[j:n]].append((j, n))\n",
    "        wd2int = {word: ss2int[word]\n",
    "                      for word in nums\n",
    "                      if word in ss2int}\n",
    "        wd2idx = collections.defaultdict(list)\n",
    "        for i, word in enumerate(nums):\n",
    "            wd2idx[word].append(i)\n",
    "        out = []\n",
    "        for i, word in enumerate(nums):\n",
    "            if word in wd2int:\n",
    "                pairs = wd2int[word]\n",
    "                if pairs[0][0] == 0:\n",
    "                    compl = target[pairs[0][1]: n]\n",
    "                    if compl in wd2idx:\n",
    "                        npairs = [x for x in wd2idx[compl] if x != i]\n",
    "                        for j in npairs:\n",
    "                            out.append((i, j))\n",
    "                else:\n",
    "                    pass\n",
    "            else:\n",
    "                pass\n",
    "        return len(out)                    \n",
    "            \n",
    "        \n",
    "nums = [\"1201954\",\"543\",\"3\",\"12019\"]\n",
    "target = \"12019543\"\n",
    "Solution().numOfPairs(nums, target)"
   ]
  },
  {
   "cell_type": "code",
   "execution_count": 21,
   "id": "bf870291-6b47-429f-8bdd-b0b48e39a73b",
   "metadata": {},
   "outputs": [
    {
     "name": "stdout",
     "output_type": "stream",
     "text": [
      "0 4\n",
      "1 4\n"
     ]
    },
    {
     "data": {
      "text/plain": [
       "[[15, 13, 2, 5], [14, 3, 4, 1], [12, 6, 8, 9], [16, 7, 10, 11]]"
      ]
     },
     "execution_count": 21,
     "metadata": {},
     "output_type": "execute_result"
    }
   ],
   "source": [
    "def _level(arr, k):\n",
    "    n = len(arr)\n",
    "    tmp0 = list([arr[k][i] for i in range(k, n-k)]) #top\n",
    "    tmp1 = list(reversed([arr[i][n - 1 - k] for i in range(k, n-k)])) #right\n",
    "    tmp2 = list([arr[n - 1 - k][i] for i in range(k, n-k)]) #bottom\n",
    "    tmp3 = list(reversed([arr[i][k] for i in range(k, n-k)])) #left\n",
    "    for i in range(k, n-k):\n",
    "        arr[i][n - 1 - k] = tmp0[i-k]        \n",
    "    for i in range(k, n-k):\n",
    "        arr[n - 1 - k][i] = tmp1[i-k]\n",
    "    for i in range(k, n-k):\n",
    "        arr[i][k] = tmp2[i-k]\n",
    "    for i in range(k, n-k):\n",
    "        arr[k][i] = tmp3[i-k]\n",
    "\n",
    "class Solution:\n",
    "    def rotate(self, matrix: List[List[int]]) -> None:\n",
    "        \"\"\"\n",
    "        Do not return anything, modify matrix in-place instead.\n",
    "        \"\"\"\n",
    "        kmax = len(matrix) // 2\n",
    "        for i in range(kmax):\n",
    "            _level(matrix, i)\n",
    "        \n",
    "#matrix = [[1,2,3],[4,5,6],[7,8,9]]\n",
    "matrix = [[5,1,9,11],[2,4,8,10],[13,3,6,7],[15,14,12,16]]\n",
    "Solution().rotate(matrix)\n",
    "matrix"
   ]
  }
 ],
 "metadata": {
  "kernelspec": {
   "display_name": "Python 3",
   "language": "python",
   "name": "python3"
  },
  "language_info": {
   "codemirror_mode": {
    "name": "ipython",
    "version": 3
   },
   "file_extension": ".py",
   "mimetype": "text/x-python",
   "name": "python",
   "nbconvert_exporter": "python",
   "pygments_lexer": "ipython3",
   "version": "3.8.10"
  }
 },
 "nbformat": 4,
 "nbformat_minor": 5
}
