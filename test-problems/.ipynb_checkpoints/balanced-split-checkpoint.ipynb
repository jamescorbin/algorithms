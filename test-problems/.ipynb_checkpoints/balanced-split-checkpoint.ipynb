{
 "cells": [
  {
   "cell_type": "code",
   "execution_count": null,
   "id": "ed43ec38-6f96-4c23-ab59-75df9b061150",
   "metadata": {},
   "outputs": [],
   "source": [
    "\n",
    "def balancedSplitExists(arr):\n",
    "  # Write your code here\n",
    "  arr = sorted(arr)\n",
    "  lfsum = 0\n",
    "  rtsum = 0\n",
    "  cond = True\n",
    "  out = False\n",
    "  glb = 0\n",
    "  lub = 0\n",
    "  while cond:\n",
    "    if len(arr) == 0:\n",
    "      cond = False\n",
    "      out = (lfsum == rtsum)\n",
    "    else:\n",
    "      if len(arr) == 1:\n",
    "        if lfsum < rtsum:\n",
    "          md = 1\n",
    "          glb = arr[0]\n",
    "        else:\n",
    "          md = 0\n",
    "          lub = arr[0]\n",
    "      else:\n",
    "        md = len(arr) // 2\n",
    "        glb = arr[md-1]\n",
    "        lub = arr[md]\n",
    "      lf = arr[:md]\n",
    "      rt = arr[md:]\n",
    "      if lfsum < rtsum:\n",
    "        x = sum(lf)\n",
    "        rtsum -= x\n",
    "        lfsum += x\n",
    "      elif rtsum < lfsum:\n",
    "        x = sum(rf)\n",
    "        rtsum += x\n",
    "        lfsum -= x\n",
    "      elif rtsum == lfsum:\n",
    "        lfsum += sum(lf)\n",
    "        rtsum += sum(rt)\n",
    "      if lfsum < rtsum:\n",
    "          arr = rt\n",
    "      elif rtsum < lfsum:\n",
    "          arr = lf\n",
    "      else:\n",
    "        cond = False\n",
    "        out = True\n",
    "  out = out & (lub != glb)\n",
    "  return out"
   ]
  }
 ],
 "metadata": {
  "kernelspec": {
   "display_name": "Python 3",
   "language": "python",
   "name": "python3"
  },
  "language_info": {
   "codemirror_mode": {
    "name": "ipython",
    "version": 3
   },
   "file_extension": ".py",
   "mimetype": "text/x-python",
   "name": "python",
   "nbconvert_exporter": "python",
   "pygments_lexer": "ipython3",
   "version": "3.8.10"
  }
 },
 "nbformat": 4,
 "nbformat_minor": 5
}
