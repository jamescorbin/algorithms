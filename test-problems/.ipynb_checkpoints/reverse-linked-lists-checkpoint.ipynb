{
 "cells": [
  {
   "cell_type": "code",
   "execution_count": 7,
   "id": "e27bb85e-1fc6-4039-acef-2ef861daa595",
   "metadata": {},
   "outputs": [],
   "source": [
    "class Node:\n",
    "    def __init__(self, x, nxt=None):\n",
    "        self.data = x\n",
    "        self.next = nxt\n",
    "\n",
    "# Add any helper functions you may need here\n",
    "\n",
    "def _move_ptrs(lp, rp):\n",
    "    print(\"A\", lp, rp)\n",
    "    lp = rp\n",
    "    if rp is not None:\n",
    "        rp = rp.next\n",
    "    while (rp is not None) and (rp.data % 2 == 0):\n",
    "        rp = rp.next\n",
    "    return lp, rp\n",
    "\n",
    "def _flip(lp, rp):\n",
    "    if (lp is not None):\n",
    "        if (lp.next is not None) and (lp.next != rp):\n",
    "            p1 = lp.next\n",
    "            p2 = lp.next\n",
    "            if p2 != rp:\n",
    "                while (p2.next != rp):\n",
    "                    p2 = p2.next\n",
    "            _flip2(p1, p2)\n",
    "            lp.next = p2\n",
    "            p1.next = rp\n",
    "    else:\n",
    "        pass\n",
    "      \n",
    "def _flip2(pt, check):\n",
    "    if (pt == check) or (pt.next is None):\n",
    "        ret = pt\n",
    "    else:\n",
    "        _flip2(pt.next, check).next = pt\n",
    "        ret = pt\n",
    "    return ret\n",
    "\n",
    "def reverse(head):\n",
    "  # Write your code here\n",
    "    dummy = Node(None)\n",
    "    dummy.next = head\n",
    "    lp = dummy\n",
    "    rp = head\n",
    "    while (rp is not None) and (rp.data % 2 == 0):\n",
    "        rp = rp.next\n",
    "    while lp is not None:\n",
    "        _flip(lp, rp)\n",
    "        lp, rp = _move_ptrs(lp, rp)\n",
    "    return dummy.next"
   ]
  },
  {
   "cell_type": "code",
   "execution_count": 8,
   "id": "7f3880cf-fd54-4a1d-bcfa-1969ad332ce3",
   "metadata": {},
   "outputs": [],
   "source": [
    "head = Node(1, Node(2, Node(8, Node(9, Node(12, Node(16, None))))))"
   ]
  },
  {
   "cell_type": "code",
   "execution_count": 9,
   "id": "bb56ffc7-a03f-4221-ab78-cf07545b89bb",
   "metadata": {},
   "outputs": [
    {
     "name": "stdout",
     "output_type": "stream",
     "text": [
      "A <__main__.Node object at 0x7f14a0986370> <__main__.Node object at 0x7f14a0986820>\n",
      "A <__main__.Node object at 0x7f14a0986820> <__main__.Node object at 0x7f14a0986400>\n",
      "A <__main__.Node object at 0x7f14a0986400> None\n"
     ]
    },
    {
     "data": {
      "text/plain": [
       "<__main__.Node at 0x7f14a0986820>"
      ]
     },
     "execution_count": 9,
     "metadata": {},
     "output_type": "execute_result"
    }
   ],
   "source": [
    "reverse(head)"
   ]
  }
 ],
 "metadata": {
  "kernelspec": {
   "display_name": "Python 3",
   "language": "python",
   "name": "python3"
  },
  "language_info": {
   "codemirror_mode": {
    "name": "ipython",
    "version": 3
   },
   "file_extension": ".py",
   "mimetype": "text/x-python",
   "name": "python",
   "nbconvert_exporter": "python",
   "pygments_lexer": "ipython3",
   "version": "3.8.10"
  }
 },
 "nbformat": 4,
 "nbformat_minor": 5
}
