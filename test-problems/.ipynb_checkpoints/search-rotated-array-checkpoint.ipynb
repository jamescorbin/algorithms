{
 "cells": [
  {
   "cell_type": "code",
   "execution_count": 11,
   "id": "dfdf7371-4f26-4d76-bf37-65e4defb5c3d",
   "metadata": {},
   "outputs": [
    {
     "data": {
      "text/plain": [
       "-1"
      ]
     },
     "execution_count": 11,
     "metadata": {},
     "output_type": "execute_result"
    }
   ],
   "source": [
    "from typing import List\n",
    "\n",
    "def _rec(nums, target, lp, rp):\n",
    "    x0 = nums[lp]\n",
    "    xm = nums[lp + (rp-lp)//2]\n",
    "    if x0 == target:\n",
    "        ret = lp\n",
    "    elif rp - lp < 2:\n",
    "        ret = -1\n",
    "    elif xm == target:\n",
    "        ret = lp + (rp-lp)//2\n",
    "    else:\n",
    "        if x0 > xm:\n",
    "        # then pivot between\n",
    "            if (x0 <= target) or (target < xm):\n",
    "                nlp = lp\n",
    "                nrp = lp + (rp-lp)//2\n",
    "            else:\n",
    "                nlp = lp + (rp-lp)//2\n",
    "                nrp = rp\n",
    "        else:\n",
    "        # then pivot between midpoint and rp\n",
    "            if (x0 <= target) and (target < xm):\n",
    "                nlp = lp\n",
    "                nrp = lp + (rp-lp)//2\n",
    "            else:\n",
    "                nlp = lp + (rp-lp)//2\n",
    "                nrp = rp\n",
    "        ret = _rec(nums, target, nlp, nrp)\n",
    "    return ret\n",
    "\n",
    "class Solution:\n",
    "    def search(self, nums: List[int], target: int) -> int:\n",
    "        return _rec(nums, target, 0, len(nums))\n",
    "\n",
    "        \n",
    "nums = [4,5,6,7,0,1,2]\n",
    "target = 0\n",
    "nums = [4,5,6,7,0,1,2]\n",
    "target = 3\n",
    "\n",
    "Solution().search(nums, 0)"
   ]
  },
  {
   "cell_type": "code",
   "execution_count": null,
   "id": "98f4bea1-747d-43a0-9c82-c412cea4d040",
   "metadata": {},
   "outputs": [],
   "source": [
    "def _rec(nums, target, lp, rp):\n",
    "    xm = nums[lp + (rp-lp)//2]\n",
    "    if xm == target:\n",
    "        ret = lp + (rp-lp)//2\n",
    "    elif rp - lp < 2:\n",
    "        ret = -1\n",
    "    else:\n",
    "        if (target < xm):\n",
    "            nlp = lp\n",
    "            nrp = lp + (rp-lp)//2\n",
    "        else:\n",
    "            nlp = lp + (rp-lp)//2\n",
    "            nrp = rp\n",
    "        ret = _rec(nums, target, nlp, nrp)\n",
    "    return ret\n",
    "\n",
    "class Solution:\n",
    "    def searchRange(self, nums: List[int], target: int) -> List[int]:\n",
    "        n = len(nums)\n",
    "        if n == 0:\n",
    "            ret = [-1, -1]\n",
    "        else:\n",
    "            getidx = _rec(nums, target, 0, n)\n",
    "            if getidx == -1:\n",
    "                ret = [-1, -1]\n",
    "            else:\n",
    "                pf = getidx + 1\n",
    "                farr = []\n",
    "                while (pf < n) and (nums[pf] == target):\n",
    "                    farr.append(pf)\n",
    "                    pf += 1\n",
    "                pb = getidx - 1\n",
    "                barr = []\n",
    "                while (pb > -1) and (nums[pb] == target):\n",
    "                    barr.append(pb)\n",
    "                    pb -= 1\n",
    "                spos = barr[-1] if len(barr) > 0 else getidx\n",
    "                epos = farr[-1] if len(farr) > 0 else getidx\n",
    "                ret = [spos, epos]\n",
    "        return ret"
   ]
  },
  {
   "cell_type": "code",
   "execution_count": 18,
   "id": "cb94df58-8249-4ee9-885b-7cb1816a6676",
   "metadata": {},
   "outputs": [
    {
     "data": {
      "text/plain": [
       "4"
      ]
     },
     "execution_count": 18,
     "metadata": {},
     "output_type": "execute_result"
    }
   ],
   "source": [
    "def _rec(nums, target, lp, rp):\n",
    "    xm = nums[lp + (rp-lp)//2]\n",
    "    if xm == target:\n",
    "        ret = lp + (rp-lp)//2\n",
    "    elif rp - lp < 2:\n",
    "        if target > nums[lp]:\n",
    "            ret = lp + 1\n",
    "        else:\n",
    "            ret = lp\n",
    "    else:\n",
    "        if (target < xm):\n",
    "            nlp = lp\n",
    "            nrp = lp + (rp-lp)//2\n",
    "        else:\n",
    "            nlp = lp + (rp-lp)//2\n",
    "            nrp = rp\n",
    "        ret = _rec(nums, target, nlp, nrp)\n",
    "    return ret\n",
    "\n",
    "class Solution:\n",
    "    def searchInsert(self, nums: List[int], target: int) -> int:\n",
    "        n = len(nums)\n",
    "        if n > 0:\n",
    "            ret = _rec(nums, target, 0, n)\n",
    "        else:\n",
    "            ret = 0\n",
    "        return ret\n",
    "        \n",
    "nums = [1,3,5,6]\n",
    "target = 5\n",
    "#nums = [1,3,5,6] \n",
    "#target = 2\n",
    "nums = [1,3,5,6]\n",
    "target = 7\n",
    "Solution().searchInsert(nums, target)"
   ]
  },
  {
   "cell_type": "code",
   "execution_count": 35,
   "id": "a30ff4ce-e939-4196-b143-f8a94aa29b63",
   "metadata": {},
   "outputs": [
    {
     "name": "stdout",
     "output_type": "stream",
     "text": [
      "7 7 1 3\n",
      "a 3\n",
      "[5, 6, 7, 1, 2, 3, 4]\n"
     ]
    }
   ],
   "source": [
    "class Solution:\n",
    "    def rotate(self, nums: List[int], k: int) -> None:\n",
    "        \"\"\"\n",
    "        Do not return anything, modify nums in-place instead.\n",
    "        \"\"\"\n",
    "        n = len(nums)\n",
    "        k = k % n\n",
    "        gcd = math.gcd(n, k)\n",
    "        cycles = n // gcd\n",
    "        for l in range(gcd):\n",
    "            tmp = nums[l]\n",
    "            for i in range(cycles - 1):\n",
    "                nums[(n + l - i * k) % n] = (\n",
    "                    nums[(n + l - (i + 1) * k) % n])\n",
    "            a = (n + l - (cycles - 1) * k) % n\n",
    "            nums[(n + l - (cycles - 1) * k) % n] = tmp\n",
    "        \n",
    "    \n",
    "nums = [1,2,3,4,5,6,7]\n",
    "k = 3  \n",
    "Solution().rotate(nums, k)\n",
    "print(nums)"
   ]
  },
  {
   "cell_type": "code",
   "execution_count": 24,
   "id": "31abb52c-aa31-43e2-94a5-471f2fdaef89",
   "metadata": {},
   "outputs": [
    {
     "data": {
      "text/plain": [
       "1"
      ]
     },
     "execution_count": 24,
     "metadata": {},
     "output_type": "execute_result"
    }
   ],
   "source": [
    "import math\n",
    "n = len(nums)\n",
    "math.gcd(n, k)"
   ]
  },
  {
   "cell_type": "code",
   "execution_count": 36,
   "id": "5ecc013e-c4d6-472c-8e4e-80137a95412f",
   "metadata": {},
   "outputs": [
    {
     "data": {
      "text/plain": [
       "[('a', 2), ('s', 2), ('d', 2), ('f', 2)]"
      ]
     },
     "execution_count": 36,
     "metadata": {},
     "output_type": "execute_result"
    }
   ],
   "source": [
    "import collections\n",
    "collections.Counter(\"asdfdsaf\").most_common()"
   ]
  },
  {
   "cell_type": "code",
   "execution_count": null,
   "id": "595745f4-ad33-4afe-abb6-4b0139932459",
   "metadata": {},
   "outputs": [],
   "source": [
    "lcm "
   ]
  },
  {
   "cell_type": "code",
   "execution_count": 37,
   "id": "5f9cae1a-db4e-4599-a70a-e64f53c42820",
   "metadata": {},
   "outputs": [
    {
     "data": {
      "text/plain": [
       "True"
      ]
     },
     "execution_count": 37,
     "metadata": {},
     "output_type": "execute_result"
    }
   ],
   "source": [
    "arr1 = [1, 2, 3]\n",
    "arr2 = [1, 2, 3]\n",
    "arr1 == arr2"
   ]
  }
 ],
 "metadata": {
  "kernelspec": {
   "display_name": "Python 3",
   "language": "python",
   "name": "python3"
  },
  "language_info": {
   "codemirror_mode": {
    "name": "ipython",
    "version": 3
   },
   "file_extension": ".py",
   "mimetype": "text/x-python",
   "name": "python",
   "nbconvert_exporter": "python",
   "pygments_lexer": "ipython3",
   "version": "3.8.10"
  }
 },
 "nbformat": 4,
 "nbformat_minor": 5
}
