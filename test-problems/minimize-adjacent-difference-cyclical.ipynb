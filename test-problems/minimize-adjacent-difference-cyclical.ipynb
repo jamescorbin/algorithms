{
 "cells": [
  {
   "cell_type": "code",
   "execution_count": null,
   "id": "be93b600-8af5-4c31-837f-61ed5b96a8b7",
   "metadata": {},
   "outputs": [],
   "source": [
    "import math\n",
    "import collections\n",
    "\n",
    "# solution sinusoid of period 1\n",
    "def min(arr):\n",
    "    narr = sorted(arr)\n",
    "    mx = narr.pop()\n",
    "    mn = narr[0]\n",
    "    narr = narr[1:]\n",
    "    left = narr[::2]\n",
    "    right = narr[1::2]\n",
    "    left = [mn] + left + [mx]\n",
    "    right = [mn] + right + [mx]\n",
    "    met = 0\n",
    "    for i, x in enumerate(left[:-1]):\n",
    "        val = left[i+1] - x\n",
    "        if val > met:\n",
    "            met = val\n",
    "    for i, x in enumerate(right[:-1]):\n",
    "        val = right[i+1] - x\n",
    "        if val > met:\n",
    "            met = val\n",
    "    return met"
   ]
  }
 ],
 "metadata": {
  "kernelspec": {
   "display_name": "Python 3",
   "language": "python",
   "name": "python3"
  },
  "language_info": {
   "codemirror_mode": {
    "name": "ipython",
    "version": 3
   },
   "file_extension": ".py",
   "mimetype": "text/x-python",
   "name": "python",
   "nbconvert_exporter": "python",
   "pygments_lexer": "ipython3",
   "version": "3.8.10"
  }
 },
 "nbformat": 4,
 "nbformat_minor": 5
}
