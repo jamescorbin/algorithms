{
 "cells": [
  {
   "cell_type": "code",
   "execution_count": 3,
   "id": "ac2245be-4ac6-4ff7-a366-489c89a8b3b1",
   "metadata": {},
   "outputs": [],
   "source": [
    "class ListNode:\n",
    "    def __init__(self, val=0, next=None):\n",
    "        self.val = val\n",
    "        self.next = next\n",
    "    def __repr__(self):\n",
    "        return str(self.__dict__)\n",
    "        \n",
    "def _reverse(node, k):\n",
    "    if (node.next is None):\n",
    "        ret = node.val * 10**k\n",
    "    else:\n",
    "        ret = _reverse(node.next, k+1) + node.val* 10**k\n",
    "    return ret\n",
    "\n",
    "def _make(node, k):\n",
    "    if (k < 10):\n",
    "        node2 = ListNode(k)\n",
    "        node.next = node2\n",
    "        ret = None\n",
    "    else:\n",
    "        d = k % 10\n",
    "        j = k // 10\n",
    "        node2 = ListNode(d)\n",
    "        node.next = node2\n",
    "        ret = _make(node2, j)\n",
    "    return ret\n",
    "\n",
    "class Solution:\n",
    "    def addTwoNumbers(self, l1, l2):\n",
    "        a = _reverse(l1, 0)\n",
    "        b = _reverse(l2, 0)\n",
    "        c = a + b\n",
    "        print(a, b, c)\n",
    "        root = ListNode(None)\n",
    "        _make(root, c)\n",
    "        return root.next\n",
    "        "
   ]
  },
  {
   "cell_type": "code",
   "execution_count": 4,
   "id": "b9961d25-c498-47ee-853e-ca8c472d3b56",
   "metadata": {},
   "outputs": [
    {
     "name": "stdout",
     "output_type": "stream",
     "text": [
      "942 9465 10407\n"
     ]
    },
    {
     "data": {
      "text/plain": [
       "{'val': 7, 'next': {'val': 0, 'next': {'val': 4, 'next': {'val': 0, 'next': {'val': 1, 'next': None}}}}}"
      ]
     },
     "execution_count": 4,
     "metadata": {},
     "output_type": "execute_result"
    }
   ],
   "source": [
    "l1 = ListNode(2, ListNode(4, ListNode(9)))\n",
    "l2 = ListNode(5, ListNode(6, ListNode(4, ListNode(9))))\n",
    "Solution().addTwoNumbers(l1, l2)"
   ]
  }
 ],
 "metadata": {
  "kernelspec": {
   "display_name": "Python 3",
   "language": "python",
   "name": "python3"
  },
  "language_info": {
   "codemirror_mode": {
    "name": "ipython",
    "version": 3
   },
   "file_extension": ".py",
   "mimetype": "text/x-python",
   "name": "python",
   "nbconvert_exporter": "python",
   "pygments_lexer": "ipython3",
   "version": "3.8.10"
  }
 },
 "nbformat": 4,
 "nbformat_minor": 5
}
